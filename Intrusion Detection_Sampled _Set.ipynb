{
 "cells": [
  {
   "cell_type": "markdown",
   "id": "90f04f0e-183b-4666-a815-7cc590ce56ef",
   "metadata": {},
   "source": [
    "## Importing the Libraries"
   ]
  },
  {
   "cell_type": "code",
   "execution_count": 1,
   "id": "6fbc8152-6ebf-48c0-84d0-1d7e24c81f4e",
   "metadata": {},
   "outputs": [],
   "source": [
    "import warnings\n",
    "warnings.filterwarnings(\"ignore\")"
   ]
  },
  {
   "cell_type": "code",
   "execution_count": 2,
   "id": "45e9d437-d9b6-438f-b675-07fe123c180f",
   "metadata": {},
   "outputs": [],
   "source": [
    "import numpy as np\n",
    "import pandas as pd\n",
    "import seaborn as sns\n",
    "import matplotlib.pyplot as plt\n",
    "from sklearn.preprocessing import LabelEncoder\n",
    "from sklearn.model_selection import train_test_split\n",
    "from sklearn.metrics import classification_report,confusion_matrix,accuracy_score,precision_recall_fscore_support\n",
    "from sklearn.metrics import f1_score,roc_auc_score\n",
    "from sklearn.ensemble import RandomForestClassifier,ExtraTreesClassifier\n",
    "from sklearn.tree import DecisionTreeClassifier\n",
    "import xgboost as xgb\n",
    "from xgboost import plot_importance"
   ]
  },
  {
   "cell_type": "code",
   "execution_count": 31,
   "id": "ec62974b-3c77-47d0-90d4-c9fd1246daf5",
   "metadata": {},
   "outputs": [
    {
     "data": {
      "text/html": [
       "<div>\n",
       "<style scoped>\n",
       "    .dataframe tbody tr th:only-of-type {\n",
       "        vertical-align: middle;\n",
       "    }\n",
       "\n",
       "    .dataframe tbody tr th {\n",
       "        vertical-align: top;\n",
       "    }\n",
       "\n",
       "    .dataframe thead th {\n",
       "        text-align: right;\n",
       "    }\n",
       "</style>\n",
       "<table border=\"1\" class=\"dataframe\">\n",
       "  <thead>\n",
       "    <tr style=\"text-align: right;\">\n",
       "      <th></th>\n",
       "      <th>Flow Duration</th>\n",
       "      <th>Total Fwd Packets</th>\n",
       "      <th>Total Backward Packets</th>\n",
       "      <th>Total Length of Fwd Packets</th>\n",
       "      <th>Total Length of Bwd Packets</th>\n",
       "      <th>Fwd Packet Length Max</th>\n",
       "      <th>Fwd Packet Length Min</th>\n",
       "      <th>Fwd Packet Length Mean</th>\n",
       "      <th>Fwd Packet Length Std</th>\n",
       "      <th>Bwd Packet Length Max</th>\n",
       "      <th>...</th>\n",
       "      <th>min_seg_size_forward</th>\n",
       "      <th>Active Mean</th>\n",
       "      <th>Active Std</th>\n",
       "      <th>Active Max</th>\n",
       "      <th>Active Min</th>\n",
       "      <th>Idle Mean</th>\n",
       "      <th>Idle Std</th>\n",
       "      <th>Idle Max</th>\n",
       "      <th>Idle Min</th>\n",
       "      <th>Label</th>\n",
       "    </tr>\n",
       "  </thead>\n",
       "  <tbody>\n",
       "    <tr>\n",
       "      <th>0</th>\n",
       "      <td>4</td>\n",
       "      <td>2</td>\n",
       "      <td>0</td>\n",
       "      <td>37</td>\n",
       "      <td>0</td>\n",
       "      <td>31</td>\n",
       "      <td>6</td>\n",
       "      <td>18.500000</td>\n",
       "      <td>17.677670</td>\n",
       "      <td>0</td>\n",
       "      <td>...</td>\n",
       "      <td>20</td>\n",
       "      <td>0.0</td>\n",
       "      <td>0.0</td>\n",
       "      <td>0</td>\n",
       "      <td>0</td>\n",
       "      <td>0.0</td>\n",
       "      <td>0.0</td>\n",
       "      <td>0</td>\n",
       "      <td>0</td>\n",
       "      <td>BENIGN</td>\n",
       "    </tr>\n",
       "    <tr>\n",
       "      <th>1</th>\n",
       "      <td>142377</td>\n",
       "      <td>46</td>\n",
       "      <td>62</td>\n",
       "      <td>1325</td>\n",
       "      <td>105855</td>\n",
       "      <td>570</td>\n",
       "      <td>0</td>\n",
       "      <td>28.804348</td>\n",
       "      <td>111.407285</td>\n",
       "      <td>4344</td>\n",
       "      <td>...</td>\n",
       "      <td>20</td>\n",
       "      <td>0.0</td>\n",
       "      <td>0.0</td>\n",
       "      <td>0</td>\n",
       "      <td>0</td>\n",
       "      <td>0.0</td>\n",
       "      <td>0.0</td>\n",
       "      <td>0</td>\n",
       "      <td>0</td>\n",
       "      <td>BENIGN</td>\n",
       "    </tr>\n",
       "    <tr>\n",
       "      <th>2</th>\n",
       "      <td>118873</td>\n",
       "      <td>23</td>\n",
       "      <td>28</td>\n",
       "      <td>1169</td>\n",
       "      <td>45025</td>\n",
       "      <td>570</td>\n",
       "      <td>0</td>\n",
       "      <td>50.826087</td>\n",
       "      <td>156.137367</td>\n",
       "      <td>2896</td>\n",
       "      <td>...</td>\n",
       "      <td>32</td>\n",
       "      <td>0.0</td>\n",
       "      <td>0.0</td>\n",
       "      <td>0</td>\n",
       "      <td>0</td>\n",
       "      <td>0.0</td>\n",
       "      <td>0.0</td>\n",
       "      <td>0</td>\n",
       "      <td>0</td>\n",
       "      <td>BENIGN</td>\n",
       "    </tr>\n",
       "    <tr>\n",
       "      <th>3</th>\n",
       "      <td>143577</td>\n",
       "      <td>43</td>\n",
       "      <td>55</td>\n",
       "      <td>1301</td>\n",
       "      <td>107289</td>\n",
       "      <td>570</td>\n",
       "      <td>0</td>\n",
       "      <td>30.255814</td>\n",
       "      <td>115.178969</td>\n",
       "      <td>4344</td>\n",
       "      <td>...</td>\n",
       "      <td>20</td>\n",
       "      <td>0.0</td>\n",
       "      <td>0.0</td>\n",
       "      <td>0</td>\n",
       "      <td>0</td>\n",
       "      <td>0.0</td>\n",
       "      <td>0.0</td>\n",
       "      <td>0</td>\n",
       "      <td>0</td>\n",
       "      <td>BENIGN</td>\n",
       "    </tr>\n",
       "    <tr>\n",
       "      <th>4</th>\n",
       "      <td>143745</td>\n",
       "      <td>49</td>\n",
       "      <td>59</td>\n",
       "      <td>1331</td>\n",
       "      <td>110185</td>\n",
       "      <td>570</td>\n",
       "      <td>0</td>\n",
       "      <td>27.163265</td>\n",
       "      <td>108.067176</td>\n",
       "      <td>4344</td>\n",
       "      <td>...</td>\n",
       "      <td>20</td>\n",
       "      <td>0.0</td>\n",
       "      <td>0.0</td>\n",
       "      <td>0</td>\n",
       "      <td>0</td>\n",
       "      <td>0.0</td>\n",
       "      <td>0.0</td>\n",
       "      <td>0</td>\n",
       "      <td>0</td>\n",
       "      <td>BENIGN</td>\n",
       "    </tr>\n",
       "    <tr>\n",
       "      <th>...</th>\n",
       "      <td>...</td>\n",
       "      <td>...</td>\n",
       "      <td>...</td>\n",
       "      <td>...</td>\n",
       "      <td>...</td>\n",
       "      <td>...</td>\n",
       "      <td>...</td>\n",
       "      <td>...</td>\n",
       "      <td>...</td>\n",
       "      <td>...</td>\n",
       "      <td>...</td>\n",
       "      <td>...</td>\n",
       "      <td>...</td>\n",
       "      <td>...</td>\n",
       "      <td>...</td>\n",
       "      <td>...</td>\n",
       "      <td>...</td>\n",
       "      <td>...</td>\n",
       "      <td>...</td>\n",
       "      <td>...</td>\n",
       "      <td>...</td>\n",
       "    </tr>\n",
       "    <tr>\n",
       "      <th>56656</th>\n",
       "      <td>234</td>\n",
       "      <td>2</td>\n",
       "      <td>2</td>\n",
       "      <td>64</td>\n",
       "      <td>232</td>\n",
       "      <td>32</td>\n",
       "      <td>32</td>\n",
       "      <td>32.000000</td>\n",
       "      <td>0.000000</td>\n",
       "      <td>116</td>\n",
       "      <td>...</td>\n",
       "      <td>32</td>\n",
       "      <td>0.0</td>\n",
       "      <td>0.0</td>\n",
       "      <td>0</td>\n",
       "      <td>0</td>\n",
       "      <td>0.0</td>\n",
       "      <td>0.0</td>\n",
       "      <td>0</td>\n",
       "      <td>0</td>\n",
       "      <td>BENIGN</td>\n",
       "    </tr>\n",
       "    <tr>\n",
       "      <th>56657</th>\n",
       "      <td>133288</td>\n",
       "      <td>2</td>\n",
       "      <td>2</td>\n",
       "      <td>94</td>\n",
       "      <td>482</td>\n",
       "      <td>47</td>\n",
       "      <td>47</td>\n",
       "      <td>47.000000</td>\n",
       "      <td>0.000000</td>\n",
       "      <td>241</td>\n",
       "      <td>...</td>\n",
       "      <td>32</td>\n",
       "      <td>0.0</td>\n",
       "      <td>0.0</td>\n",
       "      <td>0</td>\n",
       "      <td>0</td>\n",
       "      <td>0.0</td>\n",
       "      <td>0.0</td>\n",
       "      <td>0</td>\n",
       "      <td>0</td>\n",
       "      <td>BENIGN</td>\n",
       "    </tr>\n",
       "    <tr>\n",
       "      <th>56658</th>\n",
       "      <td>11507694</td>\n",
       "      <td>5</td>\n",
       "      <td>4</td>\n",
       "      <td>450</td>\n",
       "      <td>3525</td>\n",
       "      <td>450</td>\n",
       "      <td>0</td>\n",
       "      <td>90.000000</td>\n",
       "      <td>201.246118</td>\n",
       "      <td>3525</td>\n",
       "      <td>...</td>\n",
       "      <td>32</td>\n",
       "      <td>893.0</td>\n",
       "      <td>0.0</td>\n",
       "      <td>893</td>\n",
       "      <td>893</td>\n",
       "      <td>6503640.0</td>\n",
       "      <td>0.0</td>\n",
       "      <td>6503640</td>\n",
       "      <td>6503640</td>\n",
       "      <td>DoS</td>\n",
       "    </tr>\n",
       "    <tr>\n",
       "      <th>56659</th>\n",
       "      <td>11507707</td>\n",
       "      <td>8</td>\n",
       "      <td>6</td>\n",
       "      <td>416</td>\n",
       "      <td>11632</td>\n",
       "      <td>416</td>\n",
       "      <td>0</td>\n",
       "      <td>52.000000</td>\n",
       "      <td>147.078211</td>\n",
       "      <td>5792</td>\n",
       "      <td>...</td>\n",
       "      <td>32</td>\n",
       "      <td>897.0</td>\n",
       "      <td>0.0</td>\n",
       "      <td>897</td>\n",
       "      <td>897</td>\n",
       "      <td>6503122.0</td>\n",
       "      <td>0.0</td>\n",
       "      <td>6503122</td>\n",
       "      <td>6503122</td>\n",
       "      <td>DoS</td>\n",
       "    </tr>\n",
       "    <tr>\n",
       "      <th>56660</th>\n",
       "      <td>11512204</td>\n",
       "      <td>8</td>\n",
       "      <td>5</td>\n",
       "      <td>326</td>\n",
       "      <td>11632</td>\n",
       "      <td>326</td>\n",
       "      <td>0</td>\n",
       "      <td>40.750000</td>\n",
       "      <td>115.258405</td>\n",
       "      <td>10184</td>\n",
       "      <td>...</td>\n",
       "      <td>32</td>\n",
       "      <td>892.0</td>\n",
       "      <td>0.0</td>\n",
       "      <td>892</td>\n",
       "      <td>892</td>\n",
       "      <td>6507197.0</td>\n",
       "      <td>0.0</td>\n",
       "      <td>6507197</td>\n",
       "      <td>6507197</td>\n",
       "      <td>DoS</td>\n",
       "    </tr>\n",
       "  </tbody>\n",
       "</table>\n",
       "<p>56661 rows × 78 columns</p>\n",
       "</div>"
      ],
      "text/plain": [
       "       Flow Duration  Total Fwd Packets  Total Backward Packets  \\\n",
       "0                  4                  2                       0   \n",
       "1             142377                 46                      62   \n",
       "2             118873                 23                      28   \n",
       "3             143577                 43                      55   \n",
       "4             143745                 49                      59   \n",
       "...              ...                ...                     ...   \n",
       "56656            234                  2                       2   \n",
       "56657         133288                  2                       2   \n",
       "56658       11507694                  5                       4   \n",
       "56659       11507707                  8                       6   \n",
       "56660       11512204                  8                       5   \n",
       "\n",
       "       Total Length of Fwd Packets  Total Length of Bwd Packets  \\\n",
       "0                               37                            0   \n",
       "1                             1325                       105855   \n",
       "2                             1169                        45025   \n",
       "3                             1301                       107289   \n",
       "4                             1331                       110185   \n",
       "...                            ...                          ...   \n",
       "56656                           64                          232   \n",
       "56657                           94                          482   \n",
       "56658                          450                         3525   \n",
       "56659                          416                        11632   \n",
       "56660                          326                        11632   \n",
       "\n",
       "       Fwd Packet Length Max  Fwd Packet Length Min  Fwd Packet Length Mean  \\\n",
       "0                         31                      6               18.500000   \n",
       "1                        570                      0               28.804348   \n",
       "2                        570                      0               50.826087   \n",
       "3                        570                      0               30.255814   \n",
       "4                        570                      0               27.163265   \n",
       "...                      ...                    ...                     ...   \n",
       "56656                     32                     32               32.000000   \n",
       "56657                     47                     47               47.000000   \n",
       "56658                    450                      0               90.000000   \n",
       "56659                    416                      0               52.000000   \n",
       "56660                    326                      0               40.750000   \n",
       "\n",
       "       Fwd Packet Length Std  Bwd Packet Length Max  ...  \\\n",
       "0                  17.677670                      0  ...   \n",
       "1                 111.407285                   4344  ...   \n",
       "2                 156.137367                   2896  ...   \n",
       "3                 115.178969                   4344  ...   \n",
       "4                 108.067176                   4344  ...   \n",
       "...                      ...                    ...  ...   \n",
       "56656               0.000000                    116  ...   \n",
       "56657               0.000000                    241  ...   \n",
       "56658             201.246118                   3525  ...   \n",
       "56659             147.078211                   5792  ...   \n",
       "56660             115.258405                  10184  ...   \n",
       "\n",
       "       min_seg_size_forward  Active Mean  Active Std  Active Max  Active Min  \\\n",
       "0                        20          0.0         0.0           0           0   \n",
       "1                        20          0.0         0.0           0           0   \n",
       "2                        32          0.0         0.0           0           0   \n",
       "3                        20          0.0         0.0           0           0   \n",
       "4                        20          0.0         0.0           0           0   \n",
       "...                     ...          ...         ...         ...         ...   \n",
       "56656                    32          0.0         0.0           0           0   \n",
       "56657                    32          0.0         0.0           0           0   \n",
       "56658                    32        893.0         0.0         893         893   \n",
       "56659                    32        897.0         0.0         897         897   \n",
       "56660                    32        892.0         0.0         892         892   \n",
       "\n",
       "       Idle Mean  Idle Std  Idle Max  Idle Min   Label  \n",
       "0            0.0       0.0         0         0  BENIGN  \n",
       "1            0.0       0.0         0         0  BENIGN  \n",
       "2            0.0       0.0         0         0  BENIGN  \n",
       "3            0.0       0.0         0         0  BENIGN  \n",
       "4            0.0       0.0         0         0  BENIGN  \n",
       "...          ...       ...       ...       ...     ...  \n",
       "56656        0.0       0.0         0         0  BENIGN  \n",
       "56657        0.0       0.0         0         0  BENIGN  \n",
       "56658  6503640.0       0.0   6503640   6503640     DoS  \n",
       "56659  6503122.0       0.0   6503122   6503122     DoS  \n",
       "56660  6507197.0       0.0   6507197   6507197     DoS  \n",
       "\n",
       "[56661 rows x 78 columns]"
      ]
     },
     "execution_count": 31,
     "metadata": {},
     "output_type": "execute_result"
    }
   ],
   "source": [
    "#Read dataset\n",
    "df = pd.read_csv('./data/CICIDS2017_sample.csv') \n",
    "df"
   ]
  },
  {
   "cell_type": "code",
   "execution_count": 32,
   "id": "e119e353-5e74-4950-b8f8-8e0a237a606d",
   "metadata": {},
   "outputs": [
    {
     "data": {
      "text/plain": [
       "Label\n",
       "BENIGN          22731\n",
       "DoS             19035\n",
       "PortScan         7946\n",
       "BruteForce       2767\n",
       "WebAttack        2180\n",
       "Bot              1966\n",
       "Infiltration       36\n",
       "Name: count, dtype: int64"
      ]
     },
     "execution_count": 32,
     "metadata": {},
     "output_type": "execute_result"
    }
   ],
   "source": [
    "df.Label.value_counts()"
   ]
  },
  {
   "cell_type": "markdown",
   "id": "dec1e4a4-b8e3-486b-bf5d-835cc6f9d8ea",
   "metadata": {},
   "source": [
    "### Preprocessing (normalization and padding values)\n"
   ]
  },
  {
   "cell_type": "code",
   "execution_count": 33,
   "id": "f387e72b-da70-4c98-99d7-c5b4b87a4dd4",
   "metadata": {},
   "outputs": [],
   "source": [
    "# Z-score normalization\n",
    "features = df.dtypes[df.dtypes != 'object'].index\n",
    "df[features] = df[features].apply(\n",
    "    lambda x: (x - x.mean()) / (x.std()))\n",
    "# Fill empty values by 0\n",
    "df = df.fillna(0)"
   ]
  },
  {
   "cell_type": "raw",
   "id": "430151d9-a164-4d95-b9ea-4f628ce1cfca",
   "metadata": {},
   "source": [
    "EXAMPLE\n",
    "\n",
    "\n",
    "Original DataFrame:\r\n",
    "     A   B     C\r\n",
    "0  1.0  10   foo\r\n",
    "1  2.0  20   bar\r\n",
    "2  3.0  30   baz\r\n",
    "3  NaN  40   qux\r\n",
    "4  5.0  50  quux\r\n",
    "\r\n",
    "Normalized DataFrame:\r\n",
    "          A         B     C\r\n",
    "0 -1.183216 -1.414214   foo\r\n",
    "1 -0.507093 -0.707107   bar\r\n",
    "2  0.169031  0.000000   baz\r\n",
    "3  0.000000  0.707107   qux\r\n",
    "4  1.521278  1.414214  quux\r\n"
   ]
  },
  {
   "cell_type": "markdown",
   "id": "ff3f8bd7-b403-4219-90c9-ae3167772c36",
   "metadata": {},
   "source": [
    "### Data sampling\n"
   ]
  },
  {
   "cell_type": "code",
   "execution_count": 34,
   "id": "e89008c6-9b99-49c2-9375-0cc5315a0122",
   "metadata": {},
   "outputs": [],
   "source": [
    "labelencoder = LabelEncoder()\n",
    "df.iloc[:, -1] = labelencoder.fit_transform(df.iloc[:, -1])"
   ]
  },
  {
   "cell_type": "code",
   "execution_count": 35,
   "id": "7aa8e28b-f06e-4581-aafe-c3d31eb20c9c",
   "metadata": {},
   "outputs": [
    {
     "data": {
      "text/plain": [
       "Label\n",
       "0    22731\n",
       "3    19035\n",
       "5     7946\n",
       "2     2767\n",
       "6     2180\n",
       "1     1966\n",
       "4       36\n",
       "Name: count, dtype: int64"
      ]
     },
     "execution_count": 35,
     "metadata": {},
     "output_type": "execute_result"
    }
   ],
   "source": [
    "df.Label.value_counts()"
   ]
  },
  {
   "cell_type": "raw",
   "id": "53347a93-868c-42a5-89c5-2dd4999d45fc",
   "metadata": {},
   "source": [
    "Original DataFrame:\n",
    "   Feature1 Feature2\n",
    "0         1        A\n",
    "1         2        B\n",
    "2         3        A\n",
    "3         4        C\n",
    "\n",
    "Transformed DataFrame:\n",
    "   Feature1  Feature2\n",
    "0         1         0\n",
    "1         2         1\n",
    "2         3         0\n",
    "3         4         2\n"
   ]
  },
  {
   "cell_type": "markdown",
   "id": "02ec9604-a523-4de1-9a03-c0c35f408f93",
   "metadata": {},
   "source": [
    "Here the minority class instances are of the indexes 6,1,4 (the last 3 instances)"
   ]
  },
  {
   "cell_type": "code",
   "execution_count": 36,
   "id": "93eaa8dc-b739-45e2-9eef-269b3e82a047",
   "metadata": {},
   "outputs": [],
   "source": [
    "# retain the minority class instances and sample the majority class instances\n",
    "df_minor = df[(df['Label']==6)|(df['Label']==1)|(df['Label']==4)]\n",
    "df_major = df.drop(df_minor.index)"
   ]
  },
  {
   "cell_type": "code",
   "execution_count": 37,
   "id": "f91ab1e2-c127-4165-8b83-3b43926cf3b3",
   "metadata": {},
   "outputs": [],
   "source": [
    "X = df_major.drop(['Label'],axis=1) \n",
    "y = df_major.iloc[:, -1].values.reshape(-1,1)\n",
    "y=np.ravel(y)"
   ]
  },
  {
   "cell_type": "code",
   "execution_count": 38,
   "id": "ed5be609-c2f6-40dc-a317-c23e07adf798",
   "metadata": {},
   "outputs": [
    {
     "data": {
      "text/plain": [
       "klabel\n",
       "451    546\n",
       "185    487\n",
       "79     369\n",
       "505    348\n",
       "956    320\n",
       "      ... \n",
       "397      2\n",
       "775      2\n",
       "542      2\n",
       "665      2\n",
       "12       1\n",
       "Name: count, Length: 981, dtype: int64"
      ]
     },
     "execution_count": 38,
     "metadata": {},
     "output_type": "execute_result"
    }
   ],
   "source": [
    "# use k-means to cluster the data samples and select a proportion of data from each cluster\n",
    "from sklearn.cluster import MiniBatchKMeans\n",
    "kmeans = MiniBatchKMeans(n_clusters=1000, random_state=0).fit(X)\n",
    "\n",
    "klabel=kmeans.labels_\n",
    "df_major['klabel']=klabel\n",
    "\n",
    "df_major['klabel'].value_counts()"
   ]
  },
  {
   "cell_type": "raw",
   "id": "658b396c-c41b-450b-a19e-36a45ed3417b",
   "metadata": {},
   "source": [
    "MiniBatchKMeans is fitted on the feature matrix X.\n",
    "n_clusters=1000: Specifies the number of clusters.\n",
    "random_state=0: Ensures reproducibility."
   ]
  },
  {
   "cell_type": "raw",
   "id": "a83787a2-780f-49b5-b9aa-56b996762d5f",
   "metadata": {},
   "source": [
    "kmeans.labels_ provides the cluster label for each sample in X.\n",
    "We add these labels as a new column klabel in df_major."
   ]
  },
  {
   "cell_type": "raw",
   "id": "617e4ce1-2cd0-4868-a454-27dd792d754d",
   "metadata": {},
   "source": [
    "value_counts() gives the number of samples in each cluster.\n",
    "We group the DataFrame by klabel and use apply with a lambda function to sample a fraction (frac=proportion) of the data from each cluster.\n",
    "reset_index(drop=True): Resets the index of the resulting DataFrame."
   ]
  },
  {
   "cell_type": "markdown",
   "id": "c6183034-50d5-492f-9666-29201e67d43e",
   "metadata": {},
   "source": [
    "The purpose of this code is to perform K-means clustering on a dataset (X) and then analyze the distribution of data points across the clusters. This information can be used for various purposes such as:\r\n",
    "\r\n",
    "Understanding the natural groupings or patterns in the data.\r\n",
    "Segmenting the data for further analysis or targeted actions.\r\n",
    "Selecting representative samples from each cluster for downstream ta\n",
    "\n",
    "## Eg\n",
    " Assuming df_major is a DataFrame containing the data and X is the feature matrix, the output of df_major['klabel'].value_counts() will be a Series where the index represents the cluster labels and the values represent the number of data points in each cluster.sks."
   ]
  },
  {
   "cell_type": "raw",
   "id": "6aa43e45-06db-4103-89ba-e4cbf0e28b27",
   "metadata": {},
   "source": [
    "Cluster  Count\n",
    "0        1500\n",
    "1        1200\n",
    "2         900\n",
    "...\n",
    "999       800\n"
   ]
  },
  {
   "cell_type": "markdown",
   "id": "21457314-1a0a-4936-b77e-27a27cb1a3cc",
   "metadata": {},
   "source": [
    "This output indicates that there are 1500 data points in cluster 0, 1200 data points in cluster 1, 900 data points in cluster 2, and so on."
   ]
  },
  {
   "cell_type": "code",
   "execution_count": 39,
   "id": "6997abd9-79f7-427e-bc87-285a1f66a614",
   "metadata": {},
   "outputs": [],
   "source": [
    "cols = list(df_major)\n",
    "cols.insert(78, cols.pop(cols.index('Label')))\n",
    "df_major = df_major.loc[:, cols]"
   ]
  },
  {
   "cell_type": "code",
   "execution_count": 40,
   "id": "f79d0424-5e4f-4289-bd2a-07de8fe8d3c9",
   "metadata": {},
   "outputs": [
    {
     "data": {
      "text/html": [
       "<div>\n",
       "<style scoped>\n",
       "    .dataframe tbody tr th:only-of-type {\n",
       "        vertical-align: middle;\n",
       "    }\n",
       "\n",
       "    .dataframe tbody tr th {\n",
       "        vertical-align: top;\n",
       "    }\n",
       "\n",
       "    .dataframe thead th {\n",
       "        text-align: right;\n",
       "    }\n",
       "</style>\n",
       "<table border=\"1\" class=\"dataframe\">\n",
       "  <thead>\n",
       "    <tr style=\"text-align: right;\">\n",
       "      <th></th>\n",
       "      <th>Flow Duration</th>\n",
       "      <th>Total Fwd Packets</th>\n",
       "      <th>Total Backward Packets</th>\n",
       "      <th>Total Length of Fwd Packets</th>\n",
       "      <th>Total Length of Bwd Packets</th>\n",
       "      <th>Fwd Packet Length Max</th>\n",
       "      <th>Fwd Packet Length Min</th>\n",
       "      <th>Fwd Packet Length Mean</th>\n",
       "      <th>Fwd Packet Length Std</th>\n",
       "      <th>Bwd Packet Length Max</th>\n",
       "      <th>...</th>\n",
       "      <th>Active Mean</th>\n",
       "      <th>Active Std</th>\n",
       "      <th>Active Max</th>\n",
       "      <th>Active Min</th>\n",
       "      <th>Idle Mean</th>\n",
       "      <th>Idle Std</th>\n",
       "      <th>Idle Max</th>\n",
       "      <th>Idle Min</th>\n",
       "      <th>klabel</th>\n",
       "      <th>Label</th>\n",
       "    </tr>\n",
       "  </thead>\n",
       "  <tbody>\n",
       "    <tr>\n",
       "      <th>0</th>\n",
       "      <td>-0.528470</td>\n",
       "      <td>-0.068426</td>\n",
       "      <td>-0.081806</td>\n",
       "      <td>-0.032573</td>\n",
       "      <td>-0.048343</td>\n",
       "      <td>-0.202326</td>\n",
       "      <td>-0.085798</td>\n",
       "      <td>-0.141625</td>\n",
       "      <td>-0.176448</td>\n",
       "      <td>-0.559719</td>\n",
       "      <td>...</td>\n",
       "      <td>-0.109889</td>\n",
       "      <td>-0.081786</td>\n",
       "      <td>-0.128620</td>\n",
       "      <td>-0.094860</td>\n",
       "      <td>-0.458729</td>\n",
       "      <td>-0.137651</td>\n",
       "      <td>-0.466440</td>\n",
       "      <td>-0.442057</td>\n",
       "      <td>133</td>\n",
       "      <td>0</td>\n",
       "    </tr>\n",
       "    <tr>\n",
       "      <th>1</th>\n",
       "      <td>-0.524593</td>\n",
       "      <td>0.704878</td>\n",
       "      <td>0.850340</td>\n",
       "      <td>0.027749</td>\n",
       "      <td>0.920410</td>\n",
       "      <td>0.603275</td>\n",
       "      <td>-0.211174</td>\n",
       "      <td>-0.082434</td>\n",
       "      <td>0.240596</td>\n",
       "      <td>1.006302</td>\n",
       "      <td>...</td>\n",
       "      <td>-0.109889</td>\n",
       "      <td>-0.081786</td>\n",
       "      <td>-0.128620</td>\n",
       "      <td>-0.094860</td>\n",
       "      <td>-0.458729</td>\n",
       "      <td>-0.137651</td>\n",
       "      <td>-0.466440</td>\n",
       "      <td>-0.442057</td>\n",
       "      <td>406</td>\n",
       "      <td>0</td>\n",
       "    </tr>\n",
       "    <tr>\n",
       "      <th>2</th>\n",
       "      <td>-0.525233</td>\n",
       "      <td>0.300651</td>\n",
       "      <td>0.339163</td>\n",
       "      <td>0.020443</td>\n",
       "      <td>0.363712</td>\n",
       "      <td>0.603275</td>\n",
       "      <td>-0.211174</td>\n",
       "      <td>0.044064</td>\n",
       "      <td>0.439619</td>\n",
       "      <td>0.484295</td>\n",
       "      <td>...</td>\n",
       "      <td>-0.109889</td>\n",
       "      <td>-0.081786</td>\n",
       "      <td>-0.128620</td>\n",
       "      <td>-0.094860</td>\n",
       "      <td>-0.458729</td>\n",
       "      <td>-0.137651</td>\n",
       "      <td>-0.466440</td>\n",
       "      <td>-0.442057</td>\n",
       "      <td>682</td>\n",
       "      <td>0</td>\n",
       "    </tr>\n",
       "    <tr>\n",
       "      <th>3</th>\n",
       "      <td>-0.524560</td>\n",
       "      <td>0.652153</td>\n",
       "      <td>0.745098</td>\n",
       "      <td>0.026625</td>\n",
       "      <td>0.933533</td>\n",
       "      <td>0.603275</td>\n",
       "      <td>-0.211174</td>\n",
       "      <td>-0.074097</td>\n",
       "      <td>0.257378</td>\n",
       "      <td>1.006302</td>\n",
       "      <td>...</td>\n",
       "      <td>-0.109889</td>\n",
       "      <td>-0.081786</td>\n",
       "      <td>-0.128620</td>\n",
       "      <td>-0.094860</td>\n",
       "      <td>-0.458729</td>\n",
       "      <td>-0.137651</td>\n",
       "      <td>-0.466440</td>\n",
       "      <td>-0.442057</td>\n",
       "      <td>406</td>\n",
       "      <td>0</td>\n",
       "    </tr>\n",
       "    <tr>\n",
       "      <th>4</th>\n",
       "      <td>-0.524555</td>\n",
       "      <td>0.757604</td>\n",
       "      <td>0.805237</td>\n",
       "      <td>0.028030</td>\n",
       "      <td>0.960037</td>\n",
       "      <td>0.603275</td>\n",
       "      <td>-0.211174</td>\n",
       "      <td>-0.091861</td>\n",
       "      <td>0.225734</td>\n",
       "      <td>1.006302</td>\n",
       "      <td>...</td>\n",
       "      <td>-0.109889</td>\n",
       "      <td>-0.081786</td>\n",
       "      <td>-0.128620</td>\n",
       "      <td>-0.094860</td>\n",
       "      <td>-0.458729</td>\n",
       "      <td>-0.137651</td>\n",
       "      <td>-0.466440</td>\n",
       "      <td>-0.442057</td>\n",
       "      <td>406</td>\n",
       "      <td>0</td>\n",
       "    </tr>\n",
       "    <tr>\n",
       "      <th>...</th>\n",
       "      <td>...</td>\n",
       "      <td>...</td>\n",
       "      <td>...</td>\n",
       "      <td>...</td>\n",
       "      <td>...</td>\n",
       "      <td>...</td>\n",
       "      <td>...</td>\n",
       "      <td>...</td>\n",
       "      <td>...</td>\n",
       "      <td>...</td>\n",
       "      <td>...</td>\n",
       "      <td>...</td>\n",
       "      <td>...</td>\n",
       "      <td>...</td>\n",
       "      <td>...</td>\n",
       "      <td>...</td>\n",
       "      <td>...</td>\n",
       "      <td>...</td>\n",
       "      <td>...</td>\n",
       "      <td>...</td>\n",
       "      <td>...</td>\n",
       "    </tr>\n",
       "    <tr>\n",
       "      <th>56656</th>\n",
       "      <td>-0.528463</td>\n",
       "      <td>-0.068426</td>\n",
       "      <td>-0.051737</td>\n",
       "      <td>-0.031309</td>\n",
       "      <td>-0.046220</td>\n",
       "      <td>-0.200831</td>\n",
       "      <td>0.457498</td>\n",
       "      <td>-0.064078</td>\n",
       "      <td>-0.255104</td>\n",
       "      <td>-0.517901</td>\n",
       "      <td>...</td>\n",
       "      <td>-0.109889</td>\n",
       "      <td>-0.081786</td>\n",
       "      <td>-0.128620</td>\n",
       "      <td>-0.094860</td>\n",
       "      <td>-0.458729</td>\n",
       "      <td>-0.137651</td>\n",
       "      <td>-0.466440</td>\n",
       "      <td>-0.442057</td>\n",
       "      <td>851</td>\n",
       "      <td>0</td>\n",
       "    </tr>\n",
       "    <tr>\n",
       "      <th>56657</th>\n",
       "      <td>-0.524840</td>\n",
       "      <td>-0.068426</td>\n",
       "      <td>-0.051737</td>\n",
       "      <td>-0.029904</td>\n",
       "      <td>-0.043932</td>\n",
       "      <td>-0.178412</td>\n",
       "      <td>0.770939</td>\n",
       "      <td>0.022086</td>\n",
       "      <td>-0.255104</td>\n",
       "      <td>-0.472838</td>\n",
       "      <td>...</td>\n",
       "      <td>-0.109889</td>\n",
       "      <td>-0.081786</td>\n",
       "      <td>-0.128620</td>\n",
       "      <td>-0.094860</td>\n",
       "      <td>-0.458729</td>\n",
       "      <td>-0.137651</td>\n",
       "      <td>-0.466440</td>\n",
       "      <td>-0.442057</td>\n",
       "      <td>976</td>\n",
       "      <td>0</td>\n",
       "    </tr>\n",
       "    <tr>\n",
       "      <th>56658</th>\n",
       "      <td>-0.215111</td>\n",
       "      <td>-0.015701</td>\n",
       "      <td>-0.021667</td>\n",
       "      <td>-0.013231</td>\n",
       "      <td>-0.016083</td>\n",
       "      <td>0.423920</td>\n",
       "      <td>-0.211174</td>\n",
       "      <td>0.269089</td>\n",
       "      <td>0.640328</td>\n",
       "      <td>0.711051</td>\n",
       "      <td>...</td>\n",
       "      <td>-0.108682</td>\n",
       "      <td>-0.081786</td>\n",
       "      <td>-0.127669</td>\n",
       "      <td>-0.093554</td>\n",
       "      <td>-0.256386</td>\n",
       "      <td>-0.137651</td>\n",
       "      <td>-0.269448</td>\n",
       "      <td>-0.238252</td>\n",
       "      <td>348</td>\n",
       "      <td>3</td>\n",
       "    </tr>\n",
       "    <tr>\n",
       "      <th>56659</th>\n",
       "      <td>-0.215111</td>\n",
       "      <td>0.037025</td>\n",
       "      <td>0.008402</td>\n",
       "      <td>-0.014823</td>\n",
       "      <td>0.058109</td>\n",
       "      <td>0.373103</td>\n",
       "      <td>-0.211174</td>\n",
       "      <td>0.050807</td>\n",
       "      <td>0.399311</td>\n",
       "      <td>1.528310</td>\n",
       "      <td>...</td>\n",
       "      <td>-0.108677</td>\n",
       "      <td>-0.081786</td>\n",
       "      <td>-0.127664</td>\n",
       "      <td>-0.093548</td>\n",
       "      <td>-0.256402</td>\n",
       "      <td>-0.137651</td>\n",
       "      <td>-0.269464</td>\n",
       "      <td>-0.238268</td>\n",
       "      <td>980</td>\n",
       "      <td>3</td>\n",
       "    </tr>\n",
       "    <tr>\n",
       "      <th>56660</th>\n",
       "      <td>-0.214989</td>\n",
       "      <td>0.037025</td>\n",
       "      <td>-0.006633</td>\n",
       "      <td>-0.019038</td>\n",
       "      <td>0.058109</td>\n",
       "      <td>0.238587</td>\n",
       "      <td>-0.211174</td>\n",
       "      <td>-0.013815</td>\n",
       "      <td>0.257731</td>\n",
       "      <td>3.111635</td>\n",
       "      <td>...</td>\n",
       "      <td>-0.108683</td>\n",
       "      <td>-0.081786</td>\n",
       "      <td>-0.127670</td>\n",
       "      <td>-0.093555</td>\n",
       "      <td>-0.256275</td>\n",
       "      <td>-0.137651</td>\n",
       "      <td>-0.269340</td>\n",
       "      <td>-0.238140</td>\n",
       "      <td>328</td>\n",
       "      <td>3</td>\n",
       "    </tr>\n",
       "  </tbody>\n",
       "</table>\n",
       "<p>52479 rows × 79 columns</p>\n",
       "</div>"
      ],
      "text/plain": [
       "       Flow Duration  Total Fwd Packets  Total Backward Packets  \\\n",
       "0          -0.528470          -0.068426               -0.081806   \n",
       "1          -0.524593           0.704878                0.850340   \n",
       "2          -0.525233           0.300651                0.339163   \n",
       "3          -0.524560           0.652153                0.745098   \n",
       "4          -0.524555           0.757604                0.805237   \n",
       "...              ...                ...                     ...   \n",
       "56656      -0.528463          -0.068426               -0.051737   \n",
       "56657      -0.524840          -0.068426               -0.051737   \n",
       "56658      -0.215111          -0.015701               -0.021667   \n",
       "56659      -0.215111           0.037025                0.008402   \n",
       "56660      -0.214989           0.037025               -0.006633   \n",
       "\n",
       "       Total Length of Fwd Packets  Total Length of Bwd Packets  \\\n",
       "0                        -0.032573                    -0.048343   \n",
       "1                         0.027749                     0.920410   \n",
       "2                         0.020443                     0.363712   \n",
       "3                         0.026625                     0.933533   \n",
       "4                         0.028030                     0.960037   \n",
       "...                            ...                          ...   \n",
       "56656                    -0.031309                    -0.046220   \n",
       "56657                    -0.029904                    -0.043932   \n",
       "56658                    -0.013231                    -0.016083   \n",
       "56659                    -0.014823                     0.058109   \n",
       "56660                    -0.019038                     0.058109   \n",
       "\n",
       "       Fwd Packet Length Max  Fwd Packet Length Min  Fwd Packet Length Mean  \\\n",
       "0                  -0.202326              -0.085798               -0.141625   \n",
       "1                   0.603275              -0.211174               -0.082434   \n",
       "2                   0.603275              -0.211174                0.044064   \n",
       "3                   0.603275              -0.211174               -0.074097   \n",
       "4                   0.603275              -0.211174               -0.091861   \n",
       "...                      ...                    ...                     ...   \n",
       "56656              -0.200831               0.457498               -0.064078   \n",
       "56657              -0.178412               0.770939                0.022086   \n",
       "56658               0.423920              -0.211174                0.269089   \n",
       "56659               0.373103              -0.211174                0.050807   \n",
       "56660               0.238587              -0.211174               -0.013815   \n",
       "\n",
       "       Fwd Packet Length Std  Bwd Packet Length Max  ...  Active Mean  \\\n",
       "0                  -0.176448              -0.559719  ...    -0.109889   \n",
       "1                   0.240596               1.006302  ...    -0.109889   \n",
       "2                   0.439619               0.484295  ...    -0.109889   \n",
       "3                   0.257378               1.006302  ...    -0.109889   \n",
       "4                   0.225734               1.006302  ...    -0.109889   \n",
       "...                      ...                    ...  ...          ...   \n",
       "56656              -0.255104              -0.517901  ...    -0.109889   \n",
       "56657              -0.255104              -0.472838  ...    -0.109889   \n",
       "56658               0.640328               0.711051  ...    -0.108682   \n",
       "56659               0.399311               1.528310  ...    -0.108677   \n",
       "56660               0.257731               3.111635  ...    -0.108683   \n",
       "\n",
       "       Active Std  Active Max  Active Min  Idle Mean  Idle Std  Idle Max  \\\n",
       "0       -0.081786   -0.128620   -0.094860  -0.458729 -0.137651 -0.466440   \n",
       "1       -0.081786   -0.128620   -0.094860  -0.458729 -0.137651 -0.466440   \n",
       "2       -0.081786   -0.128620   -0.094860  -0.458729 -0.137651 -0.466440   \n",
       "3       -0.081786   -0.128620   -0.094860  -0.458729 -0.137651 -0.466440   \n",
       "4       -0.081786   -0.128620   -0.094860  -0.458729 -0.137651 -0.466440   \n",
       "...           ...         ...         ...        ...       ...       ...   \n",
       "56656   -0.081786   -0.128620   -0.094860  -0.458729 -0.137651 -0.466440   \n",
       "56657   -0.081786   -0.128620   -0.094860  -0.458729 -0.137651 -0.466440   \n",
       "56658   -0.081786   -0.127669   -0.093554  -0.256386 -0.137651 -0.269448   \n",
       "56659   -0.081786   -0.127664   -0.093548  -0.256402 -0.137651 -0.269464   \n",
       "56660   -0.081786   -0.127670   -0.093555  -0.256275 -0.137651 -0.269340   \n",
       "\n",
       "       Idle Min  klabel  Label  \n",
       "0     -0.442057     133      0  \n",
       "1     -0.442057     406      0  \n",
       "2     -0.442057     682      0  \n",
       "3     -0.442057     406      0  \n",
       "4     -0.442057     406      0  \n",
       "...         ...     ...    ...  \n",
       "56656 -0.442057     851      0  \n",
       "56657 -0.442057     976      0  \n",
       "56658 -0.238252     348      3  \n",
       "56659 -0.238268     980      3  \n",
       "56660 -0.238140     328      3  \n",
       "\n",
       "[52479 rows x 79 columns]"
      ]
     },
     "execution_count": 40,
     "metadata": {},
     "output_type": "execute_result"
    }
   ],
   "source": [
    "df_major"
   ]
  },
  {
   "cell_type": "code",
   "execution_count": 41,
   "id": "ff34f12d-d807-4a5f-a1b7-f0a5905999bf",
   "metadata": {},
   "outputs": [],
   "source": [
    "def typicalSampling(group):\n",
    "    name = group.name\n",
    "    frac = 0.008\n",
    "    return group.sample(frac=frac)\n",
    "\n",
    "result = df_major.groupby(\n",
    "    'klabel', group_keys=False\n",
    ").apply(typicalSampling)"
   ]
  },
  {
   "cell_type": "markdown",
   "id": "2de0803e-3d9d-4bb4-9d2d-e64e1a33a8fa",
   "metadata": {},
   "source": [
    "The purpose of this code is to sample a specified fraction of rows from each cluster in the DataFrame. This is useful for creating a smaller, more manageable dataset that still represents the distribution of the original data across different clusters."
   ]
  },
  {
   "cell_type": "code",
   "execution_count": 42,
   "id": "f493380a-f0e4-4635-9afc-84b51e4c52f1",
   "metadata": {},
   "outputs": [
    {
     "data": {
      "text/plain": [
       "Label\n",
       "0    120\n",
       "3    104\n",
       "5     57\n",
       "2     19\n",
       "Name: count, dtype: int64"
      ]
     },
     "execution_count": 42,
     "metadata": {},
     "output_type": "execute_result"
    }
   ],
   "source": [
    "result['Label'].value_counts()"
   ]
  },
  {
   "cell_type": "code",
   "execution_count": 43,
   "id": "69714082-048c-470a-ac94-83d50156c99b",
   "metadata": {},
   "outputs": [],
   "source": [
    "result = result.drop(['klabel'],axis=1)\n"
   ]
  },
  {
   "cell_type": "code",
   "execution_count": 44,
   "id": "3f2d375b-3d30-47a9-9423-84576d01ac83",
   "metadata": {},
   "outputs": [],
   "source": [
    "result = pd.concat([result, df_minor], ignore_index=True)"
   ]
  },
  {
   "cell_type": "code",
   "execution_count": 45,
   "id": "1a9d0e0e-0c12-46a1-bf03-4f0fc0a5ec1c",
   "metadata": {},
   "outputs": [],
   "source": [
    "result.to_csv('./data/CICIDS2017_sample_km.csv',index=0)"
   ]
  },
  {
   "cell_type": "markdown",
   "id": "fbfc821e-4a80-4ac4-989a-253b1e59817d",
   "metadata": {},
   "source": [
    "### split train set and test set using the sampled set"
   ]
  },
  {
   "cell_type": "code",
   "execution_count": 46,
   "id": "c38cd866-6d82-44f9-a6b2-ef9e61c9a501",
   "metadata": {},
   "outputs": [],
   "source": [
    "# Read the sampled dataset\n",
    "df_sampled=pd.read_csv('./data/CICIDS2017_sample_km.csv')"
   ]
  },
  {
   "cell_type": "code",
   "execution_count": 47,
   "id": "47af9610-68be-4cc0-9ba9-8c88959e848a",
   "metadata": {},
   "outputs": [],
   "source": [
    "X = df_sampled.drop(['Label'],axis=1).values\n",
    "y = df_sampled.iloc[:, -1].values.reshape(-1,1)\n",
    "y=np.ravel(y)"
   ]
  },
  {
   "cell_type": "code",
   "execution_count": 48,
   "id": "74f6f97b-3878-4830-b2d8-83941a951d9e",
   "metadata": {},
   "outputs": [],
   "source": [
    "X_train, X_test, y_train, y_test = train_test_split(X,y, train_size = 0.8, test_size = 0.2, random_state = 0,stratify = y)"
   ]
  },
  {
   "cell_type": "markdown",
   "id": "bee10605-e51f-451a-8045-17e39697acf2",
   "metadata": {},
   "source": [
    "## Feature Engineering"
   ]
  },
  {
   "cell_type": "markdown",
   "id": "da398fd0-d1b6-4490-b406-1461505cfbbe",
   "metadata": {},
   "source": [
    "### Feature selection by Information Gain"
   ]
  },
  {
   "cell_type": "code",
   "execution_count": 49,
   "id": "47778e26-d3e6-432b-806c-10d8b77ff23a",
   "metadata": {},
   "outputs": [],
   "source": [
    "from sklearn.feature_selection import mutual_info_classif\n",
    "importances = mutual_info_classif(X_train, y_train)"
   ]
  },
  {
   "cell_type": "markdown",
   "id": "2fcff944-cc79-41a5-b561-e5706629ca6e",
   "metadata": {},
   "source": [
    "#### Interpretation\r\n",
    "Higher Scores: Features with higher mutual information scores are more informative about the target variable.\r\n",
    "Lower Scores: Features with lower scores provide less information about the targetity."
   ]
  },
  {
   "cell_type": "markdown",
   "id": "c6b740b7-f7a0-41c6-9f2d-b033fa300cde",
   "metadata": {},
   "source": [
    "#### Use Case in Feature Selection\n",
    "Mutual information scores can be used to select a subset of features that are most relevant to the target variable. This can improve model performance by reducing overfitting and computational complexity."
   ]
  },
  {
   "cell_type": "code",
   "execution_count": 22,
   "id": "1a2f1fe3-8783-4562-8288-1526454203a7",
   "metadata": {},
   "outputs": [],
   "source": [
    "# calculate the sum of importance scores\n",
    "f_list = sorted(zip(map(lambda x: round(x, 4), importances), features), reverse=True)\n",
    "Sum = 0\n",
    "fs = []\n",
    "for i in range(0, len(f_list)):\n",
    "    Sum = Sum + f_list[i][0]\n",
    "    fs.append(f_list[i][1])"
   ]
  },
  {
   "cell_type": "raw",
   "id": "826daca0-e2e5-4042-bb26-2215352f6168",
   "metadata": {},
   "source": [
    "The code calculates the mutual information between each feature and the target variable.\n",
    "It sorts the features based on their importance scores in descending order.\n",
    "It then accumulates the total sum of the importance scores and collects the sorted feature names into a list.\n",
    "At the end of this process:\n",
    "\n",
    "Sum: The total sum of all the feature importance scores.\n",
    "fs: A list of feature names sorted by their importance scores in descending order."
   ]
  },
  {
   "cell_type": "code",
   "execution_count": 23,
   "id": "4e4b3f1f-e3b0-42d5-add1-7a5490297203",
   "metadata": {},
   "outputs": [],
   "source": [
    "# select the important features from top to bottom until the accumulated importance reaches 90%\n",
    "f_list2 = sorted(zip(map(lambda x: round(x, 4), importances/Sum), features), reverse=True)\n",
    "Sum2 = 0\n",
    "fs = []\n",
    "for i in range(0, len(f_list2)):\n",
    "    Sum2 = Sum2 + f_list2[i][0]\n",
    "    fs.append(f_list2[i][1])\n",
    "    if Sum2>=0.9:\n",
    "        break        "
   ]
  },
  {
   "cell_type": "raw",
   "id": "addfdeca-080b-4e36-af04-d804275394ff",
   "metadata": {},
   "source": [
    "The code first normalizes the feature importance scores so that their sum equals 1.\n",
    "It then sorts the features based on their normalized importance scores in descending order.\n",
    "It accumulates the importance scores and selects features until the accumulated importance reaches 90%.\n",
    "At the end of this process:\n",
    "\n",
    "Sum2: The accumulated normalized importance score (it will be slightly above or exactly 0.9).\n",
    "fs: A list of feature names that together contribute to 90% of the total importance."
   ]
  },
  {
   "cell_type": "code",
   "execution_count": 24,
   "id": "87295aab-3a46-4351-8fda-781f6e0096d7",
   "metadata": {},
   "outputs": [],
   "source": [
    "X_fs = df[fs].values\n",
    "##  X_fs_1 is to be checked without using the FCBF Filter\n",
    "X_fs_1=df[fs].values"
   ]
  },
  {
   "cell_type": "code",
   "execution_count": 25,
   "id": "3204ac8f-448b-4b2b-bcb0-41230b109d89",
   "metadata": {},
   "outputs": [
    {
     "data": {
      "text/plain": [
       "(4482, 41)"
      ]
     },
     "execution_count": 25,
     "metadata": {},
     "output_type": "execute_result"
    }
   ],
   "source": [
    "X_fs.shape"
   ]
  },
  {
   "cell_type": "markdown",
   "id": "67bf3fc0-cb6a-4f64-a2d3-a09af61c56f8",
   "metadata": {},
   "source": [
    "### Feature selection by Fast Correlation Based Filter (FCBF)\n",
    "\n",
    "This is a Moudule imported from GitHub repo: https://github.com/SantiagoEG/FCBF_module, which is a custom Module\n",
    "\n",
    "Certain features are redundant because they contain very similar information. FCBF can remove redundant features by calculating the correlation between each pair of features."
   ]
  },
  {
   "cell_type": "code",
   "execution_count": 26,
   "id": "e6d66406-5f76-4ba1-9d74-2cd1b615334d",
   "metadata": {},
   "outputs": [],
   "source": [
    "from FCBF_module import FCBF, FCBFK, FCBFiP, get_i\n",
    "fcbf = FCBFK(k = 20)\n",
    "#fcbf.fit(X_fs, y)"
   ]
  },
  {
   "cell_type": "code",
   "execution_count": 27,
   "id": "aea89eb3-0625-4cc6-b4fe-c7e3c0ea327e",
   "metadata": {},
   "outputs": [],
   "source": [
    "X_fss = fcbf.fit_transform(X_fs,y)"
   ]
  },
  {
   "cell_type": "code",
   "execution_count": 28,
   "id": "831a289a-bfba-40cb-a99e-e1c614b7089f",
   "metadata": {},
   "outputs": [
    {
     "data": {
      "text/plain": [
       "(4482, 20)"
      ]
     },
     "execution_count": 28,
     "metadata": {},
     "output_type": "execute_result"
    }
   ],
   "source": [
    "X_fss.shape"
   ]
  },
  {
   "cell_type": "markdown",
   "id": "b2c0df73-aa31-4c66-bf1d-87a17107ba1c",
   "metadata": {},
   "source": [
    "## Re-split train & test sets after feature selection\n",
    "\n",
    "\n",
    "This is done including the FCBF Filtering"
   ]
  },
  {
   "cell_type": "code",
   "execution_count": 29,
   "id": "e3a515ea-2f2c-4dd0-8479-2fde51591f0d",
   "metadata": {},
   "outputs": [],
   "source": [
    "X_train, X_test, y_train, y_test = train_test_split(X_fss,y, train_size = 0.8, test_size = 0.2, random_state = 0,stratify = y)"
   ]
  },
  {
   "cell_type": "code",
   "execution_count": 30,
   "id": "75600d0f-f482-4e2b-89b0-30a3b12f0785",
   "metadata": {},
   "outputs": [
    {
     "data": {
      "text/plain": [
       "(3585, 20)"
      ]
     },
     "execution_count": 30,
     "metadata": {},
     "output_type": "execute_result"
    }
   ],
   "source": [
    "X_train.shape"
   ]
  },
  {
   "cell_type": "code",
   "execution_count": 50,
   "id": "1f36aab9-b82e-4dac-a45f-b45701040b5c",
   "metadata": {},
   "outputs": [
    {
     "data": {
      "text/plain": [
       "6    1744\n",
       "1    1572\n",
       "0      96\n",
       "3      83\n",
       "5      46\n",
       "4      29\n",
       "2      15\n",
       "Name: count, dtype: int64"
      ]
     },
     "execution_count": 50,
     "metadata": {},
     "output_type": "execute_result"
    }
   ],
   "source": [
    "pd.Series(y_train).value_counts()"
   ]
  },
  {
   "cell_type": "markdown",
   "id": "9d670957-6d8d-445a-b7ca-5d8f90457bb2",
   "metadata": {},
   "source": [
    "### SMOTE to solve class-imbalance"
   ]
  },
  {
   "cell_type": "code",
   "execution_count": 51,
   "id": "19a70be4-62e5-433e-a914-83c87ecaf4d1",
   "metadata": {},
   "outputs": [],
   "source": [
    "from imblearn.over_sampling import SMOTE\n",
    "smote=SMOTE(n_jobs=-1,sampling_strategy={2:1000,4:1000})"
   ]
  },
  {
   "cell_type": "code",
   "execution_count": 52,
   "id": "3d928a77-6c63-41ea-bed0-beeb96d132c9",
   "metadata": {},
   "outputs": [],
   "source": [
    "X_train, y_train = smote.fit_resample(X_train, y_train)"
   ]
  },
  {
   "cell_type": "code",
   "execution_count": 53,
   "id": "5462844f-6018-4c90-95d1-44b4e83a8f04",
   "metadata": {},
   "outputs": [
    {
     "data": {
      "text/plain": [
       "6    1744\n",
       "1    1572\n",
       "4    1000\n",
       "2    1000\n",
       "0      96\n",
       "3      83\n",
       "5      46\n",
       "Name: count, dtype: int64"
      ]
     },
     "execution_count": 53,
     "metadata": {},
     "output_type": "execute_result"
    }
   ],
   "source": [
    "pd.Series(y_train).value_counts()"
   ]
  },
  {
   "cell_type": "markdown",
   "id": "1c3062a7-c618-4a3b-80e8-9f0c7793b69e",
   "metadata": {},
   "source": [
    "## Machine learning model training"
   ]
  },
  {
   "cell_type": "markdown",
   "id": "0d428861-3013-47d7-bdf8-43f4d52aeb4d",
   "metadata": {},
   "source": [
    "### XGBoost with FCBF"
   ]
  },
  {
   "cell_type": "code",
   "execution_count": 55,
   "id": "140f95e7-b59a-4e74-9f94-01b5fda0c583",
   "metadata": {},
   "outputs": [
    {
     "name": "stdout",
     "output_type": "stream",
     "text": [
      "Accuracy of XGBoost: 0.9899665551839465\n",
      "Precision of XGBoost: 0.990711695185839\n",
      "Recall of XGBoost: 0.9899665551839465\n",
      "F1-score of XGBoost: 0.9898518041644682\n",
      "              precision    recall  f1-score   support\n",
      "\n",
      "           0       0.91      0.83      0.87        24\n",
      "           1       0.99      1.00      1.00       394\n",
      "           2       0.80      1.00      0.89         4\n",
      "           3       1.00      0.81      0.89        21\n",
      "           4       1.00      1.00      1.00         7\n",
      "           5       0.79      1.00      0.88        11\n",
      "           6       1.00      1.00      1.00       436\n",
      "\n",
      "    accuracy                           0.99       897\n",
      "   macro avg       0.93      0.95      0.93       897\n",
      "weighted avg       0.99      0.99      0.99       897\n",
      "\n"
     ]
    },
    {
     "data": {
      "image/png": "[encoded data removed]",
      "text/plain": [
       "<Figure size 500x500 with 2 Axes>"
      ]
     },
     "metadata": {},
     "output_type": "display_data"
    }
   ],
   "source": [
    "xg = xgb.XGBClassifier(n_estimators = 10)\n",
    "xg.fit(X_train,y_train)\n",
    "xg_score=xg.score(X_test,y_test)\n",
    "y_predict=xg.predict(X_test)\n",
    "y_true=y_test\n",
    "print('Accuracy of XGBoost: '+ str(xg_score))\n",
    "precision,recall,fscore,none= precision_recall_fscore_support(y_true, y_predict, average='weighted') \n",
    "print('Precision of XGBoost: '+(str(precision)))\n",
    "print('Recall of XGBoost: '+(str(recall)))\n",
    "print('F1-score of XGBoost: '+(str(fscore)))\n",
    "print(classification_report(y_true,y_predict))\n",
    "cm=confusion_matrix(y_true,y_predict)\n",
    "f,ax=plt.subplots(figsize=(5,5))\n",
    "sns.heatmap(cm,annot=True,linewidth=0.5,linecolor=\"red\",fmt=\".0f\",ax=ax)\n",
    "plt.xlabel(\"y_pred\")\n",
    "plt.ylabel(\"y_true\")\n",
    "plt.show()"
   ]
  },
  {
   "cell_type": "markdown",
   "id": "8255bc4e-34b3-4e53-b47b-3f56ed855bef",
   "metadata": {},
   "source": [
    "#### Hyperparameter optimization (HPO) of XGBoost using Bayesian optimization with tree-based Parzen estimator (BO-TPE)\n",
    "Based on the GitHub repo for HPO: https://github.com/LiYangHart/Hyperparameter-Optimization-of-Machine-Learning-Algorithms"
   ]
  },
  {
   "cell_type": "code",
   "execution_count": 57,
   "id": "228e869b-4258-411c-81dd-339cefea0858",
   "metadata": {},
   "outputs": [],
   "source": [
    "import hyperopt"
   ]
  },
  {
   "cell_type": "code",
   "execution_count": 58,
   "id": "5bdadccc-8369-4fd2-8e15-4ca8f2f73581",
   "metadata": {},
   "outputs": [
    {
     "name": "stdout",
     "output_type": "stream",
     "text": [
      "100%|████████████████████████████████████████████████████████████| 20/20 [00:07<00:00,  2.56trial/s, best loss: -0.9933110367892977]\n",
      "XGBoost: Hyperopt estimated optimum {'learning_rate': 0.8391029526621202, 'max_depth': 73.0, 'n_estimators': 25.0}\n"
     ]
    }
   ],
   "source": [
    "from hyperopt import hp, fmin, tpe, STATUS_OK, Trials\n",
    "from sklearn.model_selection import cross_val_score, StratifiedKFold\n",
    "def objective(params):\n",
    "    params = {\n",
    "        'n_estimators': int(params['n_estimators']), \n",
    "        'max_depth': int(params['max_depth']),\n",
    "        'learning_rate':  abs(float(params['learning_rate'])),\n",
    "\n",
    "    }\n",
    "    clf = xgb.XGBClassifier( **params)\n",
    "    clf.fit(X_train, y_train)\n",
    "    y_pred = clf.predict(X_test)\n",
    "    score = accuracy_score(y_test, y_pred)\n",
    "\n",
    "    return {'loss':-score, 'status': STATUS_OK }\n",
    "\n",
    "space = {\n",
    "    'n_estimators': hp.quniform('n_estimators', 10, 100, 5),\n",
    "    'max_depth': hp.quniform('max_depth', 4, 100, 1),\n",
    "    'learning_rate': hp.normal('learning_rate', 0.01, 0.9),\n",
    "}\n",
    "\n",
    "best = fmin(fn=objective,\n",
    "            space=space,\n",
    "            algo=tpe.suggest,\n",
    "            max_evals=20)\n",
    "print(\"XGBoost: Hyperopt estimated optimum {}\".format(best))"
   ]
  },
  {
   "cell_type": "code",
   "execution_count": 59,
   "id": "1b3d3037-9446-4990-976c-328f3607b4f3",
   "metadata": {},
   "outputs": [
    {
     "name": "stdout",
     "output_type": "stream",
     "text": [
      "Accuracy of XGBoost: 0.9933110367892977\n",
      "Precision of XGBoost: 0.9936947975810393\n",
      "Recall of XGBoost: 0.9933110367892977\n",
      "F1-score of XGBoost: 0.9931570687649496\n",
      "              precision    recall  f1-score   support\n",
      "\n",
      "           0       1.00      0.83      0.91        24\n",
      "           1       0.99      1.00      1.00       394\n",
      "           2       0.80      1.00      0.89         4\n",
      "           3       1.00      0.90      0.95        21\n",
      "           4       0.88      1.00      0.93         7\n",
      "           5       1.00      1.00      1.00        11\n",
      "           6       1.00      1.00      1.00       436\n",
      "\n",
      "    accuracy                           0.99       897\n",
      "   macro avg       0.95      0.96      0.95       897\n",
      "weighted avg       0.99      0.99      0.99       897\n",
      "\n"
     ]
    },
    {
     "data": {
      "image/png": "[encoded data removed]",
      "text/plain": [
       "<Figure size 500x500 with 2 Axes>"
      ]
     },
     "metadata": {},
     "output_type": "display_data"
    }
   ],
   "source": [
    "xg = xgb.XGBClassifier(learning_rate= 0.8391029526621202, n_estimators = 25, max_depth = 73)\n",
    "xg.fit(X_train,y_train)\n",
    "xg_score=xg.score(X_test,y_test)\n",
    "y_predict=xg.predict(X_test)\n",
    "y_true=y_test\n",
    "print('Accuracy of XGBoost: '+ str(xg_score))\n",
    "precision,recall,fscore,none= precision_recall_fscore_support(y_true, y_predict, average='weighted') \n",
    "print('Precision of XGBoost: '+(str(precision)))\n",
    "print('Recall of XGBoost: '+(str(recall)))\n",
    "print('F1-score of XGBoost: '+(str(fscore)))\n",
    "print(classification_report(y_true,y_predict))\n",
    "cm=confusion_matrix(y_true,y_predict)\n",
    "f,ax=plt.subplots(figsize=(5,5))\n",
    "sns.heatmap(cm,annot=True,linewidth=0.5,linecolor=\"red\",fmt=\".0f\",ax=ax)\n",
    "plt.xlabel(\"y_pred\")\n",
    "plt.ylabel(\"y_true\")\n",
    "plt.show()"
   ]
  },
  {
   "cell_type": "code",
   "execution_count": 60,
   "id": "d169327c-e759-4fb7-a578-9db765c0f0da",
   "metadata": {},
   "outputs": [],
   "source": [
    "xg_train=xg.predict(X_train)\n",
    "xg_test=xg.predict(X_test)"
   ]
  },
  {
   "cell_type": "markdown",
   "id": "570ecd3e-e754-453a-9f5f-3ec7b7970dc7",
   "metadata": {},
   "source": [
    "### XGBoost without FCBF"
   ]
  },
  {
   "cell_type": "code",
   "execution_count": 86,
   "id": "4bec5e27-e181-4fc7-b14d-7f7038318498",
   "metadata": {},
   "outputs": [],
   "source": [
    "X_train_1, X_test_1, y_train_1, y_test_1 = train_test_split(X_fs_1,y, train_size = 0.8, test_size = 0.2, random_state = 0,stratify = y)\n",
    "pd.Series(y_train_1).value_counts()\n",
    "smote=SMOTE(n_jobs=-1,sampling_strategy={2:1000,4:1000})\n",
    "X_train_1, y_train_1 = smote.fit_resample(X_train_1, y_train_1)"
   ]
  },
  {
   "cell_type": "code",
   "execution_count": 87,
   "id": "5dcf478d-ebba-44f1-a5ab-209609a7b655",
   "metadata": {},
   "outputs": [
    {
     "name": "stdout",
     "output_type": "stream",
     "text": [
      "Accuracy of XGBoost: 0.9899665551839465\n",
      "Precision of XGBoost: 0.9908488594509509\n",
      "Recall of XGBoost: 0.9899665551839465\n",
      "F1-score of XGBoost: 0.9897733449291053\n",
      "              precision    recall  f1-score   support\n",
      "\n",
      "           0       1.00      0.71      0.83        24\n",
      "           1       1.00      0.99      1.00       394\n",
      "           2       0.60      0.75      0.67         4\n",
      "           3       0.90      0.90      0.90        21\n",
      "           4       0.78      1.00      0.88         7\n",
      "           5       1.00      1.00      1.00        11\n",
      "           6       0.99      1.00      0.99       436\n",
      "\n",
      "    accuracy                           0.99       897\n",
      "   macro avg       0.90      0.91      0.90       897\n",
      "weighted avg       0.99      0.99      0.99       897\n",
      "\n"
     ]
    },
    {
     "data": {
      "image/png": "[encoded data removed]",
      "text/plain": [
       "<Figure size 500x500 with 2 Axes>"
      ]
     },
     "metadata": {},
     "output_type": "display_data"
    }
   ],
   "source": [
    "xg = xgb.XGBClassifier(n_estimators = 10)\n",
    "xg.fit(X_train_1,y_train_1)\n",
    "xg_score=xg.score(X_test_1,y_test_1)\n",
    "y_predict_1=xg.predict(X_test_1)\n",
    "y_true_1=y_test_1\n",
    "print('Accuracy of XGBoost: '+ str(xg_score))\n",
    "precision,recall,fscore,none= precision_recall_fscore_support(y_true_1, y_predict_1, average='weighted') \n",
    "print('Precision of XGBoost: '+(str(precision)))\n",
    "print('Recall of XGBoost: '+(str(recall)))\n",
    "print('F1-score of XGBoost: '+(str(fscore)))\n",
    "print(classification_report(y_true,y_predict))\n",
    "cm=confusion_matrix(y_true_1,y_predict_1)\n",
    "f,ax=plt.subplots(figsize=(5,5))\n",
    "sns.heatmap(cm,annot=True,linewidth=0.5,linecolor=\"red\",fmt=\".0f\",ax=ax)\n",
    "plt.xlabel(\"y_pred_1\")\n",
    "plt.ylabel(\"y_true_1\")\n",
    "plt.show()"
   ]
  },
  {
   "cell_type": "code",
   "execution_count": 89,
   "id": "825ee1e2-4496-4af6-8f78-76746280a24f",
   "metadata": {},
   "outputs": [
    {
     "name": "stdout",
     "output_type": "stream",
     "text": [
      "100%|████████████████████████████████████████████████████████████| 20/20 [00:10<00:00,  1.97trial/s, best loss: -0.9899665551839465]\n",
      "XGBoost: Hyperopt estimated optimum {'learning_rate': 0.1206862326628798, 'max_depth': 75.0, 'n_estimators': 55.0}\n"
     ]
    }
   ],
   "source": [
    "def objective(params):\n",
    "    params = {\n",
    "        'n_estimators': int(params['n_estimators']), \n",
    "        'max_depth': int(params['max_depth']),\n",
    "        'learning_rate':  abs(float(params['learning_rate'])),\n",
    "\n",
    "    }\n",
    "    clf = xgb.XGBClassifier( **params)\n",
    "    clf.fit(X_train_1, y_train_1)\n",
    "    y_pred_1 = clf.predict(X_test_1)\n",
    "    score = accuracy_score(y_test_1, y_pred_1)\n",
    "\n",
    "    return {'loss':-score, 'status': STATUS_OK }\n",
    "\n",
    "\n",
    "space = {\n",
    "    'n_estimators': hp.quniform('n_estimators', 10, 100, 5),\n",
    "    'max_depth': hp.quniform('max_depth', 4, 100, 1),\n",
    "    'learning_rate': hp.normal('learning_rate', 0.01, 0.9),\n",
    "}\n",
    "\n",
    "best = fmin(fn=objective,\n",
    "            space=space,\n",
    "            algo=tpe.suggest,\n",
    "            max_evals=20)\n",
    "print(\"XGBoost: Hyperopt estimated optimum {}\".format(best))"
   ]
  },
  {
   "cell_type": "code",
   "execution_count": 90,
   "id": "0e7bc5d1-7ec9-4e9f-8942-fa4754b81f42",
   "metadata": {},
   "outputs": [
    {
     "name": "stdout",
     "output_type": "stream",
     "text": [
      "Accuracy of XGBoost: 0.9899665551839465\n",
      "Precision of XGBoost: 0.9908488594509509\n",
      "Recall of XGBoost: 0.9899665551839465\n",
      "F1-score of XGBoost: 0.9897733449291053\n",
      "              precision    recall  f1-score   support\n",
      "\n",
      "           0       1.00      0.79      0.88        24\n",
      "           1       0.99      1.00      1.00       394\n",
      "           2       0.67      1.00      0.80         4\n",
      "           3       1.00      0.86      0.92        21\n",
      "           4       1.00      1.00      1.00         7\n",
      "           5       0.92      1.00      0.96        11\n",
      "           6       0.99      1.00      1.00       436\n",
      "\n",
      "    accuracy                           0.99       897\n",
      "   macro avg       0.94      0.95      0.94       897\n",
      "weighted avg       0.99      0.99      0.99       897\n",
      "\n"
     ]
    },
    {
     "data": {
      "image/png": "[encoded data removed]",
      "text/plain": [
       "<Figure size 500x500 with 2 Axes>"
      ]
     },
     "metadata": {},
     "output_type": "display_data"
    }
   ],
   "source": [
    "xg = xgb.XGBClassifier(learning_rate= 0.1206862326628798, n_estimators = 55, max_depth = 75)\n",
    "xg.fit(X_train_1,y_train_1)\n",
    "xg_score=xg.score(X_test_1,y_test_1)\n",
    "y_predict=xg.predict(X_test_1)\n",
    "y_true_1=y_test_1\n",
    "print('Accuracy of XGBoost: '+ str(xg_score))\n",
    "precision,recall,fscore,none= precision_recall_fscore_support(y_true_1, y_predict_1, average='weighted') \n",
    "print('Precision of XGBoost: '+(str(precision)))\n",
    "print('Recall of XGBoost: '+(str(recall)))\n",
    "print('F1-score of XGBoost: '+(str(fscore)))\n",
    "print(classification_report(y_true_1,y_predict_1))\n",
    "cm=confusion_matrix(y_true_1,y_predict_1)\n",
    "f,ax=plt.subplots(figsize=(5,5))\n",
    "sns.heatmap(cm,annot=True,linewidth=0.5,linecolor=\"red\",fmt=\".0f\",ax=ax)\n",
    "plt.xlabel(\"y_pred\")\n",
    "plt.ylabel(\"y_true\")\n",
    "plt.show()"
   ]
  },
  {
   "cell_type": "code",
   "execution_count": 119,
   "id": "3fe76de5-6ed3-478f-a47a-e08297fb13d3",
   "metadata": {},
   "outputs": [],
   "source": [
    "xg_train_1=xg.predict(X_train_1)\n",
    "xg_test_1=xg.predict(X_test_1)"
   ]
  },
  {
   "cell_type": "markdown",
   "id": "b9d3155d-ea74-4333-86fc-339241fdaa6b",
   "metadata": {},
   "source": [
    "### Random Forest"
   ]
  },
  {
   "cell_type": "code",
   "execution_count": 130,
   "id": "89bbecbd-7774-4bd0-9c7d-9ae103476a10",
   "metadata": {},
   "outputs": [],
   "source": [
    "X_train, X_test, y_train, y_test = train_test_split(X_fss,y, train_size = 0.8, test_size = 0.2, random_state = 0,stratify = y)\n",
    "smote=SMOTE(n_jobs=-1,sampling_strategy={2:1000,4:1000})\n",
    "X_train, y_train = smote.fit_resample(X_train, y_train)"
   ]
  },
  {
   "cell_type": "code",
   "execution_count": 131,
   "id": "fe85535b-ce69-4efb-a393-bc43185855af",
   "metadata": {},
   "outputs": [
    {
     "name": "stdout",
     "output_type": "stream",
     "text": [
      "Accuracy of RF: 0.9910813823857302\n",
      "Precision of RF: 0.992838126072194\n",
      "Recall of RF: 0.9910813823857302\n",
      "F1-score of RF: 0.9912706704734332\n",
      "              precision    recall  f1-score   support\n",
      "\n",
      "           0       1.00      0.83      0.91        24\n",
      "           1       1.00      1.00      1.00       394\n",
      "           2       0.67      1.00      0.80         4\n",
      "           3       1.00      0.86      0.92        21\n",
      "           4       0.70      1.00      0.82         7\n",
      "           5       1.00      1.00      1.00        11\n",
      "           6       1.00      1.00      1.00       436\n",
      "\n",
      "    accuracy                           0.99       897\n",
      "   macro avg       0.91      0.96      0.92       897\n",
      "weighted avg       0.99      0.99      0.99       897\n",
      "\n"
     ]
    },
    {
     "data": {
      "image/png": "[encoded data removed]",
      "text/plain": [
       "<Figure size 500x500 with 2 Axes>"
      ]
     },
     "metadata": {},
     "output_type": "display_data"
    }
   ],
   "source": [
    "rf = RandomForestClassifier(random_state = 0)\n",
    "rf.fit(X_train,y_train) \n",
    "rf_score=rf.score(X_test,y_test)\n",
    "y_predict=rf.predict(X_test)\n",
    "y_true=y_test\n",
    "print('Accuracy of RF: '+ str(rf_score))\n",
    "precision,recall,fscore,none= precision_recall_fscore_support(y_true, y_predict, average='weighted') \n",
    "print('Precision of RF: '+(str(precision)))\n",
    "print('Recall of RF: '+(str(recall)))\n",
    "print('F1-score of RF: '+(str(fscore)))\n",
    "print(classification_report(y_true,y_predict))\n",
    "cm=confusion_matrix(y_true,y_predict)\n",
    "f,ax=plt.subplots(figsize=(5,5))\n",
    "sns.heatmap(cm,annot=True,linewidth=0.5,linecolor=\"red\",fmt=\".0f\",ax=ax)\n",
    "plt.xlabel(\"y_pred\")\n",
    "plt.ylabel(\"y_true\")\n",
    "plt.show()"
   ]
  },
  {
   "cell_type": "code",
   "execution_count": 132,
   "id": "7b61a367-4dc9-4786-b38c-90e9d5b8b80e",
   "metadata": {},
   "outputs": [
    {
     "name": "stdout",
     "output_type": "stream",
     "text": [
      "100%|████████████████████████████████████████████████████████████| 20/20 [00:51<00:00,  2.58s/trial, best loss: -0.9888517279821628]\n",
      "Random Forest: Hyperopt estimated optimum {'criterion': 1, 'max_depth': 45.0, 'max_features': 8.0, 'min_samples_leaf': 1.0, 'min_samples_split': 2.0, 'n_estimators': 27.0}\n"
     ]
    }
   ],
   "source": [
    "# Hyperparameter optimization of random forest\n",
    "from hyperopt import hp, fmin, tpe, STATUS_OK, Trials\n",
    "from sklearn.model_selection import cross_val_score, StratifiedKFold\n",
    "# Define the objective function\n",
    "def objective(params):\n",
    "    params = {\n",
    "        'n_estimators': int(params['n_estimators']), \n",
    "        'max_depth': int(params['max_depth']),\n",
    "        'max_features': int(params['max_features']),\n",
    "        \"min_samples_split\":int(params['min_samples_split']),\n",
    "        \"min_samples_leaf\":int(params['min_samples_leaf']),\n",
    "        \"criterion\":str(params['criterion'])\n",
    "    }\n",
    "    clf = RandomForestClassifier( **params)\n",
    "    clf.fit(X_train,y_train)\n",
    "    score=clf.score(X_test,y_test)\n",
    "\n",
    "    return {'loss':-score, 'status': STATUS_OK }\n",
    "# Define the hyperparameter configuration space\n",
    "space = {\n",
    "    'n_estimators': hp.quniform('n_estimators', 10, 200, 1),\n",
    "    'max_depth': hp.quniform('max_depth', 5, 50, 1),\n",
    "    \"max_features\":hp.quniform('max_features', 1, 20, 1),\n",
    "    \"min_samples_split\":hp.quniform('min_samples_split',2,11,1),\n",
    "    \"min_samples_leaf\":hp.quniform('min_samples_leaf',1,11,1),\n",
    "    \"criterion\":hp.choice('criterion',['gini','entropy'])\n",
    "}\n",
    "\n",
    "best = fmin(fn=objective,\n",
    "            space=space,\n",
    "            algo=tpe.suggest,\n",
    "            max_evals=20)\n",
    "print(\"Random Forest: Hyperopt estimated optimum {}\".format(best))"
   ]
  },
  {
   "cell_type": "code",
   "execution_count": 133,
   "id": "c240aa64-e8e9-4a65-8546-03f6373cf106",
   "metadata": {},
   "outputs": [
    {
     "name": "stdout",
     "output_type": "stream",
     "text": [
      "Accuracy of RF: 0.9888517279821628\n",
      "Precision of RF: 0.9903415425154555\n",
      "Recall of RF: 0.9888517279821628\n",
      "F1-score of RF: 0.9888901033214132\n",
      "              precision    recall  f1-score   support\n",
      "\n",
      "           0       1.00      0.79      0.88        24\n",
      "           1       1.00      1.00      1.00       394\n",
      "           2       0.60      0.75      0.67         4\n",
      "           3       1.00      0.86      0.92        21\n",
      "           4       0.70      1.00      0.82         7\n",
      "           5       1.00      1.00      1.00        11\n",
      "           6       0.99      1.00      1.00       436\n",
      "\n",
      "    accuracy                           0.99       897\n",
      "   macro avg       0.90      0.91      0.90       897\n",
      "weighted avg       0.99      0.99      0.99       897\n",
      "\n"
     ]
    },
    {
     "data": {
      "image/png": "[encoded data removed]",
      "text/plain": [
       "<Figure size 500x500 with 2 Axes>"
      ]
     },
     "metadata": {},
     "output_type": "display_data"
    }
   ],
   "source": [
    "rf_hpo = RandomForestClassifier(n_estimators = 27, min_samples_leaf = 1, max_depth = 45, min_samples_split = 2, max_features = 8, criterion = 'entropy')\n",
    "rf_hpo.fit(X_train,y_train)\n",
    "rf_score=rf_hpo.score(X_test,y_test)\n",
    "y_predict=rf_hpo.predict(X_test)\n",
    "y_true=y_test\n",
    "print('Accuracy of RF: '+ str(rf_score))\n",
    "precision,recall,fscore,none= precision_recall_fscore_support(y_true, y_predict, average='weighted') \n",
    "print('Precision of RF: '+(str(precision)))\n",
    "print('Recall of RF: '+(str(recall)))\n",
    "print('F1-score of RF: '+(str(fscore)))\n",
    "print(classification_report(y_true,y_predict))\n",
    "cm=confusion_matrix(y_true,y_predict)\n",
    "f,ax=plt.subplots(figsize=(5,5))\n",
    "sns.heatmap(cm,annot=True,linewidth=0.5,linecolor=\"red\",fmt=\".0f\",ax=ax)\n",
    "plt.xlabel(\"y_pred\")\n",
    "plt.ylabel(\"y_true\")\n",
    "plt.show()"
   ]
  },
  {
   "cell_type": "code",
   "execution_count": 135,
   "id": "b7d2274d-014a-4ba5-b0c9-aa8610908fde",
   "metadata": {},
   "outputs": [],
   "source": [
    "rf_train=rf_hpo.predict(X_train)\n",
    "rf_test=rf_hpo.predict(X_test)"
   ]
  },
  {
   "cell_type": "markdown",
   "id": "e500d276-4ea2-47cc-9835-0d5e5480e252",
   "metadata": {},
   "source": [
    "#### Random Forest without FCBF"
   ]
  },
  {
   "cell_type": "code",
   "execution_count": 120,
   "id": "c36bfc29-5a6b-4e8a-b350-7ec274d0efce",
   "metadata": {},
   "outputs": [],
   "source": [
    "X_train_1, X_test_1, y_train_1, y_test_1 = train_test_split(X_fs_1,y, train_size = 0.8, test_size = 0.2, random_state = 0,stratify = y)\n",
    "pd.Series(y_train_1).value_counts()\n",
    "smote=SMOTE(n_jobs=-1,sampling_strategy={2:1000,4:1000})\n",
    "X_train_1, y_train_1 = smote.fit_resample(X_train_1, y_train_1)"
   ]
  },
  {
   "cell_type": "code",
   "execution_count": 122,
   "id": "323dc16d-62ae-4f57-9ed3-573bf12e4f8b",
   "metadata": {},
   "outputs": [
    {
     "name": "stdout",
     "output_type": "stream",
     "text": [
      "Accuracy of RF: 0.9855072463768116\n",
      "Precision of RF: 0.9908488594509509\n",
      "Recall of RF: 0.9899665551839465\n",
      "F1-score of RF: 0.9897733449291053\n",
      "              precision    recall  f1-score   support\n",
      "\n",
      "           0       1.00      0.79      0.88        24\n",
      "           1       0.99      1.00      1.00       394\n",
      "           2       0.67      1.00      0.80         4\n",
      "           3       1.00      0.86      0.92        21\n",
      "           4       1.00      1.00      1.00         7\n",
      "           5       0.92      1.00      0.96        11\n",
      "           6       0.99      1.00      1.00       436\n",
      "\n",
      "    accuracy                           0.99       897\n",
      "   macro avg       0.94      0.95      0.94       897\n",
      "weighted avg       0.99      0.99      0.99       897\n",
      "\n"
     ]
    },
    {
     "data": {
      "image/png": "[encoded data removed]",
      "text/plain": [
       "<Figure size 500x500 with 2 Axes>"
      ]
     },
     "metadata": {},
     "output_type": "display_data"
    }
   ],
   "source": [
    "rf = RandomForestClassifier(random_state = 0)\n",
    "rf.fit(X_train_1,y_train_1) \n",
    "rf_score=rf.score(X_test_1,y_test_1)\n",
    "y_predict=rf.predict(X_test_1)\n",
    "y_true_1=y_test_1\n",
    "print('Accuracy of RF: '+ str(rf_score))\n",
    "precision,recall,fscore,none= precision_recall_fscore_support(y_true_1, y_predict_1, average='weighted') \n",
    "print('Precision of RF: '+(str(precision)))\n",
    "print('Recall of RF: '+(str(recall)))\n",
    "print('F1-score of RF: '+(str(fscore)))\n",
    "print(classification_report(y_true_1,y_predict_1))\n",
    "cm=confusion_matrix(y_true_1,y_predict_1)\n",
    "f,ax=plt.subplots(figsize=(5,5))\n",
    "sns.heatmap(cm,annot=True,linewidth=0.5,linecolor=\"red\",fmt=\".0f\",ax=ax)\n",
    "plt.xlabel(\"y_pred\")\n",
    "plt.ylabel(\"y_true\")\n",
    "plt.show()"
   ]
  },
  {
   "cell_type": "code",
   "execution_count": 123,
   "id": "088190bc-b25c-4254-9bef-214bad0b636c",
   "metadata": {},
   "outputs": [
    {
     "name": "stdout",
     "output_type": "stream",
     "text": [
      "100%|████████████████████████████████████████████████████████████| 20/20 [01:08<00:00,  3.42s/trial, best loss: -0.9888517279821628]\n",
      "Random Forest: Hyperopt estimated optimum {'criterion': 0, 'max_depth': 39.0, 'max_features': 15.0, 'min_samples_leaf': 1.0, 'min_samples_split': 8.0, 'n_estimators': 146.0}\n"
     ]
    }
   ],
   "source": [
    "# Hyperparameter optimization of random forest\n",
    "from hyperopt import hp, fmin, tpe, STATUS_OK, Trials\n",
    "from sklearn.model_selection import cross_val_score, StratifiedKFold\n",
    "# Define the objective function\n",
    "def objective(params):\n",
    "    params = {\n",
    "        'n_estimators': int(params['n_estimators']), \n",
    "        'max_depth': int(params['max_depth']),\n",
    "        'max_features': int(params['max_features']),\n",
    "        \"min_samples_split\":int(params['min_samples_split']),\n",
    "        \"min_samples_leaf\":int(params['min_samples_leaf']),\n",
    "        \"criterion\":str(params['criterion'])\n",
    "    }\n",
    "    clf = RandomForestClassifier( **params)\n",
    "    clf.fit(X_train_1,y_train_1)\n",
    "    score=clf.score(X_test_1,y_test_1)\n",
    "\n",
    "    return {'loss':-score, 'status': STATUS_OK }\n",
    "# Define the hyperparameter configuration space\n",
    "space = {\n",
    "    'n_estimators': hp.quniform('n_estimators', 10, 200, 1),\n",
    "    'max_depth': hp.quniform('max_depth', 5, 50, 1),\n",
    "    \"max_features\":hp.quniform('max_features', 1, 20, 1),\n",
    "    \"min_samples_split\":hp.quniform('min_samples_split',2,11,1),\n",
    "    \"min_samples_leaf\":hp.quniform('min_samples_leaf',1,11,1),\n",
    "    \"criterion\":hp.choice('criterion',['gini','entropy'])\n",
    "}\n",
    "\n",
    "best = fmin(fn=objective,\n",
    "            space=space,\n",
    "            algo=tpe.suggest,\n",
    "            max_evals=20)\n",
    "print(\"Random Forest: Hyperopt estimated optimum {}\".format(best))"
   ]
  },
  {
   "cell_type": "code",
   "execution_count": 136,
   "id": "857a6109-221c-47d1-9976-07287ad8eccc",
   "metadata": {},
   "outputs": [
    {
     "name": "stdout",
     "output_type": "stream",
     "text": [
      "Accuracy of RF: 0.9888517279821628\n",
      "Precision of RF: 0.9897042873095219\n",
      "Recall of RF: 0.9888517279821628\n",
      "F1-score of RF: 0.9887491783612881\n",
      "              precision    recall  f1-score   support\n",
      "\n",
      "           0       1.00      0.79      0.88        24\n",
      "           1       0.99      1.00      1.00       394\n",
      "           2       0.60      0.75      0.67         4\n",
      "           3       0.95      0.86      0.90        21\n",
      "           4       0.78      1.00      0.88         7\n",
      "           5       1.00      1.00      1.00        11\n",
      "           6       0.99      1.00      1.00       436\n",
      "\n",
      "    accuracy                           0.99       897\n",
      "   macro avg       0.90      0.91      0.90       897\n",
      "weighted avg       0.99      0.99      0.99       897\n",
      "\n"
     ]
    },
    {
     "data": {
      "image/png": "[encoded data removed]",
      "text/plain": [
       "<Figure size 500x500 with 2 Axes>"
      ]
     },
     "metadata": {},
     "output_type": "display_data"
    }
   ],
   "source": [
    "rf_hpo = RandomForestClassifier(n_estimators = 146, min_samples_leaf = 1, max_depth = 39, min_samples_split = 8, max_features = 15, criterion = 'entropy')\n",
    "rf_hpo.fit(X_train_1,y_train_1)\n",
    "rf_score=rf_hpo.score(X_test_1,y_test_1)\n",
    "y_predict_1=rf_hpo.predict(X_test_1)\n",
    "y_true_1=y_test_1\n",
    "print('Accuracy of RF: '+ str(rf_score))\n",
    "precision,recall,fscore,none= precision_recall_fscore_support(y_true_1, y_predict_1, average='weighted') \n",
    "print('Precision of RF: '+(str(precision)))\n",
    "print('Recall of RF: '+(str(recall)))\n",
    "print('F1-score of RF: '+(str(fscore)))\n",
    "print(classification_report(y_true_1,y_predict_1))\n",
    "cm=confusion_matrix(y_true_1,y_predict_1)\n",
    "f,ax=plt.subplots(figsize=(5,5))\n",
    "sns.heatmap(cm,annot=True,linewidth=0.5,linecolor=\"red\",fmt=\".0f\",ax=ax)\n",
    "plt.xlabel(\"y_pred\")\n",
    "plt.ylabel(\"y_true\")\n",
    "plt.show()"
   ]
  },
  {
   "cell_type": "code",
   "execution_count": 137,
   "id": "564369a9-e84b-42d2-b25d-0079c92b5dec",
   "metadata": {},
   "outputs": [],
   "source": [
    "rf_train_1=rf_hpo.predict(X_train_1)\n",
    "rf_test_1=rf_hpo.predict(X_test_1)"
   ]
  },
  {
   "cell_type": "markdown",
   "id": "abd6e6e7-7c99-4504-8851-a9883a25e1bc",
   "metadata": {},
   "source": [
    "### Decision Tree"
   ]
  },
  {
   "cell_type": "code",
   "execution_count": 79,
   "id": "b1b4fde3-558c-4904-9981-0a87c9a54ac5",
   "metadata": {},
   "outputs": [
    {
     "name": "stdout",
     "output_type": "stream",
     "text": [
      "Accuracy of DT: 0.9855072463768116\n",
      "Precision of DT: 0.9853796766840245\n",
      "Recall of DT: 0.9855072463768116\n",
      "F1-score of DT: 0.9851079428403384\n",
      "              precision    recall  f1-score   support\n",
      "\n",
      "           0       0.86      0.75      0.80        24\n",
      "           1       1.00      1.00      1.00       394\n",
      "           2       0.50      0.50      0.50         4\n",
      "           3       0.94      0.81      0.87        21\n",
      "           4       0.78      1.00      0.88         7\n",
      "           5       1.00      1.00      1.00        11\n",
      "           6       0.99      1.00      1.00       436\n",
      "\n",
      "    accuracy                           0.99       897\n",
      "   macro avg       0.87      0.87      0.86       897\n",
      "weighted avg       0.99      0.99      0.99       897\n",
      "\n"
     ]
    },
    {
     "data": {
      "image/png": "[encoded data removed]",
      "text/plain": [
       "<Figure size 500x500 with 2 Axes>"
      ]
     },
     "metadata": {},
     "output_type": "display_data"
    }
   ],
   "source": [
    "dt = DecisionTreeClassifier(random_state = 0)\n",
    "dt.fit(X_train,y_train) \n",
    "dt_score=dt.score(X_test,y_test)\n",
    "y_predict=dt.predict(X_test)\n",
    "y_true=y_test\n",
    "print('Accuracy of DT: '+ str(dt_score))\n",
    "precision,recall,fscore,none= precision_recall_fscore_support(y_true, y_predict, average='weighted') \n",
    "print('Precision of DT: '+(str(precision)))\n",
    "print('Recall of DT: '+(str(recall)))\n",
    "print('F1-score of DT: '+(str(fscore)))\n",
    "print(classification_report(y_true,y_predict))\n",
    "cm=confusion_matrix(y_true,y_predict)\n",
    "f,ax=plt.subplots(figsize=(5,5))\n",
    "sns.heatmap(cm,annot=True,linewidth=0.5,linecolor=\"red\",fmt=\".0f\",ax=ax)\n",
    "plt.xlabel(\"y_pred\")\n",
    "plt.ylabel(\"y_true\")\n",
    "plt.show()"
   ]
  },
  {
   "cell_type": "code",
   "execution_count": 80,
   "id": "bf2659d6-3e09-4a08-943d-c1b6840e58ad",
   "metadata": {},
   "outputs": [
    {
     "name": "stdout",
     "output_type": "stream",
     "text": [
      "100%|████████████████████████████████████████████████████████████| 50/50 [00:02<00:00, 16.71trial/s, best loss: -0.9888517279821628]\n",
      "Decision tree: Hyperopt estimated optimum {'criterion': 1, 'max_depth': 17.0, 'max_features': 20.0, 'min_samples_leaf': 4.0, 'min_samples_split': 8.0}\n"
     ]
    }
   ],
   "source": [
    "# Hyperparameter optimization of decision tree\n",
    "from hyperopt import hp, fmin, tpe, STATUS_OK, Trials\n",
    "from sklearn.model_selection import cross_val_score, StratifiedKFold\n",
    "# Define the objective function\n",
    "def objective(params):\n",
    "    params = {\n",
    "        'max_depth': int(params['max_depth']),\n",
    "        'max_features': int(params['max_features']),\n",
    "        \"min_samples_split\":int(params['min_samples_split']),\n",
    "        \"min_samples_leaf\":int(params['min_samples_leaf']),\n",
    "        \"criterion\":str(params['criterion'])\n",
    "    }\n",
    "    clf = DecisionTreeClassifier( **params)\n",
    "    clf.fit(X_train,y_train)\n",
    "    score=clf.score(X_test,y_test)\n",
    "\n",
    "    return {'loss':-score, 'status': STATUS_OK }\n",
    "# Define the hyperparameter configuration space\n",
    "space = {\n",
    "    'max_depth': hp.quniform('max_depth', 5, 50, 1),\n",
    "    \"max_features\":hp.quniform('max_features', 1, 20, 1),\n",
    "    \"min_samples_split\":hp.quniform('min_samples_split',2,11,1),\n",
    "    \"min_samples_leaf\":hp.quniform('min_samples_leaf',1,11,1),\n",
    "    \"criterion\":hp.choice('criterion',['gini','entropy'])\n",
    "}\n",
    "\n",
    "best = fmin(fn=objective,\n",
    "            space=space,\n",
    "            algo=tpe.suggest,\n",
    "            max_evals=50)\n",
    "print(\"Decision tree: Hyperopt estimated optimum {}\".format(best))"
   ]
  },
  {
   "cell_type": "code",
   "execution_count": 81,
   "id": "04e58394-d6ce-44fc-bb13-9a38662dd1a6",
   "metadata": {},
   "outputs": [
    {
     "name": "stdout",
     "output_type": "stream",
     "text": [
      "Accuracy of DT: 0.9866220735785953\n",
      "Precision of DT: 0.9876238453261827\n",
      "Recall of DT: 0.9866220735785953\n",
      "F1-score of DT: 0.9862948192360103\n",
      "              precision    recall  f1-score   support\n",
      "\n",
      "           0       1.00      0.71      0.83        24\n",
      "           1       1.00      0.99      1.00       394\n",
      "           2       0.60      0.75      0.67         4\n",
      "           3       0.90      0.90      0.90        21\n",
      "           4       0.78      1.00      0.88         7\n",
      "           5       1.00      1.00      1.00        11\n",
      "           6       0.99      1.00      0.99       436\n",
      "\n",
      "    accuracy                           0.99       897\n",
      "   macro avg       0.90      0.91      0.90       897\n",
      "weighted avg       0.99      0.99      0.99       897\n",
      "\n"
     ]
    },
    {
     "data": {
      "image/png": "[encoded data removed]",
      "text/plain": [
       "<Figure size 500x500 with 2 Axes>"
      ]
     },
     "metadata": {},
     "output_type": "display_data"
    }
   ],
   "source": [
    "dt_hpo = DecisionTreeClassifier(min_samples_leaf = 4, max_depth = 17, min_samples_split = 8, max_features = 20, criterion = 'entropy')\n",
    "dt_hpo.fit(X_train,y_train)\n",
    "dt_score=dt_hpo.score(X_test,y_test)\n",
    "y_predict=dt_hpo.predict(X_test)\n",
    "y_true=y_test\n",
    "print('Accuracy of DT: '+ str(dt_score))\n",
    "precision,recall,fscore,none= precision_recall_fscore_support(y_true, y_predict, average='weighted') \n",
    "print('Precision of DT: '+(str(precision)))\n",
    "print('Recall of DT: '+(str(recall)))\n",
    "print('F1-score of DT: '+(str(fscore)))\n",
    "print(classification_report(y_true,y_predict))\n",
    "cm=confusion_matrix(y_true,y_predict)\n",
    "f,ax=plt.subplots(figsize=(5,5))\n",
    "sns.heatmap(cm,annot=True,linewidth=0.5,linecolor=\"red\",fmt=\".0f\",ax=ax)\n",
    "plt.xlabel(\"y_pred\")\n",
    "plt.ylabel(\"y_true\")\n",
    "plt.show()"
   ]
  },
  {
   "cell_type": "code",
   "execution_count": 138,
   "id": "de6e715d-a5e5-445b-b717-242131cbbdd5",
   "metadata": {},
   "outputs": [],
   "source": [
    "dt_train=dt_hpo.predict(X_train)\n",
    "dt_test=dt_hpo.predict(X_test)"
   ]
  },
  {
   "cell_type": "markdown",
   "id": "10451df1-d645-4021-82e9-3b5151f45e26",
   "metadata": {},
   "source": [
    "#### DF without FCBF"
   ]
  },
  {
   "cell_type": "code",
   "execution_count": 139,
   "id": "384ddaea-f8fa-4f64-92e8-298fcd9f6824",
   "metadata": {},
   "outputs": [
    {
     "name": "stdout",
     "output_type": "stream",
     "text": [
      "Accuracy of DT: 0.9855072463768116\n",
      "Precision of DT: 0.9854025201851289\n",
      "Recall of DT: 0.9855072463768116\n",
      "F1-score of DT: 0.9852464883947631\n",
      "              precision    recall  f1-score   support\n",
      "\n",
      "           0       0.82      0.75      0.78        24\n",
      "           1       1.00      1.00      1.00       394\n",
      "           2       0.60      0.75      0.67         4\n",
      "           3       0.94      0.81      0.87        21\n",
      "           4       1.00      1.00      1.00         7\n",
      "           5       0.91      0.91      0.91        11\n",
      "           6       0.99      1.00      1.00       436\n",
      "\n",
      "    accuracy                           0.99       897\n",
      "   macro avg       0.89      0.89      0.89       897\n",
      "weighted avg       0.99      0.99      0.99       897\n",
      "\n"
     ]
    },
    {
     "data": {
      "image/png": "[encoded data removed]",
      "text/plain": [
       "<Figure size 500x500 with 2 Axes>"
      ]
     },
     "metadata": {},
     "output_type": "display_data"
    }
   ],
   "source": [
    "dt = DecisionTreeClassifier(random_state = 0)\n",
    "dt.fit(X_train_1,y_train_1) \n",
    "dt_score=dt.score(X_test_1,y_test_1)\n",
    "y_predict_1=dt.predict(X_test_1)\n",
    "y_true_1=y_test_1\n",
    "print('Accuracy of DT: '+ str(dt_score))\n",
    "precision,recall,fscore,none= precision_recall_fscore_support(y_true_1, y_predict_1, average='weighted') \n",
    "print('Precision of DT: '+(str(precision)))\n",
    "print('Recall of DT: '+(str(recall)))\n",
    "print('F1-score of DT: '+(str(fscore)))\n",
    "print(classification_report(y_true_1,y_predict_1))\n",
    "cm=confusion_matrix(y_true_1,y_predict_1)\n",
    "f,ax=plt.subplots(figsize=(5,5))\n",
    "sns.heatmap(cm,annot=True,linewidth=0.5,linecolor=\"red\",fmt=\".0f\",ax=ax)\n",
    "plt.xlabel(\"y_pred\")\n",
    "plt.ylabel(\"y_true\")\n",
    "plt.show()"
   ]
  },
  {
   "cell_type": "code",
   "execution_count": 140,
   "id": "3e426db3-4a05-43b3-a47c-7684d2ea2550",
   "metadata": {},
   "outputs": [
    {
     "name": "stdout",
     "output_type": "stream",
     "text": [
      "100%|████████████████████████████████████████████████████████████| 50/50 [00:03<00:00, 15.61trial/s, best loss: -0.9888517279821628]\n",
      "Decision tree: Hyperopt estimated optimum {'criterion': 0, 'max_depth': 34.0, 'max_features': 12.0, 'min_samples_leaf': 2.0, 'min_samples_split': 9.0}\n"
     ]
    }
   ],
   "source": [
    "# Hyperparameter optimization of decision tree\n",
    "from hyperopt import hp, fmin, tpe, STATUS_OK, Trials\n",
    "from sklearn.model_selection import cross_val_score, StratifiedKFold\n",
    "# Define the objective function\n",
    "def objective(params):\n",
    "    params = {\n",
    "        'max_depth': int(params['max_depth']),\n",
    "        'max_features': int(params['max_features']),\n",
    "        \"min_samples_split\":int(params['min_samples_split']),\n",
    "        \"min_samples_leaf\":int(params['min_samples_leaf']),\n",
    "        \"criterion\":str(params['criterion'])\n",
    "    }\n",
    "    clf = DecisionTreeClassifier( **params)\n",
    "    clf.fit(X_train_1,y_train_1)\n",
    "    score=clf.score(X_test_1,y_test_1)\n",
    "\n",
    "    return {'loss':-score, 'status': STATUS_OK }\n",
    "# Define the hyperparameter configuration space\n",
    "space = {\n",
    "    'max_depth': hp.quniform('max_depth', 5, 50, 1),\n",
    "    \"max_features\":hp.quniform('max_features', 1, 20, 1),\n",
    "    \"min_samples_split\":hp.quniform('min_samples_split',2,11,1),\n",
    "    \"min_samples_leaf\":hp.quniform('min_samples_leaf',1,11,1),\n",
    "    \"criterion\":hp.choice('criterion',['gini','entropy'])\n",
    "}\n",
    "\n",
    "best = fmin(fn=objective,\n",
    "            space=space,\n",
    "            algo=tpe.suggest,\n",
    "            max_evals=50)\n",
    "print(\"Decision tree: Hyperopt estimated optimum {}\".format(best))"
   ]
  },
  {
   "cell_type": "code",
   "execution_count": 141,
   "id": "6f477619-15fb-4fea-9563-e724dc2c1b1a",
   "metadata": {},
   "outputs": [
    {
     "name": "stdout",
     "output_type": "stream",
     "text": [
      "Accuracy of DT: 0.9866220735785953\n",
      "Precision of DT: 0.9869920036623274\n",
      "Recall of DT: 0.9866220735785953\n",
      "F1-score of DT: 0.9863689938815519\n",
      "              precision    recall  f1-score   support\n",
      "\n",
      "           0       0.89      0.71      0.79        24\n",
      "           1       1.00      1.00      1.00       394\n",
      "           2       0.60      0.75      0.67         4\n",
      "           3       0.90      0.90      0.90        21\n",
      "           4       0.78      1.00      0.88         7\n",
      "           5       1.00      1.00      1.00        11\n",
      "           6       0.99      1.00      1.00       436\n",
      "\n",
      "    accuracy                           0.99       897\n",
      "   macro avg       0.88      0.91      0.89       897\n",
      "weighted avg       0.99      0.99      0.99       897\n",
      "\n"
     ]
    },
    {
     "data": {
      "image/png": "[encoded data removed]",
      "text/plain": [
       "<Figure size 500x500 with 2 Axes>"
      ]
     },
     "metadata": {},
     "output_type": "display_data"
    }
   ],
   "source": [
    "dt_hpo = DecisionTreeClassifier(min_samples_leaf = 2, max_depth = 34, min_samples_split = 9, max_features = 12, criterion = 'entropy')\n",
    "dt_hpo.fit(X_train_1,y_train_1)\n",
    "dt_score=dt_hpo.score(X_test_1,y_test_1)\n",
    "y_predict_1=dt_hpo.predict(X_test_1)\n",
    "y_true_1=y_test_1\n",
    "print('Accuracy of DT: '+ str(dt_score))\n",
    "precision,recall,fscore,none= precision_recall_fscore_support(y_true_1, y_predict_1, average='weighted') \n",
    "print('Precision of DT: '+(str(precision)))\n",
    "print('Recall of DT: '+(str(recall)))\n",
    "print('F1-score of DT: '+(str(fscore)))\n",
    "print(classification_report(y_true_1,y_predict_1))\n",
    "cm=confusion_matrix(y_true_1,y_predict_1)\n",
    "f,ax=plt.subplots(figsize=(5,5))\n",
    "sns.heatmap(cm,annot=True,linewidth=0.5,linecolor=\"red\",fmt=\".0f\",ax=ax)\n",
    "plt.xlabel(\"y_pred\")\n",
    "plt.ylabel(\"y_true\")\n",
    "plt.show()"
   ]
  },
  {
   "cell_type": "code",
   "execution_count": 143,
   "id": "71b0c74e-dfbe-46a1-a1ea-bcd71e53a6f1",
   "metadata": {},
   "outputs": [],
   "source": [
    "dt_train_1=dt_hpo.predict(X_train_1)\n",
    "dt_test_1=dt_hpo.predict(X_test_1)"
   ]
  },
  {
   "cell_type": "markdown",
   "id": "171c0e61-ad1c-45bd-a5a4-6d924e778e37",
   "metadata": {},
   "source": [
    "### CNN"
   ]
  },
  {
   "cell_type": "code",
   "execution_count": 85,
   "id": "058184d0-1c72-46e8-90c3-a534a230b1b7",
   "metadata": {},
   "outputs": [],
   "source": [
    "import tensorflow as tf\n",
    "from tensorflow.keras.models import Sequential\n",
    "from tensorflow.keras.layers import Conv2D, MaxPooling2D, Flatten, Dense"
   ]
  },
  {
   "cell_type": "raw",
   "id": "99086d9e-c4c7-48a7-8511-7487089c2407",
   "metadata": {},
   "source": [
    "keras=tf.keras\n",
    "\n",
    "model = keras.models.Sequential([\n",
    "                                 keras.layers.Conv1D(32, kernel_size= 4, strides = 2, \n",
    "                                                     padding = 'valid'),\n",
    "                                 keras.layers.Conv1D(64, kernel_size=4, strides = 2, padding= 'valid'), \n",
    "                                 keras.layers.MaxPooling1D(), \n",
    "                                 keras.layers.Conv1D(128, kernel_size= 4, strides= 2), \n",
    "                                 keras.layers.Flatten(), \n",
    "                                 keras.layers.Dense(80, activation= 'relu'), \n",
    "                                 keras.layers.Dense(45, activation='relu'), \n",
    "                                 keras.layers.Dense(13, activation= 'softmax')\n",
    "])\n",
    "\n"
   ]
  },
  {
   "cell_type": "raw",
   "id": "fe58dad9-3d8f-40dd-ad9b-f556bc57f982",
   "metadata": {},
   "source": [
    "num_features = X_train.shape[1]\n",
    "num_classes = len(np.unique(y_train))\n",
    "\n",
    "\n",
    "# Create a simple fully connected neural network (FCNN)\n",
    "fcnn = Sequential([\n",
    "    Dense(64, activation='relu', input_shape=(num_features,)),\n",
    "    Dense(64, activation='relu'),\n",
    "    Dense(num_classes, activation='softmax')\n",
    "])\n",
    "\n",
    "# Compile the model\n",
    "cnn.compile(optimizer='adam', loss='sparse_categorical_crossentropy', metrics=['accuracy'])\n",
    "\n",
    "# Train the model\n",
    "cnn.fit(X_train, y_train, epochs=10, validation_data=(X_test, y_test))\n",
    "\n",
    "# Evaluate the model\n",
    "cnn_score = cnn.evaluate(X_test, y_test, verbose=0)\n",
    "print('Accuracy of CNN: ' + str(cnn_score[1]))\n",
    "\n",
    "# Predict using the model\n",
    "y_predict = np.argmax(cnn.predict(X_test), axis=-1)\n",
    "\n",
    "# Calculate precision, recall, and f1-score\n",
    "precision, recall, fscore, _ = precision_recall_fscore_support(y_test, y_predict, average='weighted')\n",
    "print('Precision of CNN: ' + str(precision))\n",
    "print('Recall of CNN: ' + str(recall))\n",
    "print('F1-score of CNN: ' + str(fscore))\n",
    "\n",
    "# Print classification report\n",
    "print(classification_report(y_test, y_predict))\n",
    "\n",
    "# Confusion matrix\n",
    "cm = confusion_matrix(y_test, y_predict)\n",
    "f, ax = plt.subplots(figsize=(5, 5))\n",
    "sns.heatmap(cm, annot=True, linewidths=0.5, linecolor=\"red\", fmt=\".0f\", ax=ax)\n",
    "plt.xlabel(\"y_pred\")\n",
    "plt.ylabel(\"y_true\")\n",
    "plt.show()"
   ]
  },
  {
   "cell_type": "code",
   "execution_count": 109,
   "id": "b075a129-0f09-4378-8be7-af972b0ac987",
   "metadata": {},
   "outputs": [
    {
     "name": "stdout",
     "output_type": "stream",
     "text": [
      "Epoch 1/10\n",
      "\u001b[1m174/174\u001b[0m \u001b[32m━━━━━━━━━━━━━━━━━━━━\u001b[0m\u001b[37m\u001b[0m \u001b[1m4s\u001b[0m 7ms/step - accuracy: 0.2687 - loss: -425.5373 - val_accuracy: 0.4392 - val_loss: -3571.8103\n",
      "Epoch 2/10\n",
      "\u001b[1m174/174\u001b[0m \u001b[32m━━━━━━━━━━━━━━━━━━━━\u001b[0m\u001b[37m\u001b[0m \u001b[1m1s\u001b[0m 5ms/step - accuracy: 0.2859 - loss: -14795.8389 - val_accuracy: 0.4392 - val_loss: -33002.1445\n",
      "Epoch 3/10\n",
      "\u001b[1m174/174\u001b[0m \u001b[32m━━━━━━━━━━━━━━━━━━━━\u001b[0m\u001b[37m\u001b[0m \u001b[1m1s\u001b[0m 5ms/step - accuracy: 0.2741 - loss: -96333.0469 - val_accuracy: 0.4392 - val_loss: -116287.6641\n",
      "Epoch 4/10\n",
      "\u001b[1m174/174\u001b[0m \u001b[32m━━━━━━━━━━━━━━━━━━━━\u001b[0m\u001b[37m\u001b[0m \u001b[1m1s\u001b[0m 5ms/step - accuracy: 0.2763 - loss: -299159.6250 - val_accuracy: 0.4392 - val_loss: -276481.5938\n",
      "Epoch 5/10\n",
      "\u001b[1m174/174\u001b[0m \u001b[32m━━━━━━━━━━━━━━━━━━━━\u001b[0m\u001b[37m\u001b[0m \u001b[1m1s\u001b[0m 5ms/step - accuracy: 0.2898 - loss: -618458.5000 - val_accuracy: 0.4392 - val_loss: -535111.2500\n",
      "Epoch 6/10\n",
      "\u001b[1m174/174\u001b[0m \u001b[32m━━━━━━━━━━━━━━━━━━━━\u001b[0m\u001b[37m\u001b[0m \u001b[1m1s\u001b[0m 4ms/step - accuracy: 0.2842 - loss: -1206724.0000 - val_accuracy: 0.4392 - val_loss: -903703.3125\n",
      "Epoch 7/10\n",
      "\u001b[1m174/174\u001b[0m \u001b[32m━━━━━━━━━━━━━━━━━━━━\u001b[0m\u001b[37m\u001b[0m \u001b[1m1s\u001b[0m 5ms/step - accuracy: 0.2797 - loss: -1927833.2500 - val_accuracy: 0.4392 - val_loss: -1389828.8750\n",
      "Epoch 8/10\n",
      "\u001b[1m174/174\u001b[0m \u001b[32m━━━━━━━━━━━━━━━━━━━━\u001b[0m\u001b[37m\u001b[0m \u001b[1m1s\u001b[0m 5ms/step - accuracy: 0.2890 - loss: -3050027.5000 - val_accuracy: 0.4392 - val_loss: -2013581.2500\n",
      "Epoch 9/10\n",
      "\u001b[1m174/174\u001b[0m \u001b[32m━━━━━━━━━━━━━━━━━━━━\u001b[0m\u001b[37m\u001b[0m \u001b[1m1s\u001b[0m 5ms/step - accuracy: 0.2846 - loss: -4354300.0000 - val_accuracy: 0.4392 - val_loss: -2770658.5000\n",
      "Epoch 10/10\n",
      "\u001b[1m174/174\u001b[0m \u001b[32m━━━━━━━━━━━━━━━━━━━━\u001b[0m\u001b[37m\u001b[0m \u001b[1m1s\u001b[0m 5ms/step - accuracy: 0.2857 - loss: -5500724.0000 - val_accuracy: 0.4392 - val_loss: -3663411.0000\n",
      "Accuracy of CNN: 0.4392419159412384\n",
      "\u001b[1m29/29\u001b[0m \u001b[32m━━━━━━━━━━━━━━━━━━━━\u001b[0m\u001b[37m\u001b[0m \u001b[1m0s\u001b[0m 6ms/step\n",
      "Precision of CNN: 0.1929334620915252\n",
      "Recall of CNN: 0.43924191750278707\n",
      "F1-score of CNN: 0.2681042842697105\n",
      "              precision    recall  f1-score   support\n",
      "\n",
      "           0       0.00      0.00      0.00        24\n",
      "           1       0.44      1.00      0.61       394\n",
      "           2       0.00      0.00      0.00         4\n",
      "           3       0.00      0.00      0.00        21\n",
      "           4       0.00      0.00      0.00         7\n",
      "           5       0.00      0.00      0.00        11\n",
      "           6       0.00      0.00      0.00       436\n",
      "\n",
      "    accuracy                           0.44       897\n",
      "   macro avg       0.06      0.14      0.09       897\n",
      "weighted avg       0.19      0.44      0.27       897\n",
      "\n"
     ]
    },
    {
     "data": {
      "image/png": "[encoded data removed]",
      "text/plain": [
       "<Figure size 500x500 with 2 Axes>"
      ]
     },
     "metadata": {},
     "output_type": "display_data"
    }
   ],
   "source": [
    "# Reshape the data for CNN input (assuming your data is not in image format)\n",
    "X_train_cnn = X_train.reshape(X_train.shape[0], X_train.shape[1], 1)\n",
    "X_test_cnn = X_test.reshape(X_test.shape[0], X_test.shape[1], 1)\n",
    "\n",
    "# Create and compile CNN model\n",
    "model_cnn = tf.keras.Sequential([\n",
    "    tf.keras.layers.Conv1D(64, 3, activation='relu', input_shape=(X_train_cnn.shape[1], 1)),\n",
    "    tf.keras.layers.MaxPooling1D(2),\n",
    "    tf.keras.layers.Flatten(),\n",
    "    tf.keras.layers.Dense(128, activation='relu'),\n",
    "    tf.keras.layers.Dense(1, activation='sigmoid')\n",
    "])\n",
    "\n",
    "model_cnn.compile(optimizer='adam', loss='binary_crossentropy', metrics=['accuracy'])\n",
    "\n",
    "# Train CNN model\n",
    "model_cnn.fit(X_train_cnn, y_train, epochs=10, validation_data=(X_test_cnn, y_test))\n",
    "\n",
    "# Evaluate CNN model\n",
    "cnn_score = model_cnn.evaluate(X_test_cnn, y_test, verbose=0)\n",
    "print('Accuracy of CNN: ' + str(cnn_score[1]))\n",
    "\n",
    "# Predict using the model\n",
    "y_predict_cnn = (model_cnn.predict(X_test_cnn) > 0.5).astype(\"int32\")\n",
    "\n",
    "# Calculate precision, recall, and F1-score\n",
    "precision_cnn, recall_cnn, fscore_cnn, _ = precision_recall_fscore_support(y_test, y_predict_cnn, average='weighted')\n",
    "print('Precision of CNN: ' + str(precision_cnn))\n",
    "print('Recall of CNN: ' + str(recall_cnn))\n",
    "print('F1-score of CNN: ' + str(fscore_cnn))\n",
    "\n",
    "# Print classification report\n",
    "print(classification_report(y_test, y_predict_cnn))\n",
    "\n",
    "# Confusion matrix\n",
    "cm_cnn = confusion_matrix(y_test, y_predict_cnn)\n",
    "f, ax = plt.subplots(figsize=(5, 5))\n",
    "sns.heatmap(cm_cnn, annot=True, linewidths=0.5, linecolor=\"red\", fmt=\".0f\", ax=ax)\n",
    "plt.xlabel(\"y_pred\")\n",
    "plt.ylabel(\"y_true\")\n",
    "plt.show()\n"
   ]
  },
  {
   "cell_type": "code",
   "execution_count": 144,
   "id": "9090763b-3c53-4932-97e6-86b8c3dd90b7",
   "metadata": {},
   "outputs": [
    {
     "name": "stdout",
     "output_type": "stream",
     "text": [
      "100%|████████████████████████████████████████████████████████████| 50/50 [10:55<00:00, 13.11s/trial, best loss: -0.4392419159412384]\n",
      "CNN: Hyperopt estimated optimum {'dense_units': 37.0, 'epochs': 14.0, 'filters': 78.0, 'kernel_size': 5.0, 'pool_size': 4.0}\n",
      "Epoch 1/14\n",
      "\u001b[1m174/174\u001b[0m \u001b[32m━━━━━━━━━━━━━━━━━━━━\u001b[0m\u001b[37m\u001b[0m \u001b[1m4s\u001b[0m 6ms/step - accuracy: 0.2872 - loss: -172.4389 - val_accuracy: 0.4392 - val_loss: -1206.9541\n",
      "Epoch 2/14\n",
      "\u001b[1m174/174\u001b[0m \u001b[32m━━━━━━━━━━━━━━━━━━━━\u001b[0m\u001b[37m\u001b[0m \u001b[1m1s\u001b[0m 4ms/step - accuracy: 0.2899 - loss: -5448.0864 - val_accuracy: 0.4392 - val_loss: -9798.4863\n",
      "Epoch 3/14\n",
      "\u001b[1m174/174\u001b[0m \u001b[32m━━━━━━━━━━━━━━━━━━━━\u001b[0m\u001b[37m\u001b[0m \u001b[1m1s\u001b[0m 5ms/step - accuracy: 0.2876 - loss: -27791.1367 - val_accuracy: 0.4392 - val_loss: -33946.9727\n",
      "Epoch 4/14\n",
      "\u001b[1m174/174\u001b[0m \u001b[32m━━━━━━━━━━━━━━━━━━━━\u001b[0m\u001b[37m\u001b[0m \u001b[1m1s\u001b[0m 4ms/step - accuracy: 0.2828 - loss: -91807.7188 - val_accuracy: 0.4392 - val_loss: -78952.3281\n",
      "Epoch 5/14\n",
      "\u001b[1m174/174\u001b[0m \u001b[32m━━━━━━━━━━━━━━━━━━━━\u001b[0m\u001b[37m\u001b[0m \u001b[1m1s\u001b[0m 4ms/step - accuracy: 0.2882 - loss: -195989.7656 - val_accuracy: 0.4392 - val_loss: -149537.3438\n",
      "Epoch 6/14\n",
      "\u001b[1m174/174\u001b[0m \u001b[32m━━━━━━━━━━━━━━━━━━━━\u001b[0m\u001b[37m\u001b[0m \u001b[1m1s\u001b[0m 4ms/step - accuracy: 0.2844 - loss: -345743.1875 - val_accuracy: 0.4392 - val_loss: -251350.0312\n",
      "Epoch 7/14\n",
      "\u001b[1m174/174\u001b[0m \u001b[32m━━━━━━━━━━━━━━━━━━━━\u001b[0m\u001b[37m\u001b[0m \u001b[1m1s\u001b[0m 4ms/step - accuracy: 0.2898 - loss: -605079.5000 - val_accuracy: 0.4392 - val_loss: -387476.3750\n",
      "Epoch 8/14\n",
      "\u001b[1m174/174\u001b[0m \u001b[32m━━━━━━━━━━━━━━━━━━━━\u001b[0m\u001b[37m\u001b[0m \u001b[1m1s\u001b[0m 4ms/step - accuracy: 0.2825 - loss: -870844.3750 - val_accuracy: 0.4392 - val_loss: -561266.9375\n",
      "Epoch 9/14\n",
      "\u001b[1m174/174\u001b[0m \u001b[32m━━━━━━━━━━━━━━━━━━━━\u001b[0m\u001b[37m\u001b[0m \u001b[1m1s\u001b[0m 4ms/step - accuracy: 0.2856 - loss: -1357250.8750 - val_accuracy: 0.4392 - val_loss: -768889.1250\n",
      "Epoch 10/14\n",
      "\u001b[1m174/174\u001b[0m \u001b[32m━━━━━━━━━━━━━━━━━━━━\u001b[0m\u001b[37m\u001b[0m \u001b[1m1s\u001b[0m 5ms/step - accuracy: 0.2889 - loss: -1686395.1250 - val_accuracy: 0.4392 - val_loss: -1022706.0000\n",
      "Epoch 11/14\n",
      "\u001b[1m174/174\u001b[0m \u001b[32m━━━━━━━━━━━━━━━━━━━━\u001b[0m\u001b[37m\u001b[0m \u001b[1m1s\u001b[0m 5ms/step - accuracy: 0.2795 - loss: -2334575.2500 - val_accuracy: 0.4392 - val_loss: -1314770.3750\n",
      "Epoch 12/14\n",
      "\u001b[1m174/174\u001b[0m \u001b[32m━━━━━━━━━━━━━━━━━━━━\u001b[0m\u001b[37m\u001b[0m \u001b[1m1s\u001b[0m 5ms/step - accuracy: 0.2819 - loss: -2800200.5000 - val_accuracy: 0.4392 - val_loss: -1650599.6250\n",
      "Epoch 13/14\n",
      "\u001b[1m174/174\u001b[0m \u001b[32m━━━━━━━━━━━━━━━━━━━━\u001b[0m\u001b[37m\u001b[0m \u001b[1m1s\u001b[0m 4ms/step - accuracy: 0.2823 - loss: -3815397.5000 - val_accuracy: 0.4392 - val_loss: -2044709.6250\n",
      "Epoch 14/14\n",
      "\u001b[1m174/174\u001b[0m \u001b[32m━━━━━━━━━━━━━━━━━━━━\u001b[0m\u001b[37m\u001b[0m \u001b[1m1s\u001b[0m 5ms/step - accuracy: 0.2822 - loss: -4589348.0000 - val_accuracy: 0.4392 - val_loss: -2485650.5000\n",
      "Accuracy of CNN with best hyperparameters: 0.4392419159412384\n",
      "\u001b[1m29/29\u001b[0m \u001b[32m━━━━━━━━━━━━━━━━━━━━\u001b[0m\u001b[37m\u001b[0m \u001b[1m0s\u001b[0m 7ms/step\n",
      "Precision of CNN with best hyperparameters: 0.1929334620915252\n",
      "Recall of CNN with best hyperparameters: 0.43924191750278707\n",
      "F1-score of CNN with best hyperparameters: 0.2681042842697105\n",
      "              precision    recall  f1-score   support\n",
      "\n",
      "           0       0.00      0.00      0.00        24\n",
      "           1       0.44      1.00      0.61       394\n",
      "           2       0.00      0.00      0.00         4\n",
      "           3       0.00      0.00      0.00        21\n",
      "           4       0.00      0.00      0.00         7\n",
      "           5       0.00      0.00      0.00        11\n",
      "           6       0.00      0.00      0.00       436\n",
      "\n",
      "    accuracy                           0.44       897\n",
      "   macro avg       0.06      0.14      0.09       897\n",
      "weighted avg       0.19      0.44      0.27       897\n",
      "\n"
     ]
    },
    {
     "data": {
      "image/png": "[encoded data removed]",
      "text/plain": [
       "<Figure size 500x500 with 2 Axes>"
      ]
     },
     "metadata": {},
     "output_type": "display_data"
    }
   ],
   "source": [
    "# Define the objective function for CNN\n",
    "def cnn_objective(params):\n",
    "    model = tf.keras.Sequential([\n",
    "        tf.keras.layers.Conv1D(filters=int(params['filters']), kernel_size=int(params['kernel_size']), activation='relu', input_shape=(X_train.shape[1], 1)),\n",
    "        tf.keras.layers.MaxPooling1D(pool_size=int(params['pool_size'])),\n",
    "        tf.keras.layers.Flatten(),\n",
    "        tf.keras.layers.Dense(int(params['dense_units']), activation='relu'),\n",
    "        tf.keras.layers.Dense(1, activation='sigmoid')\n",
    "    ])\n",
    "    model.compile(optimizer='adam', loss='binary_crossentropy', metrics=['accuracy'])\n",
    "    model.fit(X_train_cnn, y_train, epochs=int(params['epochs']), validation_data=(X_test_cnn, y_test), verbose=0)\n",
    "    _, accuracy = model.evaluate(X_test_cnn, y_test, verbose=0)\n",
    "    return {'loss': -accuracy, 'status': STATUS_OK}\n",
    "\n",
    "# Define the hyperparameter configuration space for CNN\n",
    "cnn_space = {\n",
    "    'filters': hp.quniform('filters', 32, 128, 1),\n",
    "    'kernel_size': hp.quniform('kernel_size', 3, 10, 1),\n",
    "    'pool_size': hp.quniform('pool_size', 2, 5, 1),\n",
    "    'dense_units': hp.quniform('dense_units', 32, 128, 1),\n",
    "    'epochs': hp.quniform('epochs', 5, 20, 1)\n",
    "}\n",
    "\n",
    "# Perform hyperparameter optimization for CNN\n",
    "cnn_trials = Trials()\n",
    "best_cnn = fmin(fn=cnn_objective, space=cnn_space, algo=tpe.suggest, max_evals=50, trials=cnn_trials)\n",
    "\n",
    "print(\"CNN: Hyperopt estimated optimum {}\".format(best_cnn))\n",
    "\n",
    "# Extract the best hyperparameters for CNN\n",
    "best_filters = int(best_cnn['filters'])\n",
    "best_kernel_size = int(best_cnn['kernel_size'])\n",
    "best_pool_size = int(best_cnn['pool_size'])\n",
    "best_dense_units = int(best_cnn['dense_units'])\n",
    "best_epochs = int(best_cnn['epochs'])\n",
    "\n",
    "# Create and train CNN model with best hyperparameters\n",
    "cnn_hpo = tf.keras.Sequential([\n",
    "    tf.keras.layers.Conv1D(filters=best_filters, kernel_size=best_kernel_size, activation='relu', input_shape=(X_train_cnn.shape[1], 1)),\n",
    "    tf.keras.layers.MaxPooling1D(pool_size=best_pool_size),\n",
    "    tf.keras.layers.Flatten(),\n",
    "    tf.keras.layers.Dense(best_dense_units, activation='relu'),\n",
    "    tf.keras.layers.Dense(1, activation='sigmoid')\n",
    "])\n",
    "cnn_hpo.compile(optimizer='adam', loss='binary_crossentropy', metrics=['accuracy'])\n",
    "cnn_hpo.fit(X_train_cnn, y_train, epochs=best_epochs, validation_data=(X_test_cnn, y_test))\n",
    "\n",
    "# Evaluate CNN model with best hyperparameters\n",
    "cnn_score = cnn_hpo.evaluate(X_test_cnn, y_test, verbose=0)\n",
    "print('Accuracy of CNN with best hyperparameters: ' + str(cnn_score[1]))\n",
    "\n",
    "# Predict using the CNN model with best hyperparameters\n",
    "y_predict_cnn = (cnn_hpo.predict(X_test_cnn) > 0.5).astype(\"int32\")\n",
    "\n",
    "# Calculate precision, recall, and F1-score for CNN model\n",
    "precision_cnn, recall_cnn, fscore_cnn, _ = precision_recall_fscore_support(y_test, y_predict_cnn, average='weighted')\n",
    "print('Precision of CNN with best hyperparameters: ' + str(precision_cnn))\n",
    "print('Recall of CNN with best hyperparameters: ' + str(recall_cnn))\n",
    "print('F1-score of CNN with best hyperparameters: ' + str(fscore_cnn))\n",
    "\n",
    "# Print classification report for CNN model\n",
    "print(classification_report(y_test, y_predict_cnn))\n",
    "\n",
    "# Confusion matrix for CNN model\n",
    "cm_cnn = confusion_matrix(y_test, y_predict_cnn)\n",
    "f, ax = plt.subplots(figsize=(5, 5))\n",
    "sns.heatmap(cm_cnn, annot=True, linewidths=0.5, linecolor=\"red\", fmt=\".0f\", ax=ax)\n",
    "plt.xlabel(\"y_pred\")\n",
    "plt.ylabel(\"y_true\")\n",
    "plt.show()"
   ]
  },
  {
   "cell_type": "code",
   "execution_count": 150,
   "id": "60523290-88ec-426f-9288-1e1239fff07d",
   "metadata": {},
   "outputs": [
    {
     "name": "stdout",
     "output_type": "stream",
     "text": [
      "\u001b[1m174/174\u001b[0m \u001b[32m━━━━━━━━━━━━━━━━━━━━\u001b[0m\u001b[37m\u001b[0m \u001b[1m0s\u001b[0m 2ms/step\n",
      "\u001b[1m29/29\u001b[0m \u001b[32m━━━━━━━━━━━━━━━━━━━━\u001b[0m\u001b[37m\u001b[0m \u001b[1m0s\u001b[0m 2ms/step\n"
     ]
    }
   ],
   "source": [
    "cnn_train=cnn_hpo.predict(X_train_cnn)\n",
    "cnn_test=cnn_hpo.predict(X_test_cnn)"
   ]
  },
  {
   "cell_type": "markdown",
   "id": "e4b02436-8cec-419b-a234-c721b01fc1ec",
   "metadata": {},
   "source": [
    "#### CNN without FCBF"
   ]
  },
  {
   "cell_type": "code",
   "execution_count": 149,
   "id": "302c74c8-2176-4e07-8208-7f424e431e60",
   "metadata": {},
   "outputs": [
    {
     "name": "stdout",
     "output_type": "stream",
     "text": [
      "Epoch 1/10\n",
      "\u001b[1m174/174\u001b[0m \u001b[32m━━━━━━━━━━━━━━━━━━━━\u001b[0m\u001b[37m\u001b[0m \u001b[1m4s\u001b[0m 8ms/step - accuracy: 0.2828 - loss: -1015.1508 - val_accuracy: 0.4392 - val_loss: -9339.7002\n",
      "Epoch 2/10\n",
      "\u001b[1m174/174\u001b[0m \u001b[32m━━━━━━━━━━━━━━━━━━━━\u001b[0m\u001b[37m\u001b[0m \u001b[1m1s\u001b[0m 5ms/step - accuracy: 0.2751 - loss: -33128.1094 - val_accuracy: 0.4392 - val_loss: -85489.6406\n",
      "Epoch 3/10\n",
      "\u001b[1m174/174\u001b[0m \u001b[32m━━━━━━━━━━━━━━━━━━━━\u001b[0m\u001b[37m\u001b[0m \u001b[1m1s\u001b[0m 5ms/step - accuracy: 0.2867 - loss: -199456.6406 - val_accuracy: 0.4392 - val_loss: -302303.7500\n",
      "Epoch 4/10\n",
      "\u001b[1m174/174\u001b[0m \u001b[32m━━━━━━━━━━━━━━━━━━━━\u001b[0m\u001b[37m\u001b[0m \u001b[1m1s\u001b[0m 5ms/step - accuracy: 0.2880 - loss: -590830.5625 - val_accuracy: 0.4392 - val_loss: -719191.6875\n",
      "Epoch 5/10\n",
      "\u001b[1m174/174\u001b[0m \u001b[32m━━━━━━━━━━━━━━━━━━━━\u001b[0m\u001b[37m\u001b[0m \u001b[1m1s\u001b[0m 5ms/step - accuracy: 0.2883 - loss: -1404386.5000 - val_accuracy: 0.4392 - val_loss: -1382720.8750\n",
      "Epoch 6/10\n",
      "\u001b[1m174/174\u001b[0m \u001b[32m━━━━━━━━━━━━━━━━━━━━\u001b[0m\u001b[37m\u001b[0m \u001b[1m1s\u001b[0m 6ms/step - accuracy: 0.2947 - loss: -2531762.0000 - val_accuracy: 0.4392 - val_loss: -2333994.0000\n",
      "Epoch 7/10\n",
      "\u001b[1m174/174\u001b[0m \u001b[32m━━━━━━━━━━━━━━━━━━━━\u001b[0m\u001b[37m\u001b[0m \u001b[1m1s\u001b[0m 5ms/step - accuracy: 0.2869 - loss: -4005921.2500 - val_accuracy: 0.4392 - val_loss: -3613872.0000\n",
      "Epoch 8/10\n",
      "\u001b[1m174/174\u001b[0m \u001b[32m━━━━━━━━━━━━━━━━━━━━\u001b[0m\u001b[37m\u001b[0m \u001b[1m1s\u001b[0m 6ms/step - accuracy: 0.2900 - loss: -6182765.5000 - val_accuracy: 0.4392 - val_loss: -5235251.0000\n",
      "Epoch 9/10\n",
      "\u001b[1m174/174\u001b[0m \u001b[32m━━━━━━━━━━━━━━━━━━━━\u001b[0m\u001b[37m\u001b[0m \u001b[1m1s\u001b[0m 6ms/step - accuracy: 0.2799 - loss: -8696356.0000 - val_accuracy: 0.4392 - val_loss: -7233164.5000\n",
      "Epoch 10/10\n",
      "\u001b[1m174/174\u001b[0m \u001b[32m━━━━━━━━━━━━━━━━━━━━\u001b[0m\u001b[37m\u001b[0m \u001b[1m1s\u001b[0m 6ms/step - accuracy: 0.2806 - loss: -12022880.0000 - val_accuracy: 0.4392 - val_loss: -9634246.0000\n",
      "Accuracy of CNN: 0.4392419159412384\n",
      "\u001b[1m29/29\u001b[0m \u001b[32m━━━━━━━━━━━━━━━━━━━━\u001b[0m\u001b[37m\u001b[0m \u001b[1m0s\u001b[0m 8ms/step\n",
      "Precision of CNN: 0.1929334620915252\n",
      "Recall of CNN: 0.43924191750278707\n",
      "F1-score of CNN: 0.2681042842697105\n",
      "              precision    recall  f1-score   support\n",
      "\n",
      "           0       0.00      0.00      0.00        24\n",
      "           1       0.44      1.00      0.61       394\n",
      "           2       0.00      0.00      0.00         4\n",
      "           3       0.00      0.00      0.00        21\n",
      "           4       0.00      0.00      0.00         7\n",
      "           5       0.00      0.00      0.00        11\n",
      "           6       0.00      0.00      0.00       436\n",
      "\n",
      "    accuracy                           0.44       897\n",
      "   macro avg       0.06      0.14      0.09       897\n",
      "weighted avg       0.19      0.44      0.27       897\n",
      "\n"
     ]
    },
    {
     "data": {
      "image/png": "[encoded data removed]",
      "text/plain": [
       "<Figure size 500x500 with 2 Axes>"
      ]
     },
     "metadata": {},
     "output_type": "display_data"
    }
   ],
   "source": [
    "# Reshape the data for CNN input (assuming your data is not in image format)\n",
    "X_train_cnn_1 = X_train_1.reshape(X_train_1.shape[0], X_train_1.shape[1], 1)\n",
    "X_test_cnn_1 = X_test_1.reshape(X_test_1.shape[0], X_test_1.shape[1], 1)\n",
    "\n",
    "# Create and compile CNN model\n",
    "model_cnn = tf.keras.Sequential([\n",
    "    tf.keras.layers.Conv1D(64, 3, activation='relu', input_shape=(X_train_cnn_1.shape[1], 1)),\n",
    "    tf.keras.layers.MaxPooling1D(2),\n",
    "    tf.keras.layers.Flatten(),\n",
    "    tf.keras.layers.Dense(128, activation='relu'),\n",
    "    tf.keras.layers.Dense(1, activation='sigmoid')\n",
    "])\n",
    "\n",
    "model_cnn.compile(optimizer='adam', loss='binary_crossentropy', metrics=['accuracy'])\n",
    "\n",
    "# Train CNN model\n",
    "model_cnn.fit(X_train_cnn_1, y_train_1, epochs=10, validation_data=(X_test_cnn_1, y_test_1))\n",
    "\n",
    "# Evaluate CNN model\n",
    "cnn_score = model_cnn.evaluate(X_test_cnn_1, y_test_1, verbose=0)\n",
    "print('Accuracy of CNN: ' + str(cnn_score[1]))\n",
    "\n",
    "# Predict using the model\n",
    "y_predict_cnn_1 = (model_cnn.predict(X_test_cnn_1) > 0.5).astype(\"int32\")\n",
    "\n",
    "# Calculate precision, recall, and F1-score\n",
    "precision_cnn, recall_cnn, fscore_cnn, _ = precision_recall_fscore_support(y_test_1, y_predict_cnn_1, average='weighted')\n",
    "print('Precision of CNN: ' + str(precision_cnn))\n",
    "print('Recall of CNN: ' + str(recall_cnn))\n",
    "print('F1-score of CNN: ' + str(fscore_cnn))\n",
    "\n",
    "# Print classification report\n",
    "print(classification_report(y_test_1, y_predict_cnn_1))\n",
    "\n",
    "# Confusion matrix\n",
    "cm_cnn = confusion_matrix(y_test_1, y_predict_cnn_1)\n",
    "f, ax = plt.subplots(figsize=(5, 5))\n",
    "sns.heatmap(cm_cnn, annot=True, linewidths=0.5, linecolor=\"red\", fmt=\".0f\", ax=ax)\n",
    "plt.xlabel(\"y_pred\")\n",
    "plt.ylabel(\"y_true\")\n",
    "plt.show()\n"
   ]
  },
  {
   "cell_type": "code",
   "execution_count": 152,
   "id": "5f71ac0d-706a-48c3-a7b1-aa8b6364d85b",
   "metadata": {},
   "outputs": [
    {
     "name": "stdout",
     "output_type": "stream",
     "text": [
      "100%|████████████████████████████████████████████████████████████| 50/50 [06:42<00:00,  8.05s/trial, best loss: -0.4392419159412384]\n",
      "CNN: Hyperopt estimated optimum {'dense_units': 34.0, 'epochs': 15.0, 'filters': 91.0, 'kernel_size': 8.0, 'pool_size': 4.0}\n",
      "Epoch 1/15\n",
      "\u001b[1m174/174\u001b[0m \u001b[32m━━━━━━━━━━━━━━━━━━━━\u001b[0m\u001b[37m\u001b[0m \u001b[1m2s\u001b[0m 4ms/step - accuracy: 0.2790 - loss: -242.6549 - val_accuracy: 0.4392 - val_loss: -1830.2183\n",
      "Epoch 2/15\n",
      "\u001b[1m174/174\u001b[0m \u001b[32m━━━━━━━━━━━━━━━━━━━━\u001b[0m\u001b[37m\u001b[0m \u001b[1m0s\u001b[0m 3ms/step - accuracy: 0.2841 - loss: -8370.1582 - val_accuracy: 0.4392 - val_loss: -16220.9180\n",
      "Epoch 3/15\n",
      "\u001b[1m174/174\u001b[0m \u001b[32m━━━━━━━━━━━━━━━━━━━━\u001b[0m\u001b[37m\u001b[0m \u001b[1m0s\u001b[0m 2ms/step - accuracy: 0.2945 - loss: -45116.0273 - val_accuracy: 0.4392 - val_loss: -57301.4258\n",
      "Epoch 4/15\n",
      "\u001b[1m174/174\u001b[0m \u001b[32m━━━━━━━━━━━━━━━━━━━━\u001b[0m\u001b[37m\u001b[0m \u001b[1m0s\u001b[0m 2ms/step - accuracy: 0.2865 - loss: -150692.0156 - val_accuracy: 0.4392 - val_loss: -133145.6719\n",
      "Epoch 5/15\n",
      "\u001b[1m174/174\u001b[0m \u001b[32m━━━━━━━━━━━━━━━━━━━━\u001b[0m\u001b[37m\u001b[0m \u001b[1m0s\u001b[0m 2ms/step - accuracy: 0.2786 - loss: -324891.5938 - val_accuracy: 0.4392 - val_loss: -252155.3594\n",
      "Epoch 6/15\n",
      "\u001b[1m174/174\u001b[0m \u001b[32m━━━━━━━━━━━━━━━━━━━━\u001b[0m\u001b[37m\u001b[0m \u001b[1m0s\u001b[0m 2ms/step - accuracy: 0.2839 - loss: -619829.8125 - val_accuracy: 0.4392 - val_loss: -421607.4062\n",
      "Epoch 7/15\n",
      "\u001b[1m174/174\u001b[0m \u001b[32m━━━━━━━━━━━━━━━━━━━━\u001b[0m\u001b[37m\u001b[0m \u001b[1m0s\u001b[0m 3ms/step - accuracy: 0.2895 - loss: -992782.3750 - val_accuracy: 0.4392 - val_loss: -649578.0000\n",
      "Epoch 8/15\n",
      "\u001b[1m174/174\u001b[0m \u001b[32m━━━━━━━━━━━━━━━━━━━━\u001b[0m\u001b[37m\u001b[0m \u001b[1m0s\u001b[0m 3ms/step - accuracy: 0.2854 - loss: -1430330.3750 - val_accuracy: 0.4392 - val_loss: -943793.4375\n",
      "Epoch 9/15\n",
      "\u001b[1m174/174\u001b[0m \u001b[32m━━━━━━━━━━━━━━━━━━━━\u001b[0m\u001b[37m\u001b[0m \u001b[1m0s\u001b[0m 2ms/step - accuracy: 0.2896 - loss: -2011057.2500 - val_accuracy: 0.4392 - val_loss: -1306213.6250\n",
      "Epoch 10/15\n",
      "\u001b[1m174/174\u001b[0m \u001b[32m━━━━━━━━━━━━━━━━━━━━\u001b[0m\u001b[37m\u001b[0m \u001b[1m0s\u001b[0m 3ms/step - accuracy: 0.2821 - loss: -2764949.2500 - val_accuracy: 0.4392 - val_loss: -1741152.5000\n",
      "Epoch 11/15\n",
      "\u001b[1m174/174\u001b[0m \u001b[32m━━━━━━━━━━━━━━━━━━━━\u001b[0m\u001b[37m\u001b[0m \u001b[1m0s\u001b[0m 2ms/step - accuracy: 0.2855 - loss: -3793353.2500 - val_accuracy: 0.4392 - val_loss: -2259067.0000\n",
      "Epoch 12/15\n",
      "\u001b[1m174/174\u001b[0m \u001b[32m━━━━━━━━━━━━━━━━━━━━\u001b[0m\u001b[37m\u001b[0m \u001b[1m0s\u001b[0m 2ms/step - accuracy: 0.2788 - loss: -4924737.5000 - val_accuracy: 0.4392 - val_loss: -2852126.0000\n",
      "Epoch 13/15\n",
      "\u001b[1m174/174\u001b[0m \u001b[32m━━━━━━━━━━━━━━━━━━━━\u001b[0m\u001b[37m\u001b[0m \u001b[1m0s\u001b[0m 2ms/step - accuracy: 0.2745 - loss: -5791672.0000 - val_accuracy: 0.4392 - val_loss: -3533761.7500\n",
      "Epoch 14/15\n",
      "\u001b[1m174/174\u001b[0m \u001b[32m━━━━━━━━━━━━━━━━━━━━\u001b[0m\u001b[37m\u001b[0m \u001b[1m0s\u001b[0m 2ms/step - accuracy: 0.2852 - loss: -7379225.0000 - val_accuracy: 0.4392 - val_loss: -4293697.5000\n",
      "Epoch 15/15\n",
      "\u001b[1m174/174\u001b[0m \u001b[32m━━━━━━━━━━━━━━━━━━━━\u001b[0m\u001b[37m\u001b[0m \u001b[1m0s\u001b[0m 2ms/step - accuracy: 0.2859 - loss: -10053405.0000 - val_accuracy: 0.4392 - val_loss: -5140771.5000\n",
      "Accuracy of CNN with best hyperparameters: 0.4392419159412384\n",
      "\u001b[1m29/29\u001b[0m \u001b[32m━━━━━━━━━━━━━━━━━━━━\u001b[0m\u001b[37m\u001b[0m \u001b[1m0s\u001b[0m 3ms/step\n",
      "Precision of CNN with best hyperparameters: 0.1929334620915252\n",
      "Recall of CNN with best hyperparameters: 0.43924191750278707\n",
      "F1-score of CNN with best hyperparameters: 0.2681042842697105\n",
      "              precision    recall  f1-score   support\n",
      "\n",
      "           0       0.00      0.00      0.00        24\n",
      "           1       0.44      1.00      0.61       394\n",
      "           2       0.00      0.00      0.00         4\n",
      "           3       0.00      0.00      0.00        21\n",
      "           4       0.00      0.00      0.00         7\n",
      "           5       0.00      0.00      0.00        11\n",
      "           6       0.00      0.00      0.00       436\n",
      "\n",
      "    accuracy                           0.44       897\n",
      "   macro avg       0.06      0.14      0.09       897\n",
      "weighted avg       0.19      0.44      0.27       897\n",
      "\n"
     ]
    },
    {
     "data": {
      "image/png": "[encoded data removed]",
      "text/plain": [
       "<Figure size 500x500 with 2 Axes>"
      ]
     },
     "metadata": {},
     "output_type": "display_data"
    }
   ],
   "source": [
    "# Define the objective function for CNN\n",
    "def cnn_objective(params):\n",
    "    model = tf.keras.Sequential([\n",
    "        tf.keras.layers.Conv1D(filters=int(params['filters']), kernel_size=int(params['kernel_size']), activation='relu', input_shape=(X_train_1.shape[1], 1)),\n",
    "        tf.keras.layers.MaxPooling1D(pool_size=int(params['pool_size'])),\n",
    "        tf.keras.layers.Flatten(),\n",
    "        tf.keras.layers.Dense(int(params['dense_units']), activation='relu'),\n",
    "        tf.keras.layers.Dense(1, activation='sigmoid')\n",
    "    ])\n",
    "    model.compile(optimizer='adam', loss='binary_crossentropy', metrics=['accuracy'])\n",
    "    model.fit(X_train_cnn_1, y_train_1, epochs=int(params['epochs']), validation_data=(X_test_cnn_1, y_test_1), verbose=0)\n",
    "    _, accuracy = model.evaluate(X_test_cnn_1, y_test_1, verbose=0)\n",
    "    return {'loss': -accuracy, 'status': STATUS_OK}\n",
    "\n",
    "# Define the hyperparameter configuration space for CNN\n",
    "cnn_space = {\n",
    "    'filters': hp.quniform('filters', 32, 128, 1),\n",
    "    'kernel_size': hp.quniform('kernel_size', 3, 10, 1),\n",
    "    'pool_size': hp.quniform('pool_size', 2, 5, 1),\n",
    "    'dense_units': hp.quniform('dense_units', 32, 128, 1),\n",
    "    'epochs': hp.quniform('epochs', 5, 20, 1)\n",
    "}\n",
    "\n",
    "# Perform hyperparameter optimization for CNN\n",
    "cnn_trials = Trials()\n",
    "best_cnn = fmin(fn=cnn_objective, space=cnn_space, algo=tpe.suggest, max_evals=50, trials=cnn_trials)\n",
    "\n",
    "print(\"CNN: Hyperopt estimated optimum {}\".format(best_cnn))\n",
    "\n",
    "# Extract the best hyperparameters for CNN\n",
    "best_filters = int(best_cnn['filters'])\n",
    "best_kernel_size = int(best_cnn['kernel_size'])\n",
    "best_pool_size = int(best_cnn['pool_size'])\n",
    "best_dense_units = int(best_cnn['dense_units'])\n",
    "best_epochs = int(best_cnn['epochs'])\n",
    "\n",
    "# Create and train CNN model with best hyperparameters\n",
    "cnn_hpo = tf.keras.Sequential([\n",
    "    tf.keras.layers.Conv1D(filters=best_filters, kernel_size=best_kernel_size, activation='relu', input_shape=(X_train_cnn_1.shape[1], 1)),\n",
    "    tf.keras.layers.MaxPooling1D(pool_size=best_pool_size),\n",
    "    tf.keras.layers.Flatten(),\n",
    "    tf.keras.layers.Dense(best_dense_units, activation='relu'),\n",
    "    tf.keras.layers.Dense(1, activation='sigmoid')\n",
    "])\n",
    "cnn_hpo.compile(optimizer='adam', loss='binary_crossentropy', metrics=['accuracy'])\n",
    "cnn_hpo.fit(X_train_cnn_1, y_train_1, epochs=best_epochs, validation_data=(X_test_cnn_1, y_test_1))\n",
    "\n",
    "# Evaluate CNN model with best hyperparameters\n",
    "cnn_score = cnn_hpo.evaluate(X_test_cnn_1, y_test_1, verbose=0)\n",
    "print('Accuracy of CNN with best hyperparameters: ' + str(cnn_score[1]))\n",
    "\n",
    "# Predict using the CNN model with best hyperparameters\n",
    "y_predict_cnn_1 = (cnn_hpo.predict(X_test_cnn_1) > 0.5).astype(\"int32\")\n",
    "\n",
    "# Calculate precision, recall, and F1-score for CNN model\n",
    "precision_cnn, recall_cnn, fscore_cnn, _ = precision_recall_fscore_support(y_test_1, y_predict_cnn_1, average='weighted')\n",
    "print('Precision of CNN with best hyperparameters: ' + str(precision_cnn))\n",
    "print('Recall of CNN with best hyperparameters: ' + str(recall_cnn))\n",
    "print('F1-score of CNN with best hyperparameters: ' + str(fscore_cnn))\n",
    "\n",
    "# Print classification report for CNN model\n",
    "print(classification_report(y_test_1, y_predict_cnn_1))\n",
    "\n",
    "# Confusion matrix for CNN model\n",
    "cm_cnn = confusion_matrix(y_test_1, y_predict_cnn_1)\n",
    "f, ax = plt.subplots(figsize=(5, 5))\n",
    "sns.heatmap(cm_cnn, annot=True, linewidths=0.5, linecolor=\"red\", fmt=\".0f\", ax=ax)\n",
    "plt.xlabel(\"y_pred\")\n",
    "plt.ylabel(\"y_true\")\n",
    "plt.show()"
   ]
  },
  {
   "cell_type": "code",
   "execution_count": 155,
   "id": "042dca2d-789b-4701-9ebc-8975d1352ffa",
   "metadata": {},
   "outputs": [
    {
     "name": "stdout",
     "output_type": "stream",
     "text": [
      "\u001b[1m174/174\u001b[0m \u001b[32m━━━━━━━━━━━━━━━━━━━━\u001b[0m\u001b[37m\u001b[0m \u001b[1m0s\u001b[0m 1ms/step\n",
      "\u001b[1m29/29\u001b[0m \u001b[32m━━━━━━━━━━━━━━━━━━━━\u001b[0m\u001b[37m\u001b[0m \u001b[1m0s\u001b[0m 1ms/step \n"
     ]
    }
   ],
   "source": [
    "cnn_train_1=cnn_hpo.predict(X_train_cnn_1)\n",
    "cnn_test_1=cnn_hpo.predict(X_test_cnn_1)"
   ]
  },
  {
   "cell_type": "markdown",
   "id": "c90301f4-7791-437b-b318-9dbf97a77960",
   "metadata": {},
   "source": [
    "### LSTM"
   ]
  },
  {
   "cell_type": "code",
   "execution_count": 100,
   "id": "2676eb37-d4a6-479e-a8f7-36725c63db4b",
   "metadata": {},
   "outputs": [
    {
     "name": "stdout",
     "output_type": "stream",
     "text": [
      "Epoch 1/10\n",
      "\u001b[1m174/174\u001b[0m \u001b[32m━━━━━━━━━━━━━━━━━━━━\u001b[0m\u001b[37m\u001b[0m \u001b[1m8s\u001b[0m 18ms/step - accuracy: 0.2717 - loss: -15.2799 - val_accuracy: 0.4392 - val_loss: -53.3661\n",
      "Epoch 2/10\n",
      "\u001b[1m174/174\u001b[0m \u001b[32m━━━━━━━━━━━━━━━━━━━━\u001b[0m\u001b[37m\u001b[0m \u001b[1m2s\u001b[0m 13ms/step - accuracy: 0.2887 - loss: -56.1736 - val_accuracy: 0.4392 - val_loss: -83.2257\n",
      "Epoch 3/10\n",
      "\u001b[1m174/174\u001b[0m \u001b[32m━━━━━━━━━━━━━━━━━━━━\u001b[0m\u001b[37m\u001b[0m \u001b[1m2s\u001b[0m 13ms/step - accuracy: 0.3006 - loss: -81.0215 - val_accuracy: 0.4392 - val_loss: -111.8665\n",
      "Epoch 4/10\n",
      "\u001b[1m174/174\u001b[0m \u001b[32m━━━━━━━━━━━━━━━━━━━━\u001b[0m\u001b[37m\u001b[0m \u001b[1m2s\u001b[0m 14ms/step - accuracy: 0.2820 - loss: -109.0729 - val_accuracy: 0.4392 - val_loss: -140.0539\n",
      "Epoch 5/10\n",
      "\u001b[1m174/174\u001b[0m \u001b[32m━━━━━━━━━━━━━━━━━━━━\u001b[0m\u001b[37m\u001b[0m \u001b[1m2s\u001b[0m 14ms/step - accuracy: 0.2798 - loss: -137.6945 - val_accuracy: 0.4392 - val_loss: -167.9424\n",
      "Epoch 6/10\n",
      "\u001b[1m174/174\u001b[0m \u001b[32m━━━━━━━━━━━━━━━━━━━━\u001b[0m\u001b[37m\u001b[0m \u001b[1m2s\u001b[0m 14ms/step - accuracy: 0.2895 - loss: -161.9258 - val_accuracy: 0.4392 - val_loss: -197.4823\n",
      "Epoch 7/10\n",
      "\u001b[1m174/174\u001b[0m \u001b[32m━━━━━━━━━━━━━━━━━━━━\u001b[0m\u001b[37m\u001b[0m \u001b[1m2s\u001b[0m 13ms/step - accuracy: 0.2769 - loss: -190.1277 - val_accuracy: 0.4392 - val_loss: -227.0484\n",
      "Epoch 8/10\n",
      "\u001b[1m174/174\u001b[0m \u001b[32m━━━━━━━━━━━━━━━━━━━━\u001b[0m\u001b[37m\u001b[0m \u001b[1m2s\u001b[0m 13ms/step - accuracy: 0.2900 - loss: -217.2712 - val_accuracy: 0.4392 - val_loss: -256.0925\n",
      "Epoch 9/10\n",
      "\u001b[1m174/174\u001b[0m \u001b[32m━━━━━━━━━━━━━━━━━━━━\u001b[0m\u001b[37m\u001b[0m \u001b[1m2s\u001b[0m 13ms/step - accuracy: 0.2776 - loss: -243.9297 - val_accuracy: 0.4392 - val_loss: -284.9442\n",
      "Epoch 10/10\n",
      "\u001b[1m174/174\u001b[0m \u001b[32m━━━━━━━━━━━━━━━━━━━━\u001b[0m\u001b[37m\u001b[0m \u001b[1m2s\u001b[0m 13ms/step - accuracy: 0.2803 - loss: -271.6984 - val_accuracy: 0.4392 - val_loss: -313.6298\n",
      "Accuracy of LSTM: 0.4392419159412384\n",
      "\u001b[1m29/29\u001b[0m \u001b[32m━━━━━━━━━━━━━━━━━━━━\u001b[0m\u001b[37m\u001b[0m \u001b[1m2s\u001b[0m 21ms/step\n",
      "Precision of LSTM: 0.1929334620915252\n",
      "Recall of LSTM: 0.43924191750278707\n",
      "F1-score of LSTM: 0.2681042842697105\n",
      "              precision    recall  f1-score   support\n",
      "\n",
      "           0       0.00      0.00      0.00        24\n",
      "           1       0.44      1.00      0.61       394\n",
      "           2       0.00      0.00      0.00         4\n",
      "           3       0.00      0.00      0.00        21\n",
      "           4       0.00      0.00      0.00         7\n",
      "           5       0.00      0.00      0.00        11\n",
      "           6       0.00      0.00      0.00       436\n",
      "\n",
      "    accuracy                           0.44       897\n",
      "   macro avg       0.06      0.14      0.09       897\n",
      "weighted avg       0.19      0.44      0.27       897\n",
      "\n"
     ]
    },
    {
     "data": {
      "image/png": "[encoded data removed]",
      "text/plain": [
       "<Figure size 500x500 with 2 Axes>"
      ]
     },
     "metadata": {},
     "output_type": "display_data"
    }
   ],
   "source": [
    "\n",
    "model_lstm = tf.keras.Sequential([\n",
    "    tf.keras.layers.LSTM(64, input_shape=(X_train.shape[1], 1)),\n",
    "    tf.keras.layers.Dense(1, activation='sigmoid')\n",
    "])\n",
    "\n",
    "model_lstm.compile(optimizer='adam', loss='binary_crossentropy', metrics=['accuracy'])\n",
    "\n",
    "# Train LSTM model\n",
    "model_lstm.fit(X_train, y_train, epochs=10, validation_data=(X_test, y_test))\n",
    "\n",
    "# Evaluate LSTM model\n",
    "lstm_score = model_lstm.evaluate(X_test, y_test, verbose=0)\n",
    "print('Accuracy of LSTM: ' + str(lstm_score[1]))\n",
    "\n",
    "# Predict using the model\n",
    "y_predict_lstm = (model_lstm.predict(X_test) > 0.5).astype(\"int32\")\n",
    "\n",
    "# Calculate precision, recall, and F1-score\n",
    "precision_lstm, recall_lstm, fscore_lstm, _ = precision_recall_fscore_support(y_test, y_predict_lstm, average='weighted')\n",
    "print('Precision of LSTM: ' + str(precision_lstm))\n",
    "print('Recall of LSTM: ' + str(recall_lstm))\n",
    "print('F1-score of LSTM: ' + str(fscore_lstm))\n",
    "\n",
    "# Print classification report\n",
    "print(classification_report(y_test, y_predict_lstm))\n",
    "\n",
    "# Confusion matrix\n",
    "cm_lstm = confusion_matrix(y_test, y_predict_lstm)\n",
    "f, ax = plt.subplots(figsize=(5, 5))\n",
    "sns.heatmap(cm_lstm, annot=True, linewidths=0.5, linecolor=\"red\", fmt=\".0f\", ax=ax)\n",
    "plt.xlabel(\"y_pred\")\n",
    "plt.ylabel(\"y_true\")\n",
    "plt.show()\n"
   ]
  },
  {
   "cell_type": "code",
   "execution_count": 117,
   "id": "83e94377-3380-4325-8879-97a96187de5c",
   "metadata": {},
   "outputs": [
    {
     "name": "stdout",
     "output_type": "stream",
     "text": [
      "100%|████████████████████████████████████████████████████████████| 50/50 [28:34<00:00, 34.28s/trial, best loss: -0.4392419159412384]\n",
      "LSTM: Hyperopt estimated optimum {'epochs': 14.0, 'units': 46.0}\n",
      "Epoch 1/14\n",
      "\u001b[1m174/174\u001b[0m \u001b[32m━━━━━━━━━━━━━━━━━━━━\u001b[0m\u001b[37m\u001b[0m \u001b[1m6s\u001b[0m 14ms/step - accuracy: 0.2850 - loss: -11.0042 - val_accuracy: 0.4392 - val_loss: -40.6659\n",
      "Epoch 2/14\n",
      "\u001b[1m174/174\u001b[0m \u001b[32m━━━━━━━━━━━━━━━━━━━━\u001b[0m\u001b[37m\u001b[0m \u001b[1m2s\u001b[0m 11ms/step - accuracy: 0.2846 - loss: -43.3259 - val_accuracy: 0.4392 - val_loss: -63.5845\n",
      "Epoch 3/14\n",
      "\u001b[1m174/174\u001b[0m \u001b[32m━━━━━━━━━━━━━━━━━━━━\u001b[0m\u001b[37m\u001b[0m \u001b[1m2s\u001b[0m 11ms/step - accuracy: 0.2893 - loss: -63.4439 - val_accuracy: 0.4392 - val_loss: -85.1895\n",
      "Epoch 4/14\n",
      "\u001b[1m174/174\u001b[0m \u001b[32m━━━━━━━━━━━━━━━━━━━━\u001b[0m\u001b[37m\u001b[0m \u001b[1m2s\u001b[0m 11ms/step - accuracy: 0.2728 - loss: -85.0392 - val_accuracy: 0.4392 - val_loss: -106.3415\n",
      "Epoch 5/14\n",
      "\u001b[1m174/174\u001b[0m \u001b[32m━━━━━━━━━━━━━━━━━━━━\u001b[0m\u001b[37m\u001b[0m \u001b[1m2s\u001b[0m 11ms/step - accuracy: 0.2777 - loss: -104.4624 - val_accuracy: 0.4392 - val_loss: -127.2883\n",
      "Epoch 6/14\n",
      "\u001b[1m174/174\u001b[0m \u001b[32m━━━━━━━━━━━━━━━━━━━━\u001b[0m\u001b[37m\u001b[0m \u001b[1m2s\u001b[0m 12ms/step - accuracy: 0.2938 - loss: -121.7973 - val_accuracy: 0.4392 - val_loss: -148.0342\n",
      "Epoch 7/14\n",
      "\u001b[1m174/174\u001b[0m \u001b[32m━━━━━━━━━━━━━━━━━━━━\u001b[0m\u001b[37m\u001b[0m \u001b[1m2s\u001b[0m 11ms/step - accuracy: 0.2809 - loss: -141.7390 - val_accuracy: 0.4392 - val_loss: -168.7054\n",
      "Epoch 8/14\n",
      "\u001b[1m174/174\u001b[0m \u001b[32m━━━━━━━━━━━━━━━━━━━━\u001b[0m\u001b[37m\u001b[0m \u001b[1m2s\u001b[0m 11ms/step - accuracy: 0.2864 - loss: -161.0506 - val_accuracy: 0.4392 - val_loss: -189.4003\n",
      "Epoch 9/14\n",
      "\u001b[1m174/174\u001b[0m \u001b[32m━━━━━━━━━━━━━━━━━━━━\u001b[0m\u001b[37m\u001b[0m \u001b[1m2s\u001b[0m 12ms/step - accuracy: 0.2797 - loss: -181.8601 - val_accuracy: 0.4392 - val_loss: -209.9604\n",
      "Epoch 10/14\n",
      "\u001b[1m174/174\u001b[0m \u001b[32m━━━━━━━━━━━━━━━━━━━━\u001b[0m\u001b[37m\u001b[0m \u001b[1m2s\u001b[0m 12ms/step - accuracy: 0.2844 - loss: -199.6504 - val_accuracy: 0.4392 - val_loss: -230.5211\n",
      "Epoch 11/14\n",
      "\u001b[1m174/174\u001b[0m \u001b[32m━━━━━━━━━━━━━━━━━━━━\u001b[0m\u001b[37m\u001b[0m \u001b[1m2s\u001b[0m 12ms/step - accuracy: 0.2815 - loss: -221.1429 - val_accuracy: 0.4392 - val_loss: -251.0305\n",
      "Epoch 12/14\n",
      "\u001b[1m174/174\u001b[0m \u001b[32m━━━━━━━━━━━━━━━━━━━━\u001b[0m\u001b[37m\u001b[0m \u001b[1m2s\u001b[0m 12ms/step - accuracy: 0.2870 - loss: -238.8600 - val_accuracy: 0.4392 - val_loss: -271.5949\n",
      "Epoch 13/14\n",
      "\u001b[1m174/174\u001b[0m \u001b[32m━━━━━━━━━━━━━━━━━━━━\u001b[0m\u001b[37m\u001b[0m \u001b[1m2s\u001b[0m 11ms/step - accuracy: 0.2847 - loss: -256.3539 - val_accuracy: 0.4392 - val_loss: -292.0798\n",
      "Epoch 14/14\n",
      "\u001b[1m174/174\u001b[0m \u001b[32m━━━━━━━━━━━━━━━━━━━━\u001b[0m\u001b[37m\u001b[0m \u001b[1m2s\u001b[0m 11ms/step - accuracy: 0.2843 - loss: -274.8885 - val_accuracy: 0.4392 - val_loss: -312.5237\n",
      "Accuracy of LSTM with best hyperparameters: 0.4392419159412384\n",
      "\u001b[1m29/29\u001b[0m \u001b[32m━━━━━━━━━━━━━━━━━━━━\u001b[0m\u001b[37m\u001b[0m \u001b[1m1s\u001b[0m 16ms/step\n",
      "Precision of LSTM with best hyperparameters: 0.1929334620915252\n",
      "Recall of LSTM with best hyperparameters: 0.43924191750278707\n",
      "F1-score of LSTM with best hyperparameters: 0.2681042842697105\n",
      "              precision    recall  f1-score   support\n",
      "\n",
      "           0       0.00      0.00      0.00        24\n",
      "           1       0.44      1.00      0.61       394\n",
      "           2       0.00      0.00      0.00         4\n",
      "           3       0.00      0.00      0.00        21\n",
      "           4       0.00      0.00      0.00         7\n",
      "           5       0.00      0.00      0.00        11\n",
      "           6       0.00      0.00      0.00       436\n",
      "\n",
      "    accuracy                           0.44       897\n",
      "   macro avg       0.06      0.14      0.09       897\n",
      "weighted avg       0.19      0.44      0.27       897\n",
      "\n"
     ]
    },
    {
     "data": {
      "image/png": "[encoded data removed]",
      "text/plain": [
       "<Figure size 500x500 with 2 Axes>"
      ]
     },
     "metadata": {},
     "output_type": "display_data"
    }
   ],
   "source": [
    "# Define the objective function for LSTM\n",
    "def lstm_objective(params):\n",
    "    model = tf.keras.Sequential([\n",
    "        tf.keras.layers.LSTM(units=int(params['units']), input_shape=(X_train.shape[1], 1)),\n",
    "        tf.keras.layers.Dense(1, activation='sigmoid')\n",
    "    ])\n",
    "    model.compile(optimizer='adam', loss='binary_crossentropy', metrics=['accuracy'])\n",
    "    model.fit(X_train, y_train, epochs=int(params['epochs']), validation_data=(X_test, y_test), verbose=0)\n",
    "    _, accuracy = model.evaluate(X_test, y_test, verbose=0)\n",
    "    return {'loss': -accuracy, 'status': STATUS_OK}\n",
    "\n",
    "# Define the hyperparameter configuration space for LSTM\n",
    "lstm_space = {\n",
    "    'units': hp.quniform('units', 32, 128, 1),\n",
    "    'epochs': hp.quniform('epochs', 5, 20, 1)\n",
    "}\n",
    "\n",
    "# Perform hyperparameter optimization for LSTM\n",
    "lstm_trials = Trials()\n",
    "best_lstm = fmin(fn=lstm_objective, space=lstm_space, algo=tpe.suggest, max_evals=50, trials=lstm_trials)\n",
    "\n",
    "print(\"LSTM: Hyperopt estimated optimum {}\".format(best_lstm))\n",
    "\n",
    "# Extract the best hyperparameters for LSTM\n",
    "best_units = int(best_lstm['units'])\n",
    "best_epochs = int(best_lstm['epochs'])\n",
    "\n",
    "# Create and train LSTM model with best hyperparameters\n",
    "lstm_model = tf.keras.Sequential([\n",
    "    tf.keras.layers.LSTM(units=best_units, input_shape=(X_train.shape[1], 1)),\n",
    "    tf.keras.layers.Dense(1, activation='sigmoid')\n",
    "])\n",
    "lstm_model.compile(optimizer='adam', loss='binary_crossentropy', metrics=['accuracy'])\n",
    "lstm_model.fit(X_train, y_train, epochs=best_epochs, validation_data=(X_test, y_test))\n",
    "\n",
    "# Evaluate LSTM model with best hyperparameters\n",
    "lstm_score = lstm_model.evaluate(X_test, y_test, verbose=0)\n",
    "print('Accuracy of LSTM with best hyperparameters: ' + str(lstm_score[1]))\n",
    "\n",
    "# Predict using the LSTM model with best hyperparameters\n",
    "y_predict_lstm = (lstm_model.predict(X_test) > 0.5).astype(\"int32\")\n",
    "\n",
    "# Calculate precision, recall, and F1-score for LSTM model\n",
    "precision_lstm, recall_lstm, fscore_lstm, _ = precision_recall_fscore_support(y_test, y_predict_lstm, average='weighted')\n",
    "print('Precision of LSTM with best hyperparameters: ' + str(precision_lstm))\n",
    "print('Recall of LSTM with best hyperparameters: ' + str(recall_lstm))\n",
    "print('F1-score of LSTM with best hyperparameters: ' + str(fscore_lstm))\n",
    "\n",
    "# Print classification report for LSTM model\n",
    "print(classification_report(y_test, y_predict_lstm))\n",
    "\n",
    "# Confusion matrix for LSTM model\n",
    "cm_lstm = confusion_matrix(y_test, y_predict_lstm)\n",
    "f, ax = plt.subplots(figsize=(5, 5))\n",
    "sns.heatmap(cm_lstm, annot=True, linewidths=0.5, linecolor=\"red\", fmt=\".0f\", ax=ax)\n",
    "plt.xlabel(\"y_pred\")\n",
    "plt.ylabel(\"y_true\")\n",
    "plt.show()\n"
   ]
  },
  {
   "cell_type": "code",
   "execution_count": 153,
   "id": "d354f5c4-5540-4a80-a956-8d958cbdc640",
   "metadata": {},
   "outputs": [
    {
     "name": "stdout",
     "output_type": "stream",
     "text": [
      "\u001b[1m174/174\u001b[0m \u001b[32m━━━━━━━━━━━━━━━━━━━━\u001b[0m\u001b[37m\u001b[0m \u001b[1m0s\u001b[0m 3ms/step\n",
      "\u001b[1m29/29\u001b[0m \u001b[32m━━━━━━━━━━━━━━━━━━━━\u001b[0m\u001b[37m\u001b[0m \u001b[1m0s\u001b[0m 3ms/step\n"
     ]
    }
   ],
   "source": [
    "lstm_train=lstm_model.predict(X_train)\n",
    "lstm_test=lstm_model.predict(X_test)"
   ]
  },
  {
   "cell_type": "markdown",
   "id": "ed0f9cab-7d10-44f5-924e-70016f738375",
   "metadata": {},
   "source": [
    "### Apply Stacking\n",
    "The ensemble model that combines the four ML models (DT, RF, CNN, LSTM, XGBoost)"
   ]
  },
  {
   "cell_type": "code",
   "execution_count": 154,
   "id": "c448b759-3a6f-4874-9f2c-641d08af3b9a",
   "metadata": {},
   "outputs": [
    {
     "data": {
      "text/html": [
       "<div>\n",
       "<style scoped>\n",
       "    .dataframe tbody tr th:only-of-type {\n",
       "        vertical-align: middle;\n",
       "    }\n",
       "\n",
       "    .dataframe tbody tr th {\n",
       "        vertical-align: top;\n",
       "    }\n",
       "\n",
       "    .dataframe thead th {\n",
       "        text-align: right;\n",
       "    }\n",
       "</style>\n",
       "<table border=\"1\" class=\"dataframe\">\n",
       "  <thead>\n",
       "    <tr style=\"text-align: right;\">\n",
       "      <th></th>\n",
       "      <th>DecisionTree</th>\n",
       "      <th>RandomForest</th>\n",
       "      <th>CNN</th>\n",
       "      <th>LSTM</th>\n",
       "      <th>XgBoost</th>\n",
       "    </tr>\n",
       "  </thead>\n",
       "  <tbody>\n",
       "    <tr>\n",
       "      <th>0</th>\n",
       "      <td>1</td>\n",
       "      <td>1</td>\n",
       "      <td>1.0</td>\n",
       "      <td>1.0</td>\n",
       "      <td>1</td>\n",
       "    </tr>\n",
       "    <tr>\n",
       "      <th>1</th>\n",
       "      <td>1</td>\n",
       "      <td>1</td>\n",
       "      <td>1.0</td>\n",
       "      <td>1.0</td>\n",
       "      <td>1</td>\n",
       "    </tr>\n",
       "    <tr>\n",
       "      <th>2</th>\n",
       "      <td>1</td>\n",
       "      <td>1</td>\n",
       "      <td>1.0</td>\n",
       "      <td>1.0</td>\n",
       "      <td>1</td>\n",
       "    </tr>\n",
       "    <tr>\n",
       "      <th>3</th>\n",
       "      <td>1</td>\n",
       "      <td>1</td>\n",
       "      <td>1.0</td>\n",
       "      <td>1.0</td>\n",
       "      <td>1</td>\n",
       "    </tr>\n",
       "    <tr>\n",
       "      <th>4</th>\n",
       "      <td>6</td>\n",
       "      <td>6</td>\n",
       "      <td>1.0</td>\n",
       "      <td>1.0</td>\n",
       "      <td>6</td>\n",
       "    </tr>\n",
       "  </tbody>\n",
       "</table>\n",
       "</div>"
      ],
      "text/plain": [
       "   DecisionTree  RandomForest  CNN  LSTM  XgBoost\n",
       "0             1             1  1.0   1.0        1\n",
       "1             1             1  1.0   1.0        1\n",
       "2             1             1  1.0   1.0        1\n",
       "3             1             1  1.0   1.0        1\n",
       "4             6             6  1.0   1.0        6"
      ]
     },
     "execution_count": 154,
     "metadata": {},
     "output_type": "execute_result"
    }
   ],
   "source": [
    "base_predictions_train = pd.DataFrame( {\n",
    "    'DecisionTree': dt_train.ravel(),\n",
    "        'RandomForest': rf_train.ravel(),\n",
    "     'CNN': cnn_train.ravel(),\n",
    "    'LSTM': lstm_train.ravel(),\n",
    "     'XgBoost': xg_train.ravel(),\n",
    "    })\n",
    "base_predictions_train.head(5)"
   ]
  },
  {
   "cell_type": "code",
   "execution_count": 156,
   "id": "afb4c5c5-0a7c-4c16-8861-39f0339d4b52",
   "metadata": {},
   "outputs": [],
   "source": [
    "dt_train=dt_train.reshape(-1, 1)\n",
    "cnn_train=cnn_train.reshape(-1, 1)\n",
    "lstm_train=lstm_train.reshape(-1, 1)\n",
    "rf_train=rf_train.reshape(-1, 1)\n",
    "xg_train=xg_train.reshape(-1, 1)\n",
    "\n",
    "dt_test=dt_test.reshape(-1, 1)\n",
    "cnn_test=cnn_test.reshape(-1, 1)\n",
    "lstm_test=lstm_test.reshape(-1, 1)\n",
    "rf_test=rf_test.reshape(-1, 1)\n",
    "xg_test=xg_test.reshape(-1, 1)"
   ]
  },
  {
   "cell_type": "code",
   "execution_count": 157,
   "id": "7e959015-b8b0-44c9-bcff-617eff4abb3b",
   "metadata": {},
   "outputs": [
    {
     "data": {
      "text/plain": [
       "(5541, 1)"
      ]
     },
     "execution_count": 157,
     "metadata": {},
     "output_type": "execute_result"
    }
   ],
   "source": [
    "dt_train.shape"
   ]
  },
  {
   "cell_type": "code",
   "execution_count": 158,
   "id": "2d63f11a-92a7-439b-b0b0-eda83c6d1838",
   "metadata": {},
   "outputs": [],
   "source": [
    "x_train = np.concatenate(( dt_train, cnn_train, lstm_train, rf_train, xg_train), axis=1)\n",
    "x_test = np.concatenate(( dt_test, cnn_test, lstm_test, rf_test, xg_test), axis=1)"
   ]
  },
  {
   "cell_type": "code",
   "execution_count": 159,
   "id": "99b4cd30-d555-493d-a00d-1c0cb053c2fc",
   "metadata": {},
   "outputs": [
    {
     "name": "stdout",
     "output_type": "stream",
     "text": [
      "Accuracy of Stacking: 0.9899665551839465\n",
      "Precision of Stacking: 0.9922992929246652\n",
      "Recall of Stacking: 0.9899665551839465\n",
      "F1-score of Stacking: 0.9903712154617154\n",
      "              precision    recall  f1-score   support\n",
      "\n",
      "           0       1.00      0.83      0.91        24\n",
      "           1       1.00      1.00      1.00       394\n",
      "           2       0.75      0.75      0.75         4\n",
      "           3       1.00      0.86      0.92        21\n",
      "           4       0.58      1.00      0.74         7\n",
      "           5       1.00      1.00      1.00        11\n",
      "           6       1.00      1.00      1.00       436\n",
      "\n",
      "    accuracy                           0.99       897\n",
      "   macro avg       0.90      0.92      0.90       897\n",
      "weighted avg       0.99      0.99      0.99       897\n",
      "\n"
     ]
    },
    {
     "data": {
      "image/png": "[encoded data removed]",
      "text/plain": [
       "<Figure size 500x500 with 2 Axes>"
      ]
     },
     "metadata": {},
     "output_type": "display_data"
    }
   ],
   "source": [
    "stk = xgb.XGBClassifier().fit(x_train, y_train)\n",
    "y_predict=stk.predict(x_test)\n",
    "y_true=y_test\n",
    "stk_score=accuracy_score(y_true,y_predict)\n",
    "print('Accuracy of Stacking: '+ str(stk_score))\n",
    "precision,recall,fscore,none= precision_recall_fscore_support(y_true, y_predict, average='weighted') \n",
    "print('Precision of Stacking: '+(str(precision)))\n",
    "print('Recall of Stacking: '+(str(recall)))\n",
    "print('F1-score of Stacking: '+(str(fscore)))\n",
    "print(classification_report(y_true,y_predict))\n",
    "cm=confusion_matrix(y_true,y_predict)\n",
    "f,ax=plt.subplots(figsize=(5,5))\n",
    "sns.heatmap(cm,annot=True,linewidth=0.5,linecolor=\"red\",fmt=\".0f\",ax=ax)\n",
    "plt.xlabel(\"y_pred\")\n",
    "plt.ylabel(\"y_true\")\n",
    "plt.show()"
   ]
  },
  {
   "cell_type": "markdown",
   "id": "fb753400-f883-4975-81a9-b498704c6071",
   "metadata": {},
   "source": [
    "#### Hyperparameter optimization (HPO) of the stacking ensemble model (XGBoost) using Bayesian optimization with tree-based Parzen estimator (BO-TPE)\n",
    "Based on the GitHub repo for HPO: https://github.com/LiYangHart/Hyperparameter-Optimization-of-Machine-Learning-Algorithms"
   ]
  },
  {
   "cell_type": "code",
   "execution_count": 160,
   "id": "ef582a2f-b364-4efc-a1c8-d944900d849a",
   "metadata": {},
   "outputs": [
    {
     "name": "stdout",
     "output_type": "stream",
     "text": [
      "100%|█████████████████████████████████████████████████████████████| 20/20 [00:01<00:00, 15.01trial/s, best loss: -0.992196209587514]\n",
      "XGBoost: Hyperopt estimated optimum {'learning_rate': 0.22000784172473817, 'max_depth': 49.0, 'n_estimators': 35.0}\n"
     ]
    }
   ],
   "source": [
    "def objective(params):\n",
    "    params = {\n",
    "        'n_estimators': int(params['n_estimators']), \n",
    "        'max_depth': int(params['max_depth']),\n",
    "        'learning_rate':  abs(float(params['learning_rate'])),\n",
    "\n",
    "    }\n",
    "    clf = xgb.XGBClassifier( **params)\n",
    "    clf.fit(x_train, y_train)\n",
    "    y_pred = clf.predict(x_test)\n",
    "    score = accuracy_score(y_test, y_pred)\n",
    "\n",
    "    return {'loss':-score, 'status': STATUS_OK }\n",
    "\n",
    "space = {\n",
    "    'n_estimators': hp.quniform('n_estimators', 10, 100, 5),\n",
    "    'max_depth': hp.quniform('max_depth', 4, 100, 1),\n",
    "    'learning_rate': hp.normal('learning_rate', 0.01, 0.9),\n",
    "}\n",
    "\n",
    "best = fmin(fn=objective,\n",
    "            space=space,\n",
    "            algo=tpe.suggest,\n",
    "            max_evals=20)\n",
    "print(\"XGBoost: Hyperopt estimated optimum {}\".format(best))"
   ]
  },
  {
   "cell_type": "code",
   "execution_count": 161,
   "id": "f022a47b-5bf5-4c31-8689-c556c1de879b",
   "metadata": {},
   "outputs": [
    {
     "name": "stdout",
     "output_type": "stream",
     "text": [
      "Accuracy of XGBoost: 0.992196209587514\n",
      "Precision of XGBoost: 0.9924470919855077\n",
      "Recall of XGBoost: 0.992196209587514\n",
      "F1-score of XGBoost: 0.9920721150523576\n",
      "              precision    recall  f1-score   support\n",
      "\n",
      "           0       1.00      0.83      0.91        24\n",
      "           1       1.00      1.00      1.00       394\n",
      "           2       0.75      0.75      0.75         4\n",
      "           3       0.91      0.95      0.93        21\n",
      "           4       0.88      1.00      0.93         7\n",
      "           5       1.00      1.00      1.00        11\n",
      "           6       1.00      1.00      1.00       436\n",
      "\n",
      "    accuracy                           0.99       897\n",
      "   macro avg       0.93      0.93      0.93       897\n",
      "weighted avg       0.99      0.99      0.99       897\n",
      "\n"
     ]
    },
    {
     "data": {
      "image/png": "[encoded data removed]",
      "text/plain": [
       "<Figure size 500x500 with 2 Axes>"
      ]
     },
     "metadata": {},
     "output_type": "display_data"
    }
   ],
   "source": [
    "xg = xgb.XGBClassifier(learning_rate= 0.22000784172473817, n_estimators = 35, max_depth = 49)\n",
    "xg.fit(x_train,y_train)\n",
    "xg_score=xg.score(x_test,y_test)\n",
    "y_predict=xg.predict(x_test)\n",
    "y_true=y_test\n",
    "print('Accuracy of XGBoost: '+ str(xg_score))\n",
    "precision,recall,fscore,none= precision_recall_fscore_support(y_true, y_predict, average='weighted') \n",
    "print('Precision of XGBoost: '+(str(precision)))\n",
    "print('Recall of XGBoost: '+(str(recall)))\n",
    "print('F1-score of XGBoost: '+(str(fscore)))\n",
    "print(classification_report(y_true,y_predict))\n",
    "cm=confusion_matrix(y_true,y_predict)\n",
    "f,ax=plt.subplots(figsize=(5,5))\n",
    "sns.heatmap(cm,annot=True,linewidth=0.5,linecolor=\"red\",fmt=\".0f\",ax=ax)\n",
    "plt.xlabel(\"y_pred\")\n",
    "plt.ylabel(\"y_true\")\n",
    "plt.show()"
   ]
  },
  {
   "cell_type": "code",
   "execution_count": null,
   "id": "1e1be04f-57be-4381-8c74-25b44e61fd51",
   "metadata": {},
   "outputs": [],
   "source": []
  },
  {
   "cell_type": "code",
   "execution_count": null,
   "id": "24d307a7-0029-4059-9089-78bda4f99f31",
   "metadata": {},
   "outputs": [],
   "source": []
  }
 ],
 "metadata": {
  "kernelspec": {
   "display_name": "Python 3 (ipykernel)",
   "language": "python",
   "name": "python3"
  },
  "language_info": {
   "codemirror_mode": {
    "name": "ipython",
    "version": 3
   },
   "file_extension": ".py",
   "mimetype": "text/x-python",
   "name": "python",
   "nbconvert_exporter": "python",
   "pygments_lexer": "ipython3",
   "version": "3.11.7"
  }
 },
 "nbformat": 4,
 "nbformat_minor": 5
}
