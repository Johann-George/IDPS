{
 "cells": [
  {
   "cell_type": "markdown",
   "id": "90f04f0e-183b-4666-a815-7cc590ce56ef",
   "metadata": {},
   "source": [
    "## Importing the Libraries"
   ]
  },
  {
   "cell_type": "code",
<<<<<<< HEAD
   "execution_count": 1,
=======
   "execution_count": 6,
>>>>>>> ca757fe382360f92b5d498a30439226aa91a9788
   "id": "6fbc8152-6ebf-48c0-84d0-1d7e24c81f4e",
   "metadata": {},
   "outputs": [],
   "source": [
    "import warnings\n",
    "warnings.filterwarnings(\"ignore\")"
   ]
  },
  {
   "cell_type": "code",
<<<<<<< HEAD
   "execution_count": 2,
=======
   "execution_count": 7,
>>>>>>> ca757fe382360f92b5d498a30439226aa91a9788
   "id": "45e9d437-d9b6-438f-b675-07fe123c180f",
   "metadata": {},
   "outputs": [],
   "source": [
    "import numpy as np\n",
    "import pandas as pd\n",
    "import seaborn as sns\n",
    "import matplotlib.pyplot as plt\n",
    "from sklearn.preprocessing import LabelEncoder\n",
    "from sklearn.model_selection import train_test_split\n",
    "from sklearn.metrics import classification_report,confusion_matrix,accuracy_score,precision_recall_fscore_support\n",
    "from sklearn.metrics import f1_score,roc_auc_score\n",
    "from sklearn.ensemble import RandomForestClassifier,ExtraTreesClassifier\n",
    "from sklearn.tree import DecisionTreeClassifier\n",
    "import xgboost as xgb\n",
    "from xgboost import plot_importance"
   ]
  },
  {
   "cell_type": "code",
<<<<<<< HEAD
   "execution_count": 3,
=======
   "execution_count": 8,
>>>>>>> ca757fe382360f92b5d498a30439226aa91a9788
   "id": "ec62974b-3c77-47d0-90d4-c9fd1246daf5",
   "metadata": {},
   "outputs": [
    {
     "data": {
      "text/html": [
       "<div>\n",
       "<style scoped>\n",
       "    .dataframe tbody tr th:only-of-type {\n",
       "        vertical-align: middle;\n",
       "    }\n",
       "\n",
       "    .dataframe tbody tr th {\n",
       "        vertical-align: top;\n",
       "    }\n",
       "\n",
       "    .dataframe thead th {\n",
       "        text-align: right;\n",
       "    }\n",
       "</style>\n",
       "<table border=\"1\" class=\"dataframe\">\n",
       "  <thead>\n",
       "    <tr style=\"text-align: right;\">\n",
       "      <th></th>\n",
       "      <th>Flow Duration</th>\n",
       "      <th>Total Fwd Packets</th>\n",
       "      <th>Total Backward Packets</th>\n",
       "      <th>Total Length of Fwd Packets</th>\n",
       "      <th>Total Length of Bwd Packets</th>\n",
       "      <th>Fwd Packet Length Max</th>\n",
       "      <th>Fwd Packet Length Min</th>\n",
       "      <th>Fwd Packet Length Mean</th>\n",
       "      <th>Fwd Packet Length Std</th>\n",
       "      <th>Bwd Packet Length Max</th>\n",
       "      <th>...</th>\n",
       "      <th>min_seg_size_forward</th>\n",
       "      <th>Active Mean</th>\n",
       "      <th>Active Std</th>\n",
       "      <th>Active Max</th>\n",
       "      <th>Active Min</th>\n",
       "      <th>Idle Mean</th>\n",
       "      <th>Idle Std</th>\n",
       "      <th>Idle Max</th>\n",
       "      <th>Idle Min</th>\n",
       "      <th>Label</th>\n",
       "    </tr>\n",
       "  </thead>\n",
       "  <tbody>\n",
       "    <tr>\n",
       "      <th>0</th>\n",
       "      <td>4</td>\n",
       "      <td>2</td>\n",
       "      <td>0</td>\n",
       "      <td>37</td>\n",
       "      <td>0</td>\n",
       "      <td>31</td>\n",
       "      <td>6</td>\n",
       "      <td>18.500000</td>\n",
       "      <td>17.677670</td>\n",
       "      <td>0</td>\n",
       "      <td>...</td>\n",
       "      <td>20</td>\n",
       "      <td>0.0</td>\n",
       "      <td>0.0</td>\n",
       "      <td>0</td>\n",
       "      <td>0</td>\n",
       "      <td>0.0</td>\n",
       "      <td>0.0</td>\n",
       "      <td>0</td>\n",
       "      <td>0</td>\n",
       "      <td>BENIGN</td>\n",
       "    </tr>\n",
       "    <tr>\n",
       "      <th>1</th>\n",
       "      <td>142377</td>\n",
       "      <td>46</td>\n",
       "      <td>62</td>\n",
       "      <td>1325</td>\n",
       "      <td>105855</td>\n",
       "      <td>570</td>\n",
       "      <td>0</td>\n",
       "      <td>28.804348</td>\n",
       "      <td>111.407285</td>\n",
       "      <td>4344</td>\n",
       "      <td>...</td>\n",
       "      <td>20</td>\n",
       "      <td>0.0</td>\n",
       "      <td>0.0</td>\n",
       "      <td>0</td>\n",
       "      <td>0</td>\n",
       "      <td>0.0</td>\n",
       "      <td>0.0</td>\n",
       "      <td>0</td>\n",
       "      <td>0</td>\n",
       "      <td>BENIGN</td>\n",
       "    </tr>\n",
       "    <tr>\n",
       "      <th>2</th>\n",
       "      <td>118873</td>\n",
       "      <td>23</td>\n",
       "      <td>28</td>\n",
       "      <td>1169</td>\n",
       "      <td>45025</td>\n",
       "      <td>570</td>\n",
       "      <td>0</td>\n",
       "      <td>50.826087</td>\n",
       "      <td>156.137367</td>\n",
       "      <td>2896</td>\n",
       "      <td>...</td>\n",
       "      <td>32</td>\n",
       "      <td>0.0</td>\n",
       "      <td>0.0</td>\n",
       "      <td>0</td>\n",
       "      <td>0</td>\n",
       "      <td>0.0</td>\n",
       "      <td>0.0</td>\n",
       "      <td>0</td>\n",
       "      <td>0</td>\n",
       "      <td>BENIGN</td>\n",
       "    </tr>\n",
       "    <tr>\n",
       "      <th>3</th>\n",
       "      <td>143577</td>\n",
       "      <td>43</td>\n",
       "      <td>55</td>\n",
       "      <td>1301</td>\n",
       "      <td>107289</td>\n",
       "      <td>570</td>\n",
       "      <td>0</td>\n",
       "      <td>30.255814</td>\n",
       "      <td>115.178969</td>\n",
       "      <td>4344</td>\n",
       "      <td>...</td>\n",
       "      <td>20</td>\n",
       "      <td>0.0</td>\n",
       "      <td>0.0</td>\n",
       "      <td>0</td>\n",
       "      <td>0</td>\n",
       "      <td>0.0</td>\n",
       "      <td>0.0</td>\n",
       "      <td>0</td>\n",
       "      <td>0</td>\n",
       "      <td>BENIGN</td>\n",
       "    </tr>\n",
       "    <tr>\n",
       "      <th>4</th>\n",
       "      <td>143745</td>\n",
       "      <td>49</td>\n",
       "      <td>59</td>\n",
       "      <td>1331</td>\n",
       "      <td>110185</td>\n",
       "      <td>570</td>\n",
       "      <td>0</td>\n",
       "      <td>27.163265</td>\n",
       "      <td>108.067176</td>\n",
       "      <td>4344</td>\n",
       "      <td>...</td>\n",
       "      <td>20</td>\n",
       "      <td>0.0</td>\n",
       "      <td>0.0</td>\n",
       "      <td>0</td>\n",
       "      <td>0</td>\n",
       "      <td>0.0</td>\n",
       "      <td>0.0</td>\n",
       "      <td>0</td>\n",
       "      <td>0</td>\n",
       "      <td>BENIGN</td>\n",
       "    </tr>\n",
       "    <tr>\n",
       "      <th>...</th>\n",
       "      <td>...</td>\n",
       "      <td>...</td>\n",
       "      <td>...</td>\n",
       "      <td>...</td>\n",
       "      <td>...</td>\n",
       "      <td>...</td>\n",
       "      <td>...</td>\n",
       "      <td>...</td>\n",
       "      <td>...</td>\n",
       "      <td>...</td>\n",
       "      <td>...</td>\n",
       "      <td>...</td>\n",
       "      <td>...</td>\n",
       "      <td>...</td>\n",
       "      <td>...</td>\n",
       "      <td>...</td>\n",
       "      <td>...</td>\n",
       "      <td>...</td>\n",
       "      <td>...</td>\n",
       "      <td>...</td>\n",
       "      <td>...</td>\n",
       "    </tr>\n",
       "    <tr>\n",
       "      <th>56656</th>\n",
       "      <td>234</td>\n",
       "      <td>2</td>\n",
       "      <td>2</td>\n",
       "      <td>64</td>\n",
       "      <td>232</td>\n",
       "      <td>32</td>\n",
       "      <td>32</td>\n",
       "      <td>32.000000</td>\n",
       "      <td>0.000000</td>\n",
       "      <td>116</td>\n",
       "      <td>...</td>\n",
       "      <td>32</td>\n",
       "      <td>0.0</td>\n",
       "      <td>0.0</td>\n",
       "      <td>0</td>\n",
       "      <td>0</td>\n",
       "      <td>0.0</td>\n",
       "      <td>0.0</td>\n",
       "      <td>0</td>\n",
       "      <td>0</td>\n",
       "      <td>BENIGN</td>\n",
       "    </tr>\n",
       "    <tr>\n",
       "      <th>56657</th>\n",
       "      <td>133288</td>\n",
       "      <td>2</td>\n",
       "      <td>2</td>\n",
       "      <td>94</td>\n",
       "      <td>482</td>\n",
       "      <td>47</td>\n",
       "      <td>47</td>\n",
       "      <td>47.000000</td>\n",
       "      <td>0.000000</td>\n",
       "      <td>241</td>\n",
       "      <td>...</td>\n",
       "      <td>32</td>\n",
       "      <td>0.0</td>\n",
       "      <td>0.0</td>\n",
       "      <td>0</td>\n",
       "      <td>0</td>\n",
       "      <td>0.0</td>\n",
       "      <td>0.0</td>\n",
       "      <td>0</td>\n",
       "      <td>0</td>\n",
       "      <td>BENIGN</td>\n",
       "    </tr>\n",
       "    <tr>\n",
       "      <th>56658</th>\n",
       "      <td>11507694</td>\n",
       "      <td>5</td>\n",
       "      <td>4</td>\n",
       "      <td>450</td>\n",
       "      <td>3525</td>\n",
       "      <td>450</td>\n",
       "      <td>0</td>\n",
       "      <td>90.000000</td>\n",
       "      <td>201.246118</td>\n",
       "      <td>3525</td>\n",
       "      <td>...</td>\n",
       "      <td>32</td>\n",
       "      <td>893.0</td>\n",
       "      <td>0.0</td>\n",
       "      <td>893</td>\n",
       "      <td>893</td>\n",
       "      <td>6503640.0</td>\n",
       "      <td>0.0</td>\n",
       "      <td>6503640</td>\n",
       "      <td>6503640</td>\n",
       "      <td>DoS</td>\n",
       "    </tr>\n",
       "    <tr>\n",
       "      <th>56659</th>\n",
       "      <td>11507707</td>\n",
       "      <td>8</td>\n",
       "      <td>6</td>\n",
       "      <td>416</td>\n",
       "      <td>11632</td>\n",
       "      <td>416</td>\n",
       "      <td>0</td>\n",
       "      <td>52.000000</td>\n",
       "      <td>147.078211</td>\n",
       "      <td>5792</td>\n",
       "      <td>...</td>\n",
       "      <td>32</td>\n",
       "      <td>897.0</td>\n",
       "      <td>0.0</td>\n",
       "      <td>897</td>\n",
       "      <td>897</td>\n",
       "      <td>6503122.0</td>\n",
       "      <td>0.0</td>\n",
       "      <td>6503122</td>\n",
       "      <td>6503122</td>\n",
       "      <td>DoS</td>\n",
       "    </tr>\n",
       "    <tr>\n",
       "      <th>56660</th>\n",
       "      <td>11512204</td>\n",
       "      <td>8</td>\n",
       "      <td>5</td>\n",
       "      <td>326</td>\n",
       "      <td>11632</td>\n",
       "      <td>326</td>\n",
       "      <td>0</td>\n",
       "      <td>40.750000</td>\n",
       "      <td>115.258405</td>\n",
       "      <td>10184</td>\n",
       "      <td>...</td>\n",
       "      <td>32</td>\n",
       "      <td>892.0</td>\n",
       "      <td>0.0</td>\n",
       "      <td>892</td>\n",
       "      <td>892</td>\n",
       "      <td>6507197.0</td>\n",
       "      <td>0.0</td>\n",
       "      <td>6507197</td>\n",
       "      <td>6507197</td>\n",
       "      <td>DoS</td>\n",
       "    </tr>\n",
       "  </tbody>\n",
       "</table>\n",
       "<p>56661 rows × 78 columns</p>\n",
       "</div>"
      ],
      "text/plain": [
       "       Flow Duration  Total Fwd Packets  Total Backward Packets  \\\n",
       "0                  4                  2                       0   \n",
       "1             142377                 46                      62   \n",
       "2             118873                 23                      28   \n",
       "3             143577                 43                      55   \n",
       "4             143745                 49                      59   \n",
       "...              ...                ...                     ...   \n",
       "56656            234                  2                       2   \n",
       "56657         133288                  2                       2   \n",
       "56658       11507694                  5                       4   \n",
       "56659       11507707                  8                       6   \n",
       "56660       11512204                  8                       5   \n",
       "\n",
       "       Total Length of Fwd Packets  Total Length of Bwd Packets  \\\n",
       "0                               37                            0   \n",
       "1                             1325                       105855   \n",
       "2                             1169                        45025   \n",
       "3                             1301                       107289   \n",
       "4                             1331                       110185   \n",
       "...                            ...                          ...   \n",
       "56656                           64                          232   \n",
       "56657                           94                          482   \n",
       "56658                          450                         3525   \n",
       "56659                          416                        11632   \n",
       "56660                          326                        11632   \n",
       "\n",
       "       Fwd Packet Length Max  Fwd Packet Length Min  Fwd Packet Length Mean  \\\n",
       "0                         31                      6               18.500000   \n",
       "1                        570                      0               28.804348   \n",
       "2                        570                      0               50.826087   \n",
       "3                        570                      0               30.255814   \n",
       "4                        570                      0               27.163265   \n",
       "...                      ...                    ...                     ...   \n",
       "56656                     32                     32               32.000000   \n",
       "56657                     47                     47               47.000000   \n",
       "56658                    450                      0               90.000000   \n",
       "56659                    416                      0               52.000000   \n",
       "56660                    326                      0               40.750000   \n",
       "\n",
       "       Fwd Packet Length Std  Bwd Packet Length Max  ...  \\\n",
       "0                  17.677670                      0  ...   \n",
       "1                 111.407285                   4344  ...   \n",
       "2                 156.137367                   2896  ...   \n",
       "3                 115.178969                   4344  ...   \n",
       "4                 108.067176                   4344  ...   \n",
       "...                      ...                    ...  ...   \n",
       "56656               0.000000                    116  ...   \n",
       "56657               0.000000                    241  ...   \n",
       "56658             201.246118                   3525  ...   \n",
       "56659             147.078211                   5792  ...   \n",
       "56660             115.258405                  10184  ...   \n",
       "\n",
       "       min_seg_size_forward  Active Mean  Active Std  Active Max  Active Min  \\\n",
       "0                        20          0.0         0.0           0           0   \n",
       "1                        20          0.0         0.0           0           0   \n",
       "2                        32          0.0         0.0           0           0   \n",
       "3                        20          0.0         0.0           0           0   \n",
       "4                        20          0.0         0.0           0           0   \n",
       "...                     ...          ...         ...         ...         ...   \n",
       "56656                    32          0.0         0.0           0           0   \n",
       "56657                    32          0.0         0.0           0           0   \n",
       "56658                    32        893.0         0.0         893         893   \n",
       "56659                    32        897.0         0.0         897         897   \n",
       "56660                    32        892.0         0.0         892         892   \n",
       "\n",
       "       Idle Mean  Idle Std  Idle Max  Idle Min   Label  \n",
       "0            0.0       0.0         0         0  BENIGN  \n",
       "1            0.0       0.0         0         0  BENIGN  \n",
       "2            0.0       0.0         0         0  BENIGN  \n",
       "3            0.0       0.0         0         0  BENIGN  \n",
       "4            0.0       0.0         0         0  BENIGN  \n",
       "...          ...       ...       ...       ...     ...  \n",
       "56656        0.0       0.0         0         0  BENIGN  \n",
       "56657        0.0       0.0         0         0  BENIGN  \n",
       "56658  6503640.0       0.0   6503640   6503640     DoS  \n",
       "56659  6503122.0       0.0   6503122   6503122     DoS  \n",
       "56660  6507197.0       0.0   6507197   6507197     DoS  \n",
       "\n",
       "[56661 rows x 78 columns]"
      ]
     },
<<<<<<< HEAD
     "execution_count": 3,
=======
     "execution_count": 8,
>>>>>>> ca757fe382360f92b5d498a30439226aa91a9788
     "metadata": {},
     "output_type": "execute_result"
    }
   ],
   "source": [
    "#Read dataset\n",
    "df = pd.read_csv('./data/CICIDS2017_sample.csv') \n",
    "df"
   ]
  },
  {
   "cell_type": "code",
<<<<<<< HEAD
   "execution_count": 4,
=======
   "execution_count": 9,
>>>>>>> ca757fe382360f92b5d498a30439226aa91a9788
   "id": "e119e353-5e74-4950-b8f8-8e0a237a606d",
   "metadata": {},
   "outputs": [
    {
     "data": {
      "text/plain": [
       "Label\n",
       "BENIGN          22731\n",
       "DoS             19035\n",
       "PortScan         7946\n",
       "BruteForce       2767\n",
       "WebAttack        2180\n",
       "Bot              1966\n",
       "Infiltration       36\n",
       "Name: count, dtype: int64"
      ]
     },
<<<<<<< HEAD
     "execution_count": 4,
=======
     "execution_count": 9,
>>>>>>> ca757fe382360f92b5d498a30439226aa91a9788
     "metadata": {},
     "output_type": "execute_result"
    }
   ],
   "source": [
    "df.Label.value_counts()"
   ]
  },
  {
   "cell_type": "markdown",
   "id": "dec1e4a4-b8e3-486b-bf5d-835cc6f9d8ea",
   "metadata": {},
   "source": [
    "### Preprocessing (normalization and padding values)\n"
   ]
  },
  {
   "cell_type": "code",
<<<<<<< HEAD
   "execution_count": 5,
=======
   "execution_count": 10,
>>>>>>> ca757fe382360f92b5d498a30439226aa91a9788
   "id": "f387e72b-da70-4c98-99d7-c5b4b87a4dd4",
   "metadata": {},
   "outputs": [],
   "source": [
    "# Z-score normalization\n",
    "features = df.dtypes[df.dtypes != 'object'].index\n",
    "df[features] = df[features].apply(\n",
    "    lambda x: (x - x.mean()) / (x.std()))\n",
    "# Fill empty values by 0\n",
    "df = df.fillna(0)"
   ]
  },
  {
   "cell_type": "raw",
   "id": "430151d9-a164-4d95-b9ea-4f628ce1cfca",
   "metadata": {},
   "source": [
    "EXAMPLE\n",
    "\n",
    "\n",
    "Original DataFrame:\r\n",
    "     A   B     C\r\n",
    "0  1.0  10   foo\r\n",
    "1  2.0  20   bar\r\n",
    "2  3.0  30   baz\r\n",
    "3  NaN  40   qux\r\n",
    "4  5.0  50  quux\r\n",
    "\r\n",
    "Normalized DataFrame:\r\n",
    "          A         B     C\r\n",
    "0 -1.183216 -1.414214   foo\r\n",
    "1 -0.507093 -0.707107   bar\r\n",
    "2  0.169031  0.000000   baz\r\n",
    "3  0.000000  0.707107   qux\r\n",
    "4  1.521278  1.414214  quux\r\n"
   ]
  },
  {
<<<<<<< HEAD
   "cell_type": "markdown",
   "id": "ff3f8bd7-b403-4219-90c9-ae3167772c36",
   "metadata": {},
   "source": [
    "### Data sampling\n"
   ]
  },
  {
   "cell_type": "code",
   "execution_count": 6,
   "id": "e89008c6-9b99-49c2-9375-0cc5315a0122",
=======
   "cell_type": "code",
   "execution_count": 29,
   "id": "602397c9-f8b9-4627-9601-cbf69610fade",
>>>>>>> ca757fe382360f92b5d498a30439226aa91a9788
   "metadata": {},
   "outputs": [],
   "source": [
    "labelencoder = LabelEncoder()\n",
    "df.iloc[:, -1] = labelencoder.fit_transform(df.iloc[:, -1])"
   ]
  },
  {
   "cell_type": "code",
<<<<<<< HEAD
   "execution_count": 7,
=======
   "execution_count": 30,
>>>>>>> ca757fe382360f92b5d498a30439226aa91a9788
   "id": "7aa8e28b-f06e-4581-aafe-c3d31eb20c9c",
   "metadata": {},
   "outputs": [
    {
     "data": {
      "text/plain": [
       "Label\n",
       "0    22731\n",
       "3    19035\n",
       "5     7946\n",
       "2     2767\n",
       "6     2180\n",
       "1     1966\n",
       "4       36\n",
       "Name: count, dtype: int64"
      ]
     },
<<<<<<< HEAD
     "execution_count": 7,
=======
     "execution_count": 30,
>>>>>>> ca757fe382360f92b5d498a30439226aa91a9788
     "metadata": {},
     "output_type": "execute_result"
    }
   ],
   "source": [
    "df.Label.value_counts()"
   ]
  },
  {
   "cell_type": "raw",
   "id": "53347a93-868c-42a5-89c5-2dd4999d45fc",
   "metadata": {},
   "source": [
    "Original DataFrame:\n",
    "   Feature1 Feature2\n",
    "0         1        A\n",
    "1         2        B\n",
    "2         3        A\n",
    "3         4        C\n",
    "\n",
    "Transformed DataFrame:\n",
    "   Feature1  Feature2\n",
    "0         1         0\n",
    "1         2         1\n",
    "2         3         0\n",
    "3         4         2\n"
   ]
  },
  {
   "cell_type": "markdown",
   "id": "02ec9604-a523-4de1-9a03-c0c35f408f93",
   "metadata": {},
   "source": [
    "Here the minority class instances are of the indexes 6,1,4 (the last 3 instances)"
   ]
  },
  {
<<<<<<< HEAD
   "cell_type": "code",
   "execution_count": 8,
   "id": "93eaa8dc-b739-45e2-9eef-269b3e82a047",
   "metadata": {},
   "outputs": [],
   "source": [
    "# retain the minority class instances and sample the majority class instances\n",
    "df_minor = df[(df['Label']==6)|(df['Label']==1)|(df['Label']==4)]\n",
    "df_major = df.drop(df_minor.index)"
   ]
  },
  {
   "cell_type": "code",
   "execution_count": 9,
   "id": "f91ab1e2-c127-4165-8b83-3b43926cf3b3",
   "metadata": {},
   "outputs": [],
   "source": [
    "X = df_major.drop(['Label'],axis=1) \n",
    "y = df_major.iloc[:, -1].values.reshape(-1,1)\n",
    "y=np.ravel(y)"
   ]
  },
  {
   "cell_type": "code",
   "execution_count": 10,
   "id": "ed5be609-c2f6-40dc-a317-c23e07adf798",
   "metadata": {},
   "outputs": [
    {
     "data": {
      "text/plain": [
       "klabel\n",
       "451    546\n",
       "185    487\n",
       "79     369\n",
       "505    348\n",
       "956    320\n",
       "      ... \n",
       "397      2\n",
       "775      2\n",
       "542      2\n",
       "665      2\n",
       "12       1\n",
       "Name: count, Length: 981, dtype: int64"
      ]
     },
     "execution_count": 10,
     "metadata": {},
     "output_type": "execute_result"
    }
   ],
   "source": [
    "# use k-means to cluster the data samples and select a proportion of data from each cluster\n",
    "from sklearn.cluster import MiniBatchKMeans\n",
    "kmeans = MiniBatchKMeans(n_clusters=1000, random_state=0).fit(X)\n",
    "\n",
    "klabel=kmeans.labels_\n",
    "df_major['klabel']=klabel\n",
    "\n",
    "df_major['klabel'].value_counts()"
   ]
  },
  {
   "cell_type": "raw",
   "id": "658b396c-c41b-450b-a19e-36a45ed3417b",
   "metadata": {},
   "source": [
    "MiniBatchKMeans is fitted on the feature matrix X.\n",
    "n_clusters=1000: Specifies the number of clusters.\n",
    "random_state=0: Ensures reproducibility."
   ]
  },
  {
   "cell_type": "raw",
   "id": "a83787a2-780f-49b5-b9aa-56b996762d5f",
   "metadata": {},
   "source": [
    "kmeans.labels_ provides the cluster label for each sample in X.\n",
    "We add these labels as a new column klabel in df_major."
   ]
  },
  {
   "cell_type": "raw",
   "id": "617e4ce1-2cd0-4868-a454-27dd792d754d",
   "metadata": {},
   "source": [
    "value_counts() gives the number of samples in each cluster.\n",
    "We group the DataFrame by klabel and use apply with a lambda function to sample a fraction (frac=proportion) of the data from each cluster.\n",
    "reset_index(drop=True): Resets the index of the resulting DataFrame."
   ]
  },
  {
   "cell_type": "markdown",
   "id": "c6183034-50d5-492f-9666-29201e67d43e",
   "metadata": {},
   "source": [
    "The purpose of this code is to perform K-means clustering on a dataset (X) and then analyze the distribution of data points across the clusters. This information can be used for various purposes such as:\r\n",
    "\r\n",
    "Understanding the natural groupings or patterns in the data.\r\n",
    "Segmenting the data for further analysis or targeted actions.\r\n",
    "Selecting representative samples from each cluster for downstream ta\n",
    "\n",
    "## Eg\n",
    " Assuming df_major is a DataFrame containing the data and X is the feature matrix, the output of df_major['klabel'].value_counts() will be a Series where the index represents the cluster labels and the values represent the number of data points in each cluster.sks."
   ]
  },
  {
   "cell_type": "raw",
   "id": "6aa43e45-06db-4103-89ba-e4cbf0e28b27",
   "metadata": {},
   "source": [
    "Cluster  Count\n",
    "0        1500\n",
    "1        1200\n",
    "2         900\n",
    "...\n",
    "999       800\n"
   ]
  },
  {
   "cell_type": "markdown",
   "id": "21457314-1a0a-4936-b77e-27a27cb1a3cc",
   "metadata": {},
   "source": [
    "This output indicates that there are 1500 data points in cluster 0, 1200 data points in cluster 1, 900 data points in cluster 2, and so on."
   ]
  },
  {
   "cell_type": "code",
   "execution_count": null,
   "id": "6997abd9-79f7-427e-bc87-285a1f66a614",
   "metadata": {},
   "outputs": [],
   "source": [
    "cols = list(df_major)\n",
    "cols.insert(78, cols.pop(cols.index('Label')))\n",
    "df_major = df_major.loc[:, cols]"
   ]
  },
  {
   "cell_type": "code",
   "execution_count": null,
   "id": "f79d0424-5e4f-4289-bd2a-07de8fe8d3c9",
   "metadata": {},
   "outputs": [],
   "source": [
    "df_major"
   ]
  },
  {
   "cell_type": "code",
   "execution_count": null,
   "id": "ff34f12d-d807-4a5f-a1b7-f0a5905999bf",
   "metadata": {},
   "outputs": [],
   "source": [
    "def typicalSampling(group):\n",
    "    name = group.name\n",
    "    frac = 0.008\n",
    "    return group.sample(frac=frac)\n",
    "\n",
    "result = df_major.groupby(\n",
    "    'klabel', group_keys=False\n",
    ").apply(typicalSampling)"
   ]
  },
  {
   "cell_type": "markdown",
   "id": "2de0803e-3d9d-4bb4-9d2d-e64e1a33a8fa",
   "metadata": {},
   "source": [
    "The purpose of this code is to sample a specified fraction of rows from each cluster in the DataFrame. This is useful for creating a smaller, more manageable dataset that still represents the distribution of the original data across different clusters."
   ]
  },
  {
   "cell_type": "code",
   "execution_count": null,
   "id": "f493380a-f0e4-4635-9afc-84b51e4c52f1",
   "metadata": {},
   "outputs": [],
   "source": [
    "result['Label'].value_counts()"
   ]
  },
  {
   "cell_type": "code",
   "execution_count": null,
   "id": "69714082-048c-470a-ac94-83d50156c99b",
   "metadata": {},
   "outputs": [],
   "source": [
    "result = result.drop(['klabel'],axis=1)\n"
   ]
  },
  {
   "cell_type": "code",
   "execution_count": null,
   "id": "3f2d375b-3d30-47a9-9423-84576d01ac83",
   "metadata": {},
   "outputs": [],
   "source": [
    "result = pd.concat([result, df_minor], ignore_index=True)"
   ]
  },
  {
   "cell_type": "code",
   "execution_count": null,
   "id": "1a9d0e0e-0c12-46a1-bf03-4f0fc0a5ec1c",
   "metadata": {},
   "outputs": [],
   "source": [
    "result.to_csv('./data/CICIDS2017_sample_km.csv',index=0)"
   ]
  },
  {
=======
>>>>>>> ca757fe382360f92b5d498a30439226aa91a9788
   "cell_type": "markdown",
   "id": "fbfc821e-4a80-4ac4-989a-253b1e59817d",
   "metadata": {},
   "source": [
    "### split train set and test set using the sampled set"
   ]
  },
  {
<<<<<<< HEAD
   "cell_type": "code",
   "execution_count": null,
   "id": "c38cd866-6d82-44f9-a6b2-ef9e61c9a501",
   "metadata": {},
   "outputs": [],
   "source": [
    "# Read the sampled dataset\n",
    "df_sampled=pd.read_csv('./data/CICIDS2017_sample_km.csv')"
=======
   "cell_type": "raw",
   "id": "ad17d384-5b6b-4cf6-ae5e-af038491bf77",
   "metadata": {},
   "source": [
    "# Read the sampled dataset\n",
    "df_sampled=pd.read_csv('./data/CICIDS2017_sample.csv')"
>>>>>>> ca757fe382360f92b5d498a30439226aa91a9788
   ]
  },
  {
   "cell_type": "code",
<<<<<<< HEAD
   "execution_count": null,
=======
   "execution_count": 39,
>>>>>>> ca757fe382360f92b5d498a30439226aa91a9788
   "id": "47af9610-68be-4cc0-9ba9-8c88959e848a",
   "metadata": {},
   "outputs": [],
   "source": [
<<<<<<< HEAD
    "X = df_sampled.drop(['Label'],axis=1).values\n",
    "y = df_sampled.iloc[:, -1].values.reshape(-1,1)\n",
=======
    "X = df.drop(['Label'],axis=1).values\n",
    "y = df.iloc[:, -1].values.reshape(-1,1)\n",
>>>>>>> ca757fe382360f92b5d498a30439226aa91a9788
    "y=np.ravel(y)"
   ]
  },
  {
   "cell_type": "code",
<<<<<<< HEAD
   "execution_count": null,
=======
   "execution_count": 40,
>>>>>>> ca757fe382360f92b5d498a30439226aa91a9788
   "id": "74f6f97b-3878-4830-b2d8-83941a951d9e",
   "metadata": {},
   "outputs": [],
   "source": [
    "X_train, X_test, y_train, y_test = train_test_split(X,y, train_size = 0.8, test_size = 0.2, random_state = 0,stratify = y)"
   ]
  },
  {
   "cell_type": "markdown",
   "id": "bee10605-e51f-451a-8045-17e39697acf2",
   "metadata": {},
   "source": [
    "## Feature Engineering"
   ]
  },
  {
   "cell_type": "markdown",
   "id": "da398fd0-d1b6-4490-b406-1461505cfbbe",
   "metadata": {},
   "source": [
    "### Feature selection by Information Gain"
   ]
  },
  {
   "cell_type": "code",
<<<<<<< HEAD
   "execution_count": null,
=======
   "execution_count": 41,
   "id": "c9bcbd61-f98f-46f4-83f3-1a35994a2e94",
   "metadata": {},
   "outputs": [
    {
     "name": "stdout",
     "output_type": "stream",
     "text": [
      "Unique labels in y_train: [0 1 2 3 4 5 6]\n",
      "Type of labels in y_train: <class 'int'>\n"
     ]
    }
   ],
   "source": [
    "from sklearn.feature_selection import mutual_info_classif\n",
    "\n",
    "\n",
    "unique_labels = np.unique(y_train)\n",
    "print(f\"Unique labels in y_train: {unique_labels}\")\n",
    "\n",
    "print(f\"Type of labels in y_train: {type(y_train[0])}\")"
   ]
  },
  {
   "cell_type": "code",
   "execution_count": 45,
   "id": "128049c9-aecb-407c-a7c3-c2fdf41e8013",
   "metadata": {},
   "outputs": [
    {
     "name": "stdout",
     "output_type": "stream",
     "text": [
      "Unique labels in y_train after encoding: [0 1 2 3 4 5 6]\n"
     ]
    }
   ],
   "source": [
    "if not np.issubdtype(y_train.dtype, np.integer):\n",
    "    label_encoder = LabelEncoder()\n",
    "    y_train = label_encoder.fit_transform(y_train)\n",
    "    y_test = label_encoder.transform(y_test)\n",
    "\n",
    "unique_labels_encoded = np.unique(y_train)\n",
    "print(f\"Unique labels in y_train after encoding: {unique_labels_encoded}\")"
   ]
  },
  {
   "cell_type": "code",
   "execution_count": 44,
>>>>>>> ca757fe382360f92b5d498a30439226aa91a9788
   "id": "47778e26-d3e6-432b-806c-10d8b77ff23a",
   "metadata": {},
   "outputs": [],
   "source": [
<<<<<<< HEAD
    "from sklearn.feature_selection import mutual_info_classif\n",
=======
>>>>>>> ca757fe382360f92b5d498a30439226aa91a9788
    "importances = mutual_info_classif(X_train, y_train)"
   ]
  },
  {
   "cell_type": "markdown",
   "id": "2fcff944-cc79-41a5-b561-e5706629ca6e",
   "metadata": {},
   "source": [
    "#### Interpretation\r\n",
    "Higher Scores: Features with higher mutual information scores are more informative about the target variable.\r\n",
    "Lower Scores: Features with lower scores provide less information about the targetity."
   ]
  },
  {
   "cell_type": "markdown",
   "id": "c6b740b7-f7a0-41c6-9f2d-b033fa300cde",
   "metadata": {},
   "source": [
    "#### Use Case in Feature Selection\n",
    "Mutual information scores can be used to select a subset of features that are most relevant to the target variable. This can improve model performance by reducing overfitting and computational complexity."
   ]
  },
  {
   "cell_type": "code",
<<<<<<< HEAD
   "execution_count": null,
=======
   "execution_count": 46,
>>>>>>> ca757fe382360f92b5d498a30439226aa91a9788
   "id": "1a2f1fe3-8783-4562-8288-1526454203a7",
   "metadata": {},
   "outputs": [],
   "source": [
    "# calculate the sum of importance scores\n",
    "f_list = sorted(zip(map(lambda x: round(x, 4), importances), features), reverse=True)\n",
    "Sum = 0\n",
    "fs = []\n",
    "for i in range(0, len(f_list)):\n",
    "    Sum = Sum + f_list[i][0]\n",
    "    fs.append(f_list[i][1])"
   ]
  },
  {
   "cell_type": "raw",
   "id": "826daca0-e2e5-4042-bb26-2215352f6168",
   "metadata": {},
   "source": [
    "The code calculates the mutual information between each feature and the target variable.\n",
    "It sorts the features based on their importance scores in descending order.\n",
    "It then accumulates the total sum of the importance scores and collects the sorted feature names into a list.\n",
    "At the end of this process:\n",
    "\n",
    "Sum: The total sum of all the feature importance scores.\n",
    "fs: A list of feature names sorted by their importance scores in descending order."
   ]
  },
  {
   "cell_type": "code",
<<<<<<< HEAD
   "execution_count": null,
=======
   "execution_count": 47,
>>>>>>> ca757fe382360f92b5d498a30439226aa91a9788
   "id": "4e4b3f1f-e3b0-42d5-add1-7a5490297203",
   "metadata": {},
   "outputs": [],
   "source": [
    "# select the important features from top to bottom until the accumulated importance reaches 90%\n",
    "f_list2 = sorted(zip(map(lambda x: round(x, 4), importances/Sum), features), reverse=True)\n",
    "Sum2 = 0\n",
    "fs = []\n",
    "for i in range(0, len(f_list2)):\n",
    "    Sum2 = Sum2 + f_list2[i][0]\n",
    "    fs.append(f_list2[i][1])\n",
    "    if Sum2>=0.9:\n",
    "        break        "
   ]
  },
  {
   "cell_type": "raw",
   "id": "addfdeca-080b-4e36-af04-d804275394ff",
   "metadata": {},
   "source": [
    "The code first normalizes the feature importance scores so that their sum equals 1.\n",
    "It then sorts the features based on their normalized importance scores in descending order.\n",
    "It accumulates the importance scores and selects features until the accumulated importance reaches 90%.\n",
    "At the end of this process:\n",
    "\n",
    "Sum2: The accumulated normalized importance score (it will be slightly above or exactly 0.9).\n",
    "fs: A list of feature names that together contribute to 90% of the total importance."
   ]
  },
  {
   "cell_type": "code",
<<<<<<< HEAD
   "execution_count": null,
=======
   "execution_count": 48,
>>>>>>> ca757fe382360f92b5d498a30439226aa91a9788
   "id": "87295aab-3a46-4351-8fda-781f6e0096d7",
   "metadata": {},
   "outputs": [],
   "source": [
    "X_fs = df[fs].values\n",
    "##  X_fs_1 is to be checked without using the FCBF Filter\n",
    "X_fs_1=df[fs].values"
   ]
  },
  {
   "cell_type": "code",
<<<<<<< HEAD
   "execution_count": null,
   "id": "3204ac8f-448b-4b2b-bcb0-41230b109d89",
   "metadata": {},
   "outputs": [],
=======
   "execution_count": 49,
   "id": "3204ac8f-448b-4b2b-bcb0-41230b109d89",
   "metadata": {},
   "outputs": [
    {
     "data": {
      "text/plain": [
       "(56661, 45)"
      ]
     },
     "execution_count": 49,
     "metadata": {},
     "output_type": "execute_result"
    }
   ],
>>>>>>> ca757fe382360f92b5d498a30439226aa91a9788
   "source": [
    "X_fs.shape"
   ]
  },
  {
   "cell_type": "markdown",
   "id": "67bf3fc0-cb6a-4f64-a2d3-a09af61c56f8",
   "metadata": {},
   "source": [
    "### Feature selection by Fast Correlation Based Filter (FCBF)\n",
    "\n",
    "This is a Moudule imported from GitHub repo: https://github.com/SantiagoEG/FCBF_module, which is a custom Module\n",
    "\n",
    "Certain features are redundant because they contain very similar information. FCBF can remove redundant features by calculating the correlation between each pair of features."
   ]
  },
  {
   "cell_type": "code",
<<<<<<< HEAD
   "execution_count": null,
=======
   "execution_count": 50,
>>>>>>> ca757fe382360f92b5d498a30439226aa91a9788
   "id": "e6d66406-5f76-4ba1-9d74-2cd1b615334d",
   "metadata": {},
   "outputs": [],
   "source": [
    "from FCBF_module import FCBF, FCBFK, FCBFiP, get_i\n",
    "fcbf = FCBFK(k = 20)\n",
    "#fcbf.fit(X_fs, y)"
   ]
  },
  {
   "cell_type": "code",
<<<<<<< HEAD
   "execution_count": null,
=======
   "execution_count": 51,
>>>>>>> ca757fe382360f92b5d498a30439226aa91a9788
   "id": "aea89eb3-0625-4cc6-b4fe-c7e3c0ea327e",
   "metadata": {},
   "outputs": [],
   "source": [
    "X_fss = fcbf.fit_transform(X_fs,y)"
   ]
  },
  {
   "cell_type": "code",
<<<<<<< HEAD
   "execution_count": null,
   "id": "831a289a-bfba-40cb-a99e-e1c614b7089f",
   "metadata": {},
   "outputs": [],
=======
   "execution_count": 52,
   "id": "831a289a-bfba-40cb-a99e-e1c614b7089f",
   "metadata": {},
   "outputs": [
    {
     "data": {
      "text/plain": [
       "(56661, 20)"
      ]
     },
     "execution_count": 52,
     "metadata": {},
     "output_type": "execute_result"
    }
   ],
>>>>>>> ca757fe382360f92b5d498a30439226aa91a9788
   "source": [
    "X_fss.shape"
   ]
  },
  {
   "cell_type": "markdown",
   "id": "b2c0df73-aa31-4c66-bf1d-87a17107ba1c",
   "metadata": {},
   "source": [
    "## Re-split train & test sets after feature selection\n",
    "\n",
    "\n",
<<<<<<< HEAD
    "This is done inclusing the FCBF Filtering"
=======
    "This is done including the FCBF Filtering"
>>>>>>> ca757fe382360f92b5d498a30439226aa91a9788
   ]
  },
  {
   "cell_type": "code",
<<<<<<< HEAD
   "execution_count": null,
=======
   "execution_count": 53,
>>>>>>> ca757fe382360f92b5d498a30439226aa91a9788
   "id": "e3a515ea-2f2c-4dd0-8479-2fde51591f0d",
   "metadata": {},
   "outputs": [],
   "source": [
    "X_train, X_test, y_train, y_test = train_test_split(X_fss,y, train_size = 0.8, test_size = 0.2, random_state = 0,stratify = y)"
   ]
  },
  {
   "cell_type": "code",
<<<<<<< HEAD
   "execution_count": null,
   "id": "75600d0f-f482-4e2b-89b0-30a3b12f0785",
   "metadata": {},
   "outputs": [],
=======
   "execution_count": 54,
   "id": "75600d0f-f482-4e2b-89b0-30a3b12f0785",
   "metadata": {},
   "outputs": [
    {
     "data": {
      "text/plain": [
       "(45328, 20)"
      ]
     },
     "execution_count": 54,
     "metadata": {},
     "output_type": "execute_result"
    }
   ],
>>>>>>> ca757fe382360f92b5d498a30439226aa91a9788
   "source": [
    "X_train.shape"
   ]
  },
  {
   "cell_type": "code",
<<<<<<< HEAD
   "execution_count": null,
   "id": "1f36aab9-b82e-4dac-a45f-b45701040b5c",
=======
   "execution_count": 55,
   "id": "1f36aab9-b82e-4dac-a45f-b45701040b5c",
   "metadata": {
    "scrolled": true
   },
   "outputs": [
    {
     "data": {
      "text/plain": [
       "0    18184\n",
       "3    15228\n",
       "5     6357\n",
       "2     2213\n",
       "6     1744\n",
       "1     1573\n",
       "4       29\n",
       "Name: count, dtype: int64"
      ]
     },
     "execution_count": 55,
     "metadata": {},
     "output_type": "execute_result"
    }
   ],
   "source": [
    "pd.Series(y_train).value_counts()"
   ]
  },
  {
   "cell_type": "markdown",
   "id": "9d670957-6d8d-445a-b7ca-5d8f90457bb2",
   "metadata": {},
   "source": [
    "### SMOTE to solve class-imbalance"
   ]
  },
  {
   "cell_type": "code",
   "execution_count": 62,
   "id": "19a70be4-62e5-433e-a914-83c87ecaf4d1",
   "metadata": {},
   "outputs": [],
   "source": [
    "from imblearn.over_sampling import SMOTE\n",
    "smote=SMOTE(n_jobs=-1,sampling_strategy={2:10000,4:10000,5:10000,6:10000,1:10000})"
   ]
  },
  {
   "cell_type": "code",
   "execution_count": 63,
   "id": "f9d72718-2a13-4e96-8f7e-59e0c07dc005",
   "metadata": {},
   "outputs": [
    {
     "name": "stdout",
     "output_type": "stream",
     "text": [
      "Unique classes in y_train: [0 1 2 3 4 5 6]\n"
     ]
    }
   ],
   "source": [
    "unique_classes = np.unique(y_train)\n",
    "print(f\"Unique classes in y_train: {unique_classes}\")"
   ]
  },
  {
   "cell_type": "code",
   "execution_count": 66,
   "id": "83f00c5b-72b7-4bbc-ab3f-f66b4bdf089c",
   "metadata": {},
   "outputs": [],
   "source": [
    "if not np.issubdtype(y_train.dtype, np.integer):\n",
    "    label_encoder = LabelEncoder()\n",
    "    y_train = label_encoder.fit_transform(y_train)\n",
    "    y_test = label_encoder.transform(y_test)\n"
   ]
  },
  {
   "cell_type": "code",
   "execution_count": 67,
   "id": "a1c8509d-31b6-4c4d-9aa1-e8a2935a29ec",
   "metadata": {},
   "outputs": [
    {
     "name": "stdout",
     "output_type": "stream",
     "text": [
      "Unique labels in y_train after encoding: [0 1 2 3 4 5 6]\n"
     ]
    }
   ],
   "source": [
    "unique_labels_encoded = np.unique(y_train)\n",
    "print(f\"Unique labels in y_train after encoding: {unique_labels_encoded}\")"
   ]
  },
  {
   "cell_type": "code",
   "execution_count": 68,
   "id": "3d928a77-6c63-41ea-bed0-beeb96d132c9",
   "metadata": {},
   "outputs": [],
   "source": [
    "X_train, y_train = smote.fit_resample(X_train, y_train)"
   ]
  },
  {
   "cell_type": "code",
   "execution_count": 70,
   "id": "431fcfac-df98-405c-8205-8d82a3bb8f14",
   "metadata": {},
   "outputs": [
    {
     "name": "stdout",
     "output_type": "stream",
     "text": [
      "Mutual Information importances: [1.43801035 1.29926797 1.25760732 1.26484108 1.26326475 1.0266708\n",
      " 1.02693405 0.71105108 1.09598564 1.12107295 1.11995451 1.35098188\n",
      " 1.35500605 0.65681105 1.27545137 1.41372476 0.94076871 0.9412174\n",
      " 1.42140594 1.19558333]\n"
     ]
    }
   ],
   "source": [
    "importances = mutual_info_classif(X_train, y_train)\n",
    "print(\"Mutual Information importances:\", importances)"
   ]
  },
  {
   "cell_type": "code",
   "execution_count": 71,
   "id": "5462844f-6018-4c90-95d1-44b4e83a8f04",
   "metadata": {},
   "outputs": [
    {
     "data": {
      "text/plain": [
       "0    18184\n",
       "3    15228\n",
       "5    10000\n",
       "2    10000\n",
       "6    10000\n",
       "1    10000\n",
       "4    10000\n",
       "Name: count, dtype: int64"
      ]
     },
     "execution_count": 71,
     "metadata": {},
     "output_type": "execute_result"
    }
   ],
   "source": [
    "pd.Series(y_train).value_counts()"
   ]
  },
  {
   "cell_type": "markdown",
   "id": "1c3062a7-c618-4a3b-80e8-9f0c7793b69e",
   "metadata": {},
   "source": [
    "## Machine learning model training"
   ]
  },
  {
   "cell_type": "markdown",
   "id": "0d428861-3013-47d7-bdf8-43f4d52aeb4d",
   "metadata": {},
   "source": [
    "### XGBoost with FCBF"
   ]
  },
  {
   "cell_type": "code",
   "execution_count": 72,
   "id": "140f95e7-b59a-4e74-9f94-01b5fda0c583",
   "metadata": {},
   "outputs": [
    {
     "name": "stdout",
     "output_type": "stream",
     "text": [
      "Accuracy of XGBoost: 0.9883525986058413\n",
      "Precision of XGBoost: 0.9893960092289475\n",
      "Recall of XGBoost: 0.9883525986058413\n",
      "F1-score of XGBoost: 0.9887471236508235\n",
      "              precision    recall  f1-score   support\n",
      "\n",
      "           0       0.99      0.98      0.99      4547\n",
      "           1       0.97      0.99      0.98       393\n",
      "           2       0.97      1.00      0.98       554\n",
      "           3       1.00      0.99      1.00      3807\n",
      "           4       0.25      0.71      0.37         7\n",
      "           5       0.99      1.00      1.00      1589\n",
      "           6       0.93      0.98      0.96       436\n",
      "\n",
      "    accuracy                           0.99     11333\n",
      "   macro avg       0.87      0.95      0.90     11333\n",
      "weighted avg       0.99      0.99      0.99     11333\n",
      "\n"
     ]
    },
    {
     "data": {
      "image/png": "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",
      "text/plain": [
       "<Figure size 500x500 with 2 Axes>"
      ]
     },
     "metadata": {},
     "output_type": "display_data"
    }
   ],
   "source": [
    "xg = xgb.XGBClassifier(n_estimators = 10)\n",
    "xg.fit(X_train,y_train)\n",
    "xg_score=xg.score(X_test,y_test)\n",
    "y_predict=xg.predict(X_test)\n",
    "y_true=y_test\n",
    "print('Accuracy of XGBoost: '+ str(xg_score))\n",
    "precision,recall,fscore,none= precision_recall_fscore_support(y_true, y_predict, average='weighted') \n",
    "print('Precision of XGBoost: '+(str(precision)))\n",
    "print('Recall of XGBoost: '+(str(recall)))\n",
    "print('F1-score of XGBoost: '+(str(fscore)))\n",
    "print(classification_report(y_true,y_predict))\n",
    "cm=confusion_matrix(y_true,y_predict)\n",
    "f,ax=plt.subplots(figsize=(5,5))\n",
    "sns.heatmap(cm,annot=True,linewidth=0.5,linecolor=\"red\",fmt=\".0f\",ax=ax)\n",
    "plt.xlabel(\"y_pred\")\n",
    "plt.ylabel(\"y_true\")\n",
    "plt.show()"
   ]
  },
  {
   "cell_type": "markdown",
   "id": "8255bc4e-34b3-4e53-b47b-3f56ed855bef",
   "metadata": {},
   "source": [
    "#### Hyperparameter optimization (HPO) of XGBoost using Bayesian optimization with tree-based Parzen estimator (BO-TPE)\n",
    "Based on the GitHub repo for HPO: https://github.com/LiYangHart/Hyperparameter-Optimization-of-Machine-Learning-Algorithms"
   ]
  },
  {
   "cell_type": "code",
   "execution_count": 73,
   "id": "228e869b-4258-411c-81dd-339cefea0858",
   "metadata": {},
   "outputs": [],
   "source": [
    "import hyperopt"
   ]
  },
  {
   "cell_type": "code",
   "execution_count": 74,
   "id": "5bdadccc-8369-4fd2-8e15-4ca8f2f73581",
   "metadata": {},
   "outputs": [
    {
     "name": "stdout",
     "output_type": "stream",
     "text": [
      "100%|█████████████████| 20/20 [00:30<00:00,  1.52s/trial, best loss: -0.9951469160857672]\n",
      "XGBoost: Hyperopt estimated optimum {'learning_rate': 0.19206402419709137, 'max_depth': 12.0, 'n_estimators': 90.0}\n"
     ]
    }
   ],
   "source": [
    "from hyperopt import hp, fmin, tpe, STATUS_OK, Trials\n",
    "from sklearn.model_selection import cross_val_score, StratifiedKFold\n",
    "def objective(params):\n",
    "    params = {\n",
    "        'n_estimators': int(params['n_estimators']), \n",
    "        'max_depth': int(params['max_depth']),\n",
    "        'learning_rate':  abs(float(params['learning_rate'])),\n",
    "\n",
    "    }\n",
    "    clf = xgb.XGBClassifier( **params)\n",
    "    clf.fit(X_train, y_train)\n",
    "    y_pred = clf.predict(X_test)\n",
    "    score = accuracy_score(y_test, y_pred)\n",
    "\n",
    "    return {'loss':-score, 'status': STATUS_OK }\n",
    "\n",
    "space = {\n",
    "    'n_estimators': hp.quniform('n_estimators', 10, 100, 5),\n",
    "    'max_depth': hp.quniform('max_depth', 4, 100, 1),\n",
    "    'learning_rate': hp.normal('learning_rate', 0.01, 0.9),\n",
    "}\n",
    "\n",
    "best = fmin(fn=objective,\n",
    "            space=space,\n",
    "            algo=tpe.suggest,\n",
    "            max_evals=20)\n",
    "print(\"XGBoost: Hyperopt estimated optimum {}\".format(best))"
   ]
  },
  {
   "cell_type": "code",
   "execution_count": 75,
   "id": "1b3d3037-9446-4990-976c-328f3607b4f3",
   "metadata": {},
   "outputs": [
    {
     "name": "stdout",
     "output_type": "stream",
     "text": [
      "Accuracy of XGBoost: 0.9951469160857672\n",
      "Precision of XGBoost: 0.9954555829079986\n",
      "Recall of XGBoost: 0.9951469160857672\n",
      "F1-score of XGBoost: 0.9952605870728645\n",
      "              precision    recall  f1-score   support\n",
      "\n",
      "           0       1.00      0.99      0.99      4547\n",
      "           1       0.99      0.99      0.99       393\n",
      "           2       0.99      1.00      1.00       554\n",
      "           3       1.00      1.00      1.00      3807\n",
      "           4       0.42      0.71      0.53         7\n",
      "           5       1.00      1.00      1.00      1589\n",
      "           6       0.96      1.00      0.98       436\n",
      "\n",
      "    accuracy                           1.00     11333\n",
      "   macro avg       0.91      0.95      0.93     11333\n",
      "weighted avg       1.00      1.00      1.00     11333\n",
      "\n"
     ]
    },
    {
     "data": {
      "image/png": "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",
      "text/plain": [
       "<Figure size 500x500 with 2 Axes>"
      ]
     },
     "metadata": {},
     "output_type": "display_data"
    }
   ],
   "source": [
    "xg = xgb.XGBClassifier(learning_rate= 0.19206402419709137, n_estimators = 90, max_depth = 12)\n",
    "xg.fit(X_train,y_train)\n",
    "xg_score=xg.score(X_test,y_test)\n",
    "y_predict=xg.predict(X_test)\n",
    "y_true=y_test\n",
    "print('Accuracy of XGBoost: '+ str(xg_score))\n",
    "precision,recall,fscore,none= precision_recall_fscore_support(y_true, y_predict, average='weighted') \n",
    "print('Precision of XGBoost: '+(str(precision)))\n",
    "print('Recall of XGBoost: '+(str(recall)))\n",
    "print('F1-score of XGBoost: '+(str(fscore)))\n",
    "print(classification_report(y_true,y_predict))\n",
    "cm=confusion_matrix(y_true,y_predict)\n",
    "f,ax=plt.subplots(figsize=(5,5))\n",
    "sns.heatmap(cm,annot=True,linewidth=0.5,linecolor=\"red\",fmt=\".0f\",ax=ax)\n",
    "plt.xlabel(\"y_pred\")\n",
    "plt.ylabel(\"y_true\")\n",
    "plt.show()"
   ]
  },
  {
   "cell_type": "code",
   "execution_count": 76,
   "id": "d169327c-e759-4fb7-a578-9db765c0f0da",
   "metadata": {},
   "outputs": [],
   "source": [
    "xg_train=xg.predict(X_train)\n",
    "xg_test=xg.predict(X_test)"
   ]
  },
  {
   "cell_type": "markdown",
   "id": "570ecd3e-e754-453a-9f5f-3ec7b7970dc7",
   "metadata": {},
   "source": [
    "### XGBoost without FCBF"
   ]
  },
  {
   "cell_type": "code",
   "execution_count": 80,
   "id": "4bec5e27-e181-4fc7-b14d-7f7038318498",
   "metadata": {},
   "outputs": [
    {
     "data": {
      "text/plain": [
       "0    18184\n",
       "3    15228\n",
       "5     6357\n",
       "2     2213\n",
       "6     1744\n",
       "1     1573\n",
       "4       29\n",
       "Name: count, dtype: int64"
      ]
     },
     "execution_count": 80,
     "metadata": {},
     "output_type": "execute_result"
    }
   ],
   "source": [
    "X_train_1, X_test_1, y_train_1, y_test_1 = train_test_split(X_fs_1,y, train_size = 0.8, test_size = 0.2, random_state = 0,stratify = y)\n",
    "\n",
    "pd.Series(y_train_1).value_counts()\n",
    "\n",
    "\n"
   ]
  },
  {
   "cell_type": "code",
   "execution_count": 82,
   "id": "73da7d2d-e76f-4c16-9ff1-88622de2ad8e",
   "metadata": {},
   "outputs": [],
   "source": [
    "if not np.issubdtype(y_train_1.dtype, np.integer):\n",
    "    label_encoder = LabelEncoder()\n",
    "    y_train_1 = label_encoder.fit_transform(y_train_1)\n",
    "    y_test_1 = label_encoder.transform(y_test_1)\n",
    "\n",
    "smote=SMOTE(n_jobs=-1,sampling_strategy={2:10000,4:10000,5:10000,6:10000,1:10000})\n",
    "\n",
    "pd.Series(y_train_1).value_counts()\n",
    "X_train_1, y_train_1 = smote.fit_resample(X_train_1, y_train_1)"
   ]
  },
  {
   "cell_type": "code",
   "execution_count": 83,
   "id": "5dcf478d-ebba-44f1-a5ab-209609a7b655",
   "metadata": {},
   "outputs": [
    {
     "name": "stdout",
     "output_type": "stream",
     "text": [
      "Accuracy of XGBoost: 0.9918821141798289\n",
      "Precision of XGBoost: 0.991988058951321\n",
      "Recall of XGBoost: 0.9918821141798289\n",
      "F1-score of XGBoost: 0.9918832246761021\n",
      "              precision    recall  f1-score   support\n",
      "\n",
      "           0       1.00      0.99      0.99      4547\n",
      "           1       0.99      0.99      0.99       393\n",
      "           2       0.99      1.00      1.00       554\n",
      "           3       1.00      1.00      1.00      3807\n",
      "           4       0.42      0.71      0.53         7\n",
      "           5       1.00      1.00      1.00      1589\n",
      "           6       0.96      1.00      0.98       436\n",
      "\n",
      "    accuracy                           1.00     11333\n",
      "   macro avg       0.91      0.95      0.93     11333\n",
      "weighted avg       1.00      1.00      1.00     11333\n",
      "\n"
     ]
    },
    {
     "data": {
      "image/png": "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",
      "text/plain": [
       "<Figure size 500x500 with 2 Axes>"
      ]
     },
     "metadata": {},
     "output_type": "display_data"
    }
   ],
   "source": [
    "xg = xgb.XGBClassifier(n_estimators = 10)\n",
    "xg.fit(X_train_1,y_train_1)\n",
    "xg_score=xg.score(X_test_1,y_test_1)\n",
    "y_predict_1=xg.predict(X_test_1)\n",
    "y_true_1=y_test_1\n",
    "print('Accuracy of XGBoost: '+ str(xg_score))\n",
    "precision,recall,fscore,none= precision_recall_fscore_support(y_true_1, y_predict_1, average='weighted') \n",
    "print('Precision of XGBoost: '+(str(precision)))\n",
    "print('Recall of XGBoost: '+(str(recall)))\n",
    "print('F1-score of XGBoost: '+(str(fscore)))\n",
    "print(classification_report(y_true,y_predict))\n",
    "cm=confusion_matrix(y_true_1,y_predict_1)\n",
    "f,ax=plt.subplots(figsize=(5,5))\n",
    "sns.heatmap(cm,annot=True,linewidth=0.5,linecolor=\"red\",fmt=\".0f\",ax=ax)\n",
    "plt.xlabel(\"y_pred_1\")\n",
    "plt.ylabel(\"y_true_1\")\n",
    "plt.show()"
   ]
  },
  {
   "cell_type": "code",
   "execution_count": 85,
   "id": "825ee1e2-4496-4af6-8f78-76746280a24f",
   "metadata": {},
   "outputs": [
    {
     "name": "stdout",
     "output_type": "stream",
     "text": [
      "100%|█████████████████| 20/20 [00:36<00:00,  1.82s/trial, best loss: -0.9973528633195095]\n",
      "XGBoost: Hyperopt estimated optimum {'learning_rate': -1.1913956579475435, 'max_depth': 6.0, 'n_estimators': 70.0}\n"
     ]
    }
   ],
   "source": [
    "def objective(params):\n",
    "    params = {\n",
    "        'n_estimators': int(params['n_estimators']), \n",
    "        'max_depth': int(params['max_depth']),\n",
    "        'learning_rate':  abs(float(params['learning_rate'])),\n",
    "\n",
    "    }\n",
    "    clf = xgb.XGBClassifier( **params)\n",
    "    clf.fit(X_train_1, y_train_1)\n",
    "    y_pred_1 = clf.predict(X_test_1)\n",
    "    score = accuracy_score(y_test_1, y_pred_1)\n",
    "\n",
    "    return {'loss':-score, 'status': STATUS_OK }\n",
    "\n",
    "\n",
    "space = {\n",
    "    'n_estimators': hp.quniform('n_estimators', 10, 100, 5),\n",
    "    'max_depth': hp.quniform('max_depth', 4, 100, 1),\n",
    "    'learning_rate': hp.normal('learning_rate', 0.01, 0.9),\n",
    "}\n",
    "\n",
    "best = fmin(fn=objective,\n",
    "            space=space,\n",
    "            algo=tpe.suggest,\n",
    "            max_evals=20)\n",
    "print(\"XGBoost: Hyperopt estimated optimum {}\".format(best))"
   ]
  },
  {
   "cell_type": "code",
   "execution_count": null,
   "id": "0e7bc5d1-7ec9-4e9f-8942-fa4754b81f42",
   "metadata": {},
   "outputs": [],
   "source": [
    "xg = xgb.XGBClassifier(learning_rate= 0.1206862326628798, n_estimators = 55, max_depth = 75)\n",
    "xg.fit(X_train_1,y_train_1)\n",
    "xg_score=xg.score(X_test_1,y_test_1)\n",
    "y_predict=xg.predict(X_test_1)\n",
    "y_true_1=y_test_1\n",
    "print('Accuracy of XGBoost: '+ str(xg_score))\n",
    "precision,recall,fscore,none= precision_recall_fscore_support(y_true_1, y_predict_1, average='weighted') \n",
    "print('Precision of XGBoost: '+(str(precision)))\n",
    "print('Recall of XGBoost: '+(str(recall)))\n",
    "print('F1-score of XGBoost: '+(str(fscore)))\n",
    "print(classification_report(y_true_1,y_predict_1))\n",
    "cm=confusion_matrix(y_true_1,y_predict_1)\n",
    "f,ax=plt.subplots(figsize=(5,5))\n",
    "sns.heatmap(cm,annot=True,linewidth=0.5,linecolor=\"red\",fmt=\".0f\",ax=ax)\n",
    "plt.xlabel(\"y_pred\")\n",
    "plt.ylabel(\"y_true\")\n",
    "plt.show()"
   ]
  },
  {
   "cell_type": "code",
   "execution_count": 86,
   "id": "3fe76de5-6ed3-478f-a47a-e08297fb13d3",
   "metadata": {},
   "outputs": [],
   "source": [
    "xg_train_1=xg.predict(X_train_1)\n",
    "xg_test_1=xg.predict(X_test_1)"
   ]
  },
  {
   "cell_type": "markdown",
   "id": "b9d3155d-ea74-4333-86fc-339241fdaa6b",
   "metadata": {},
   "source": [
    "### Random Forest"
   ]
  },
  {
   "cell_type": "code",
   "execution_count": null,
   "id": "89bbecbd-7774-4bd0-9c7d-9ae103476a10",
   "metadata": {},
   "outputs": [],
   "source": [
    "X_train, X_test, y_train, y_test = train_test_split(X_fss,y, train_size = 0.8, test_size = 0.2, random_state = 0,stratify = y)\n",
    "smote=SMOTE(n_jobs=-1,sampling_strategy={2:1000,4:1000})\n",
    "X_train, y_train = smote.fit_resample(X_train, y_train)"
   ]
  },
  {
   "cell_type": "code",
   "execution_count": 87,
   "id": "fe85535b-ce69-4efb-a393-bc43185855af",
   "metadata": {},
   "outputs": [
    {
     "name": "stdout",
     "output_type": "stream",
     "text": [
      "Accuracy of RF: 0.9947057266390188\n",
      "Precision of RF: 0.9951578876254944\n",
      "Recall of RF: 0.9947057266390188\n",
      "F1-score of RF: 0.9948770461006454\n",
      "              precision    recall  f1-score   support\n",
      "\n",
      "           0       1.00      0.99      0.99      4547\n",
      "           1       0.99      0.99      0.99       393\n",
      "           2       1.00      1.00      1.00       554\n",
      "           3       1.00      1.00      1.00      3807\n",
      "           4       0.36      0.71      0.48         7\n",
      "           5       0.99      1.00      1.00      1589\n",
      "           6       0.96      0.99      0.98       436\n",
      "\n",
      "    accuracy                           0.99     11333\n",
      "   macro avg       0.90      0.95      0.92     11333\n",
      "weighted avg       1.00      0.99      0.99     11333\n",
      "\n"
     ]
    },
    {
     "data": {
      "image/png": "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",
      "text/plain": [
       "<Figure size 500x500 with 2 Axes>"
      ]
     },
     "metadata": {},
     "output_type": "display_data"
    }
   ],
   "source": [
    "rf = RandomForestClassifier(random_state = 0)\n",
    "rf.fit(X_train,y_train) \n",
    "rf_score=rf.score(X_test,y_test)\n",
    "y_predict=rf.predict(X_test)\n",
    "y_true=y_test\n",
    "print('Accuracy of RF: '+ str(rf_score))\n",
    "precision,recall,fscore,none= precision_recall_fscore_support(y_true, y_predict, average='weighted') \n",
    "print('Precision of RF: '+(str(precision)))\n",
    "print('Recall of RF: '+(str(recall)))\n",
    "print('F1-score of RF: '+(str(fscore)))\n",
    "print(classification_report(y_true,y_predict))\n",
    "cm=confusion_matrix(y_true,y_predict)\n",
    "f,ax=plt.subplots(figsize=(5,5))\n",
    "sns.heatmap(cm,annot=True,linewidth=0.5,linecolor=\"red\",fmt=\".0f\",ax=ax)\n",
    "plt.xlabel(\"y_pred\")\n",
    "plt.ylabel(\"y_true\")\n",
    "plt.show()"
   ]
  },
  {
   "cell_type": "code",
   "execution_count": null,
   "id": "7b61a367-4dc9-4786-b38c-90e9d5b8b80e",
   "metadata": {},
   "outputs": [
    {
     "name": "stdout",
     "output_type": "stream",
     "text": [
      " 55%|█████████▉        | 11/20 [01:39<01:50, 12.32s/trial, best loss: -0.994088061413571]"
     ]
    }
   ],
   "source": [
    "# Hyperparameter optimization of random forest\n",
    "from hyperopt import hp, fmin, tpe, STATUS_OK, Trials\n",
    "from sklearn.model_selection import cross_val_score, StratifiedKFold\n",
    "# Define the objective function\n",
    "def objective(params):\n",
    "    params = {\n",
    "        'n_estimators': int(params['n_estimators']), \n",
    "        'max_depth': int(params['max_depth']),\n",
    "        'max_features': int(params['max_features']),\n",
    "        \"min_samples_split\":int(params['min_samples_split']),\n",
    "        \"min_samples_leaf\":int(params['min_samples_leaf']),\n",
    "        \"criterion\":str(params['criterion'])\n",
    "    }\n",
    "    clf = RandomForestClassifier( **params)\n",
    "    clf.fit(X_train,y_train)\n",
    "    score=clf.score(X_test,y_test)\n",
    "\n",
    "    return {'loss':-score, 'status': STATUS_OK }\n",
    "# Define the hyperparameter configuration space\n",
    "space = {\n",
    "    'n_estimators': hp.quniform('n_estimators', 10, 200, 1),\n",
    "    'max_depth': hp.quniform('max_depth', 5, 50, 1),\n",
    "    \"max_features\":hp.quniform('max_features', 1, 20, 1),\n",
    "    \"min_samples_split\":hp.quniform('min_samples_split',2,11,1),\n",
    "    \"min_samples_leaf\":hp.quniform('min_samples_leaf',1,11,1),\n",
    "    \"criterion\":hp.choice('criterion',['gini','entropy'])\n",
    "}\n",
    "\n",
    "best = fmin(fn=objective,\n",
    "            space=space,\n",
    "            algo=tpe.suggest,\n",
    "            max_evals=20)\n",
    "print(\"Random Forest: Hyperopt estimated optimum {}\".format(best))"
   ]
  },
  {
   "cell_type": "code",
   "execution_count": null,
   "id": "c240aa64-e8e9-4a65-8546-03f6373cf106",
   "metadata": {},
   "outputs": [],
   "source": [
    "rf_hpo = RandomForestClassifier(n_estimators = 27, min_samples_leaf = 1, max_depth = 45, min_samples_split = 2, max_features = 8, criterion = 'entropy')\n",
    "rf_hpo.fit(X_train,y_train)\n",
    "rf_score=rf_hpo.score(X_test,y_test)\n",
    "y_predict=rf_hpo.predict(X_test)\n",
    "y_true=y_test\n",
    "print('Accuracy of RF: '+ str(rf_score))\n",
    "precision,recall,fscore,none= precision_recall_fscore_support(y_true, y_predict, average='weighted') \n",
    "print('Precision of RF: '+(str(precision)))\n",
    "print('Recall of RF: '+(str(recall)))\n",
    "print('F1-score of RF: '+(str(fscore)))\n",
    "print(classification_report(y_true,y_predict))\n",
    "cm=confusion_matrix(y_true,y_predict)\n",
    "f,ax=plt.subplots(figsize=(5,5))\n",
    "sns.heatmap(cm,annot=True,linewidth=0.5,linecolor=\"red\",fmt=\".0f\",ax=ax)\n",
    "plt.xlabel(\"y_pred\")\n",
    "plt.ylabel(\"y_true\")\n",
    "plt.show()"
   ]
  },
  {
   "cell_type": "code",
   "execution_count": null,
   "id": "b7d2274d-014a-4ba5-b0c9-aa8610908fde",
   "metadata": {},
   "outputs": [],
   "source": [
    "rf_train=rf_hpo.predict(X_train)\n",
    "rf_test=rf_hpo.predict(X_test)"
   ]
  },
  {
   "cell_type": "markdown",
   "id": "e500d276-4ea2-47cc-9835-0d5e5480e252",
   "metadata": {},
   "source": [
    "#### Random Forest without FCBF"
   ]
  },
  {
   "cell_type": "code",
   "execution_count": null,
   "id": "c36bfc29-5a6b-4e8a-b350-7ec274d0efce",
   "metadata": {},
   "outputs": [],
   "source": [
    "X_train_1, X_test_1, y_train_1, y_test_1 = train_test_split(X_fs_1,y, train_size = 0.8, test_size = 0.2, random_state = 0,stratify = y)\n",
    "pd.Series(y_train_1).value_counts()\n",
    "smote=SMOTE(n_jobs=-1,sampling_strategy={2:1000,4:1000})\n",
    "X_train_1, y_train_1 = smote.fit_resample(X_train_1, y_train_1)"
   ]
  },
  {
   "cell_type": "code",
   "execution_count": null,
   "id": "323dc16d-62ae-4f57-9ed3-573bf12e4f8b",
   "metadata": {},
   "outputs": [],
   "source": [
    "rf = RandomForestClassifier(random_state = 0)\n",
    "rf.fit(X_train_1,y_train_1) \n",
    "rf_score=rf.score(X_test_1,y_test_1)\n",
    "y_predict=rf.predict(X_test_1)\n",
    "y_true_1=y_test_1\n",
    "print('Accuracy of RF: '+ str(rf_score))\n",
    "precision,recall,fscore,none= precision_recall_fscore_support(y_true_1, y_predict_1, average='weighted') \n",
    "print('Precision of RF: '+(str(precision)))\n",
    "print('Recall of RF: '+(str(recall)))\n",
    "print('F1-score of RF: '+(str(fscore)))\n",
    "print(classification_report(y_true_1,y_predict_1))\n",
    "cm=confusion_matrix(y_true_1,y_predict_1)\n",
    "f,ax=plt.subplots(figsize=(5,5))\n",
    "sns.heatmap(cm,annot=True,linewidth=0.5,linecolor=\"red\",fmt=\".0f\",ax=ax)\n",
    "plt.xlabel(\"y_pred\")\n",
    "plt.ylabel(\"y_true\")\n",
    "plt.show()"
   ]
  },
  {
   "cell_type": "code",
   "execution_count": null,
   "id": "088190bc-b25c-4254-9bef-214bad0b636c",
   "metadata": {},
   "outputs": [],
   "source": [
    "# Hyperparameter optimization of random forest\n",
    "from hyperopt import hp, fmin, tpe, STATUS_OK, Trials\n",
    "from sklearn.model_selection import cross_val_score, StratifiedKFold\n",
    "# Define the objective function\n",
    "def objective(params):\n",
    "    params = {\n",
    "        'n_estimators': int(params['n_estimators']), \n",
    "        'max_depth': int(params['max_depth']),\n",
    "        'max_features': int(params['max_features']),\n",
    "        \"min_samples_split\":int(params['min_samples_split']),\n",
    "        \"min_samples_leaf\":int(params['min_samples_leaf']),\n",
    "        \"criterion\":str(params['criterion'])\n",
    "    }\n",
    "    clf = RandomForestClassifier( **params)\n",
    "    clf.fit(X_train_1,y_train_1)\n",
    "    score=clf.score(X_test_1,y_test_1)\n",
    "\n",
    "    return {'loss':-score, 'status': STATUS_OK }\n",
    "# Define the hyperparameter configuration space\n",
    "space = {\n",
    "    'n_estimators': hp.quniform('n_estimators', 10, 200, 1),\n",
    "    'max_depth': hp.quniform('max_depth', 5, 50, 1),\n",
    "    \"max_features\":hp.quniform('max_features', 1, 20, 1),\n",
    "    \"min_samples_split\":hp.quniform('min_samples_split',2,11,1),\n",
    "    \"min_samples_leaf\":hp.quniform('min_samples_leaf',1,11,1),\n",
    "    \"criterion\":hp.choice('criterion',['gini','entropy'])\n",
    "}\n",
    "\n",
    "best = fmin(fn=objective,\n",
    "            space=space,\n",
    "            algo=tpe.suggest,\n",
    "            max_evals=20)\n",
    "print(\"Random Forest: Hyperopt estimated optimum {}\".format(best))"
   ]
  },
  {
   "cell_type": "code",
   "execution_count": null,
   "id": "857a6109-221c-47d1-9976-07287ad8eccc",
   "metadata": {},
   "outputs": [],
   "source": [
    "rf_hpo = RandomForestClassifier(n_estimators = 146, min_samples_leaf = 1, max_depth = 39, min_samples_split = 8, max_features = 15, criterion = 'entropy')\n",
    "rf_hpo.fit(X_train_1,y_train_1)\n",
    "rf_score=rf_hpo.score(X_test_1,y_test_1)\n",
    "y_predict_1=rf_hpo.predict(X_test_1)\n",
    "y_true_1=y_test_1\n",
    "print('Accuracy of RF: '+ str(rf_score))\n",
    "precision,recall,fscore,none= precision_recall_fscore_support(y_true_1, y_predict_1, average='weighted') \n",
    "print('Precision of RF: '+(str(precision)))\n",
    "print('Recall of RF: '+(str(recall)))\n",
    "print('F1-score of RF: '+(str(fscore)))\n",
    "print(classification_report(y_true_1,y_predict_1))\n",
    "cm=confusion_matrix(y_true_1,y_predict_1)\n",
    "f,ax=plt.subplots(figsize=(5,5))\n",
    "sns.heatmap(cm,annot=True,linewidth=0.5,linecolor=\"red\",fmt=\".0f\",ax=ax)\n",
    "plt.xlabel(\"y_pred\")\n",
    "plt.ylabel(\"y_true\")\n",
    "plt.show()"
   ]
  },
  {
   "cell_type": "code",
   "execution_count": null,
   "id": "564369a9-e84b-42d2-b25d-0079c92b5dec",
   "metadata": {},
   "outputs": [],
   "source": [
    "rf_train_1=rf_hpo.predict(X_train_1)\n",
    "rf_test_1=rf_hpo.predict(X_test_1)"
   ]
  },
  {
   "cell_type": "markdown",
   "id": "abd6e6e7-7c99-4504-8851-a9883a25e1bc",
   "metadata": {},
   "source": [
    "### Decision Tree"
   ]
  },
  {
   "cell_type": "code",
   "execution_count": null,
   "id": "b1b4fde3-558c-4904-9981-0a87c9a54ac5",
   "metadata": {},
   "outputs": [],
   "source": [
    "dt = DecisionTreeClassifier(random_state = 0)\n",
    "dt.fit(X_train,y_train) \n",
    "dt_score=dt.score(X_test,y_test)\n",
    "y_predict=dt.predict(X_test)\n",
    "y_true=y_test\n",
    "print('Accuracy of DT: '+ str(dt_score))\n",
    "precision,recall,fscore,none= precision_recall_fscore_support(y_true, y_predict, average='weighted') \n",
    "print('Precision of DT: '+(str(precision)))\n",
    "print('Recall of DT: '+(str(recall)))\n",
    "print('F1-score of DT: '+(str(fscore)))\n",
    "print(classification_report(y_true,y_predict))\n",
    "cm=confusion_matrix(y_true,y_predict)\n",
    "f,ax=plt.subplots(figsize=(5,5))\n",
    "sns.heatmap(cm,annot=True,linewidth=0.5,linecolor=\"red\",fmt=\".0f\",ax=ax)\n",
    "plt.xlabel(\"y_pred\")\n",
    "plt.ylabel(\"y_true\")\n",
    "plt.show()"
   ]
  },
  {
   "cell_type": "code",
   "execution_count": null,
   "id": "bf2659d6-3e09-4a08-943d-c1b6840e58ad",
   "metadata": {},
   "outputs": [],
   "source": [
    "# Hyperparameter optimization of decision tree\n",
    "from hyperopt import hp, fmin, tpe, STATUS_OK, Trials\n",
    "from sklearn.model_selection import cross_val_score, StratifiedKFold\n",
    "# Define the objective function\n",
    "def objective(params):\n",
    "    params = {\n",
    "        'max_depth': int(params['max_depth']),\n",
    "        'max_features': int(params['max_features']),\n",
    "        \"min_samples_split\":int(params['min_samples_split']),\n",
    "        \"min_samples_leaf\":int(params['min_samples_leaf']),\n",
    "        \"criterion\":str(params['criterion'])\n",
    "    }\n",
    "    clf = DecisionTreeClassifier( **params)\n",
    "    clf.fit(X_train,y_train)\n",
    "    score=clf.score(X_test,y_test)\n",
    "\n",
    "    return {'loss':-score, 'status': STATUS_OK }\n",
    "# Define the hyperparameter configuration space\n",
    "space = {\n",
    "    'max_depth': hp.quniform('max_depth', 5, 50, 1),\n",
    "    \"max_features\":hp.quniform('max_features', 1, 20, 1),\n",
    "    \"min_samples_split\":hp.quniform('min_samples_split',2,11,1),\n",
    "    \"min_samples_leaf\":hp.quniform('min_samples_leaf',1,11,1),\n",
    "    \"criterion\":hp.choice('criterion',['gini','entropy'])\n",
    "}\n",
    "\n",
    "best = fmin(fn=objective,\n",
    "            space=space,\n",
    "            algo=tpe.suggest,\n",
    "            max_evals=50)\n",
    "print(\"Decision tree: Hyperopt estimated optimum {}\".format(best))"
   ]
  },
  {
   "cell_type": "code",
   "execution_count": null,
   "id": "04e58394-d6ce-44fc-bb13-9a38662dd1a6",
   "metadata": {},
   "outputs": [],
   "source": [
    "dt_hpo = DecisionTreeClassifier(min_samples_leaf = 4, max_depth = 17, min_samples_split = 8, max_features = 20, criterion = 'entropy')\n",
    "dt_hpo.fit(X_train,y_train)\n",
    "dt_score=dt_hpo.score(X_test,y_test)\n",
    "y_predict=dt_hpo.predict(X_test)\n",
    "y_true=y_test\n",
    "print('Accuracy of DT: '+ str(dt_score))\n",
    "precision,recall,fscore,none= precision_recall_fscore_support(y_true, y_predict, average='weighted') \n",
    "print('Precision of DT: '+(str(precision)))\n",
    "print('Recall of DT: '+(str(recall)))\n",
    "print('F1-score of DT: '+(str(fscore)))\n",
    "print(classification_report(y_true,y_predict))\n",
    "cm=confusion_matrix(y_true,y_predict)\n",
    "f,ax=plt.subplots(figsize=(5,5))\n",
    "sns.heatmap(cm,annot=True,linewidth=0.5,linecolor=\"red\",fmt=\".0f\",ax=ax)\n",
    "plt.xlabel(\"y_pred\")\n",
    "plt.ylabel(\"y_true\")\n",
    "plt.show()"
   ]
  },
  {
   "cell_type": "code",
   "execution_count": null,
   "id": "de6e715d-a5e5-445b-b717-242131cbbdd5",
   "metadata": {},
   "outputs": [],
   "source": [
    "dt_train=dt_hpo.predict(X_train)\n",
    "dt_test=dt_hpo.predict(X_test)"
   ]
  },
  {
   "cell_type": "markdown",
   "id": "10451df1-d645-4021-82e9-3b5151f45e26",
   "metadata": {},
   "source": [
    "#### DF without FCBF"
   ]
  },
  {
   "cell_type": "code",
   "execution_count": null,
   "id": "384ddaea-f8fa-4f64-92e8-298fcd9f6824",
   "metadata": {},
   "outputs": [],
   "source": [
    "dt = DecisionTreeClassifier(random_state = 0)\n",
    "dt.fit(X_train_1,y_train_1) \n",
    "dt_score=dt.score(X_test_1,y_test_1)\n",
    "y_predict_1=dt.predict(X_test_1)\n",
    "y_true_1=y_test_1\n",
    "print('Accuracy of DT: '+ str(dt_score))\n",
    "precision,recall,fscore,none= precision_recall_fscore_support(y_true_1, y_predict_1, average='weighted') \n",
    "print('Precision of DT: '+(str(precision)))\n",
    "print('Recall of DT: '+(str(recall)))\n",
    "print('F1-score of DT: '+(str(fscore)))\n",
    "print(classification_report(y_true_1,y_predict_1))\n",
    "cm=confusion_matrix(y_true_1,y_predict_1)\n",
    "f,ax=plt.subplots(figsize=(5,5))\n",
    "sns.heatmap(cm,annot=True,linewidth=0.5,linecolor=\"red\",fmt=\".0f\",ax=ax)\n",
    "plt.xlabel(\"y_pred\")\n",
    "plt.ylabel(\"y_true\")\n",
    "plt.show()"
   ]
  },
  {
   "cell_type": "code",
   "execution_count": null,
   "id": "3e426db3-4a05-43b3-a47c-7684d2ea2550",
   "metadata": {},
   "outputs": [],
   "source": [
    "# Hyperparameter optimization of decision tree\n",
    "from hyperopt import hp, fmin, tpe, STATUS_OK, Trials\n",
    "from sklearn.model_selection import cross_val_score, StratifiedKFold\n",
    "# Define the objective function\n",
    "def objective(params):\n",
    "    params = {\n",
    "        'max_depth': int(params['max_depth']),\n",
    "        'max_features': int(params['max_features']),\n",
    "        \"min_samples_split\":int(params['min_samples_split']),\n",
    "        \"min_samples_leaf\":int(params['min_samples_leaf']),\n",
    "        \"criterion\":str(params['criterion'])\n",
    "    }\n",
    "    clf = DecisionTreeClassifier( **params)\n",
    "    clf.fit(X_train_1,y_train_1)\n",
    "    score=clf.score(X_test_1,y_test_1)\n",
    "\n",
    "    return {'loss':-score, 'status': STATUS_OK }\n",
    "# Define the hyperparameter configuration space\n",
    "space = {\n",
    "    'max_depth': hp.quniform('max_depth', 5, 50, 1),\n",
    "    \"max_features\":hp.quniform('max_features', 1, 20, 1),\n",
    "    \"min_samples_split\":hp.quniform('min_samples_split',2,11,1),\n",
    "    \"min_samples_leaf\":hp.quniform('min_samples_leaf',1,11,1),\n",
    "    \"criterion\":hp.choice('criterion',['gini','entropy'])\n",
    "}\n",
    "\n",
    "best = fmin(fn=objective,\n",
    "            space=space,\n",
    "            algo=tpe.suggest,\n",
    "            max_evals=50)\n",
    "print(\"Decision tree: Hyperopt estimated optimum {}\".format(best))"
   ]
  },
  {
   "cell_type": "code",
   "execution_count": null,
   "id": "6f477619-15fb-4fea-9563-e724dc2c1b1a",
   "metadata": {},
   "outputs": [],
   "source": [
    "dt_hpo = DecisionTreeClassifier(min_samples_leaf = 2, max_depth = 34, min_samples_split = 9, max_features = 12, criterion = 'entropy')\n",
    "dt_hpo.fit(X_train_1,y_train_1)\n",
    "dt_score=dt_hpo.score(X_test_1,y_test_1)\n",
    "y_predict_1=dt_hpo.predict(X_test_1)\n",
    "y_true_1=y_test_1\n",
    "print('Accuracy of DT: '+ str(dt_score))\n",
    "precision,recall,fscore,none= precision_recall_fscore_support(y_true_1, y_predict_1, average='weighted') \n",
    "print('Precision of DT: '+(str(precision)))\n",
    "print('Recall of DT: '+(str(recall)))\n",
    "print('F1-score of DT: '+(str(fscore)))\n",
    "print(classification_report(y_true_1,y_predict_1))\n",
    "cm=confusion_matrix(y_true_1,y_predict_1)\n",
    "f,ax=plt.subplots(figsize=(5,5))\n",
    "sns.heatmap(cm,annot=True,linewidth=0.5,linecolor=\"red\",fmt=\".0f\",ax=ax)\n",
    "plt.xlabel(\"y_pred\")\n",
    "plt.ylabel(\"y_true\")\n",
    "plt.show()"
   ]
  },
  {
   "cell_type": "code",
   "execution_count": null,
   "id": "71b0c74e-dfbe-46a1-a1ea-bcd71e53a6f1",
   "metadata": {},
   "outputs": [],
   "source": [
    "dt_train_1=dt_hpo.predict(X_train_1)\n",
    "dt_test_1=dt_hpo.predict(X_test_1)"
   ]
  },
  {
   "cell_type": "markdown",
   "id": "171c0e61-ad1c-45bd-a5a4-6d924e778e37",
   "metadata": {},
   "source": [
    "### CNN"
   ]
  },
  {
   "cell_type": "code",
   "execution_count": null,
   "id": "058184d0-1c72-46e8-90c3-a534a230b1b7",
   "metadata": {},
   "outputs": [],
   "source": [
    "import tensorflow as tf\n",
    "from tensorflow.keras.models import Sequential\n",
    "from tensorflow.keras.layers import Conv2D, MaxPooling2D, Flatten, Dense"
   ]
  },
  {
   "cell_type": "raw",
   "id": "99086d9e-c4c7-48a7-8511-7487089c2407",
   "metadata": {},
   "source": [
    "keras=tf.keras\n",
    "\n",
    "model = keras.models.Sequential([\n",
    "                                 keras.layers.Conv1D(32, kernel_size= 4, strides = 2, \n",
    "                                                     padding = 'valid'),\n",
    "                                 keras.layers.Conv1D(64, kernel_size=4, strides = 2, padding= 'valid'), \n",
    "                                 keras.layers.MaxPooling1D(), \n",
    "                                 keras.layers.Conv1D(128, kernel_size= 4, strides= 2), \n",
    "                                 keras.layers.Flatten(), \n",
    "                                 keras.layers.Dense(80, activation= 'relu'), \n",
    "                                 keras.layers.Dense(45, activation='relu'), \n",
    "                                 keras.layers.Dense(13, activation= 'softmax')\n",
    "])\n",
    "\n"
   ]
  },
  {
   "cell_type": "raw",
   "id": "fe58dad9-3d8f-40dd-ad9b-f556bc57f982",
   "metadata": {},
   "source": [
    "num_features = X_train.shape[1]\n",
    "num_classes = len(np.unique(y_train))\n",
    "\n",
    "\n",
    "# Create a simple fully connected neural network (FCNN)\n",
    "fcnn = Sequential([\n",
    "    Dense(64, activation='relu', input_shape=(num_features,)),\n",
    "    Dense(64, activation='relu'),\n",
    "    Dense(num_classes, activation='softmax')\n",
    "])\n",
    "\n",
    "# Compile the model\n",
    "cnn.compile(optimizer='adam', loss='sparse_categorical_crossentropy', metrics=['accuracy'])\n",
    "\n",
    "# Train the model\n",
    "cnn.fit(X_train, y_train, epochs=10, validation_data=(X_test, y_test))\n",
    "\n",
    "# Evaluate the model\n",
    "cnn_score = cnn.evaluate(X_test, y_test, verbose=0)\n",
    "print('Accuracy of CNN: ' + str(cnn_score[1]))\n",
    "\n",
    "# Predict using the model\n",
    "y_predict = np.argmax(cnn.predict(X_test), axis=-1)\n",
    "\n",
    "# Calculate precision, recall, and f1-score\n",
    "precision, recall, fscore, _ = precision_recall_fscore_support(y_test, y_predict, average='weighted')\n",
    "print('Precision of CNN: ' + str(precision))\n",
    "print('Recall of CNN: ' + str(recall))\n",
    "print('F1-score of CNN: ' + str(fscore))\n",
    "\n",
    "# Print classification report\n",
    "print(classification_report(y_test, y_predict))\n",
    "\n",
    "# Confusion matrix\n",
    "cm = confusion_matrix(y_test, y_predict)\n",
    "f, ax = plt.subplots(figsize=(5, 5))\n",
    "sns.heatmap(cm, annot=True, linewidths=0.5, linecolor=\"red\", fmt=\".0f\", ax=ax)\n",
    "plt.xlabel(\"y_pred\")\n",
    "plt.ylabel(\"y_true\")\n",
    "plt.show()"
   ]
  },
  {
   "cell_type": "code",
   "execution_count": null,
   "id": "b075a129-0f09-4378-8be7-af972b0ac987",
   "metadata": {},
   "outputs": [],
   "source": [
    "# Reshape the data for CNN input (assuming your data is not in image format)\n",
    "X_train_cnn = X_train.reshape(X_train.shape[0], X_train.shape[1], 1)\n",
    "X_test_cnn = X_test.reshape(X_test.shape[0], X_test.shape[1], 1)\n",
    "\n",
    "# Create and compile CNN model\n",
    "model_cnn = tf.keras.Sequential([\n",
    "    tf.keras.layers.Conv1D(64, 3, activation='relu', input_shape=(X_train_cnn.shape[1], 1)),\n",
    "    tf.keras.layers.MaxPooling1D(2),\n",
    "    tf.keras.layers.Flatten(),\n",
    "    tf.keras.layers.Dense(128, activation='relu'),\n",
    "    tf.keras.layers.Dense(1, activation='sigmoid')\n",
    "])\n",
    "\n",
    "model_cnn.compile(optimizer='adam', loss='binary_crossentropy', metrics=['accuracy'])\n",
    "\n",
    "# Train CNN model\n",
    "model_cnn.fit(X_train_cnn, y_train, epochs=10, validation_data=(X_test_cnn, y_test))\n",
    "\n",
    "# Evaluate CNN model\n",
    "cnn_score = model_cnn.evaluate(X_test_cnn, y_test, verbose=0)\n",
    "print('Accuracy of CNN: ' + str(cnn_score[1]))\n",
    "\n",
    "# Predict using the model\n",
    "y_predict_cnn = (model_cnn.predict(X_test_cnn) > 0.5).astype(\"int32\")\n",
    "\n",
    "# Calculate precision, recall, and F1-score\n",
    "precision_cnn, recall_cnn, fscore_cnn, _ = precision_recall_fscore_support(y_test, y_predict_cnn, average='weighted')\n",
    "print('Precision of CNN: ' + str(precision_cnn))\n",
    "print('Recall of CNN: ' + str(recall_cnn))\n",
    "print('F1-score of CNN: ' + str(fscore_cnn))\n",
    "\n",
    "# Print classification report\n",
    "print(classification_report(y_test, y_predict_cnn))\n",
    "\n",
    "# Confusion matrix\n",
    "cm_cnn = confusion_matrix(y_test, y_predict_cnn)\n",
    "f, ax = plt.subplots(figsize=(5, 5))\n",
    "sns.heatmap(cm_cnn, annot=True, linewidths=0.5, linecolor=\"red\", fmt=\".0f\", ax=ax)\n",
    "plt.xlabel(\"y_pred\")\n",
    "plt.ylabel(\"y_true\")\n",
    "plt.show()\n"
   ]
  },
  {
   "cell_type": "code",
   "execution_count": null,
   "id": "9090763b-3c53-4932-97e6-86b8c3dd90b7",
   "metadata": {},
   "outputs": [],
   "source": [
    "# Define the objective function for CNN\n",
    "def cnn_objective(params):\n",
    "    model = tf.keras.Sequential([\n",
    "        tf.keras.layers.Conv1D(filters=int(params['filters']), kernel_size=int(params['kernel_size']), activation='relu', input_shape=(X_train.shape[1], 1)),\n",
    "        tf.keras.layers.MaxPooling1D(pool_size=int(params['pool_size'])),\n",
    "        tf.keras.layers.Flatten(),\n",
    "        tf.keras.layers.Dense(int(params['dense_units']), activation='relu'),\n",
    "        tf.keras.layers.Dense(1, activation='sigmoid')\n",
    "    ])\n",
    "    model.compile(optimizer='adam', loss='binary_crossentropy', metrics=['accuracy'])\n",
    "    model.fit(X_train_cnn, y_train, epochs=int(params['epochs']), validation_data=(X_test_cnn, y_test), verbose=0)\n",
    "    _, accuracy = model.evaluate(X_test_cnn, y_test, verbose=0)\n",
    "    return {'loss': -accuracy, 'status': STATUS_OK}\n",
    "\n",
    "# Define the hyperparameter configuration space for CNN\n",
    "cnn_space = {\n",
    "    'filters': hp.quniform('filters', 32, 128, 1),\n",
    "    'kernel_size': hp.quniform('kernel_size', 3, 10, 1),\n",
    "    'pool_size': hp.quniform('pool_size', 2, 5, 1),\n",
    "    'dense_units': hp.quniform('dense_units', 32, 128, 1),\n",
    "    'epochs': hp.quniform('epochs', 5, 20, 1)\n",
    "}\n",
    "\n",
    "# Perform hyperparameter optimization for CNN\n",
    "cnn_trials = Trials()\n",
    "best_cnn = fmin(fn=cnn_objective, space=cnn_space, algo=tpe.suggest, max_evals=50, trials=cnn_trials)\n",
    "\n",
    "print(\"CNN: Hyperopt estimated optimum {}\".format(best_cnn))\n",
    "\n",
    "# Extract the best hyperparameters for CNN\n",
    "best_filters = int(best_cnn['filters'])\n",
    "best_kernel_size = int(best_cnn['kernel_size'])\n",
    "best_pool_size = int(best_cnn['pool_size'])\n",
    "best_dense_units = int(best_cnn['dense_units'])\n",
    "best_epochs = int(best_cnn['epochs'])\n",
    "\n",
    "# Create and train CNN model with best hyperparameters\n",
    "cnn_hpo = tf.keras.Sequential([\n",
    "    tf.keras.layers.Conv1D(filters=best_filters, kernel_size=best_kernel_size, activation='relu', input_shape=(X_train_cnn.shape[1], 1)),\n",
    "    tf.keras.layers.MaxPooling1D(pool_size=best_pool_size),\n",
    "    tf.keras.layers.Flatten(),\n",
    "    tf.keras.layers.Dense(best_dense_units, activation='relu'),\n",
    "    tf.keras.layers.Dense(1, activation='sigmoid')\n",
    "])\n",
    "cnn_hpo.compile(optimizer='adam', loss='binary_crossentropy', metrics=['accuracy'])\n",
    "cnn_hpo.fit(X_train_cnn, y_train, epochs=best_epochs, validation_data=(X_test_cnn, y_test))\n",
    "\n",
    "# Evaluate CNN model with best hyperparameters\n",
    "cnn_score = cnn_hpo.evaluate(X_test_cnn, y_test, verbose=0)\n",
    "print('Accuracy of CNN with best hyperparameters: ' + str(cnn_score[1]))\n",
    "\n",
    "# Predict using the CNN model with best hyperparameters\n",
    "y_predict_cnn = (cnn_hpo.predict(X_test_cnn) > 0.5).astype(\"int32\")\n",
    "\n",
    "# Calculate precision, recall, and F1-score for CNN model\n",
    "precision_cnn, recall_cnn, fscore_cnn, _ = precision_recall_fscore_support(y_test, y_predict_cnn, average='weighted')\n",
    "print('Precision of CNN with best hyperparameters: ' + str(precision_cnn))\n",
    "print('Recall of CNN with best hyperparameters: ' + str(recall_cnn))\n",
    "print('F1-score of CNN with best hyperparameters: ' + str(fscore_cnn))\n",
    "\n",
    "# Print classification report for CNN model\n",
    "print(classification_report(y_test, y_predict_cnn))\n",
    "\n",
    "# Confusion matrix for CNN model\n",
    "cm_cnn = confusion_matrix(y_test, y_predict_cnn)\n",
    "f, ax = plt.subplots(figsize=(5, 5))\n",
    "sns.heatmap(cm_cnn, annot=True, linewidths=0.5, linecolor=\"red\", fmt=\".0f\", ax=ax)\n",
    "plt.xlabel(\"y_pred\")\n",
    "plt.ylabel(\"y_true\")\n",
    "plt.show()"
   ]
  },
  {
   "cell_type": "code",
   "execution_count": null,
   "id": "60523290-88ec-426f-9288-1e1239fff07d",
   "metadata": {},
   "outputs": [],
   "source": [
    "cnn_train=cnn_hpo.predict(X_train_cnn)\n",
    "cnn_test=cnn_hpo.predict(X_test_cnn)"
   ]
  },
  {
   "cell_type": "markdown",
   "id": "e4b02436-8cec-419b-a234-c721b01fc1ec",
   "metadata": {},
   "source": [
    "#### CNN without FCBF"
   ]
  },
  {
   "cell_type": "code",
   "execution_count": null,
   "id": "302c74c8-2176-4e07-8208-7f424e431e60",
   "metadata": {},
   "outputs": [],
   "source": [
    "# Reshape the data for CNN input (assuming your data is not in image format)\n",
    "X_train_cnn_1 = X_train_1.reshape(X_train_1.shape[0], X_train_1.shape[1], 1)\n",
    "X_test_cnn_1 = X_test_1.reshape(X_test_1.shape[0], X_test_1.shape[1], 1)\n",
    "\n",
    "# Create and compile CNN model\n",
    "model_cnn = tf.keras.Sequential([\n",
    "    tf.keras.layers.Conv1D(64, 3, activation='relu', input_shape=(X_train_cnn_1.shape[1], 1)),\n",
    "    tf.keras.layers.MaxPooling1D(2),\n",
    "    tf.keras.layers.Flatten(),\n",
    "    tf.keras.layers.Dense(128, activation='relu'),\n",
    "    tf.keras.layers.Dense(1, activation='sigmoid')\n",
    "])\n",
    "\n",
    "model_cnn.compile(optimizer='adam', loss='binary_crossentropy', metrics=['accuracy'])\n",
    "\n",
    "# Train CNN model\n",
    "model_cnn.fit(X_train_cnn_1, y_train_1, epochs=10, validation_data=(X_test_cnn_1, y_test_1))\n",
    "\n",
    "# Evaluate CNN model\n",
    "cnn_score = model_cnn.evaluate(X_test_cnn_1, y_test_1, verbose=0)\n",
    "print('Accuracy of CNN: ' + str(cnn_score[1]))\n",
    "\n",
    "# Predict using the model\n",
    "y_predict_cnn_1 = (model_cnn.predict(X_test_cnn_1) > 0.5).astype(\"int32\")\n",
    "\n",
    "# Calculate precision, recall, and F1-score\n",
    "precision_cnn, recall_cnn, fscore_cnn, _ = precision_recall_fscore_support(y_test_1, y_predict_cnn_1, average='weighted')\n",
    "print('Precision of CNN: ' + str(precision_cnn))\n",
    "print('Recall of CNN: ' + str(recall_cnn))\n",
    "print('F1-score of CNN: ' + str(fscore_cnn))\n",
    "\n",
    "# Print classification report\n",
    "print(classification_report(y_test_1, y_predict_cnn_1))\n",
    "\n",
    "# Confusion matrix\n",
    "cm_cnn = confusion_matrix(y_test_1, y_predict_cnn_1)\n",
    "f, ax = plt.subplots(figsize=(5, 5))\n",
    "sns.heatmap(cm_cnn, annot=True, linewidths=0.5, linecolor=\"red\", fmt=\".0f\", ax=ax)\n",
    "plt.xlabel(\"y_pred\")\n",
    "plt.ylabel(\"y_true\")\n",
    "plt.show()\n"
   ]
  },
  {
   "cell_type": "code",
   "execution_count": null,
   "id": "5f71ac0d-706a-48c3-a7b1-aa8b6364d85b",
   "metadata": {},
   "outputs": [],
   "source": [
    "# Define the objective function for CNN\n",
    "def cnn_objective(params):\n",
    "    model = tf.keras.Sequential([\n",
    "        tf.keras.layers.Conv1D(filters=int(params['filters']), kernel_size=int(params['kernel_size']), activation='relu', input_shape=(X_train_1.shape[1], 1)),\n",
    "        tf.keras.layers.MaxPooling1D(pool_size=int(params['pool_size'])),\n",
    "        tf.keras.layers.Flatten(),\n",
    "        tf.keras.layers.Dense(int(params['dense_units']), activation='relu'),\n",
    "        tf.keras.layers.Dense(1, activation='sigmoid')\n",
    "    ])\n",
    "    model.compile(optimizer='adam', loss='binary_crossentropy', metrics=['accuracy'])\n",
    "    model.fit(X_train_cnn_1, y_train_1, epochs=int(params['epochs']), validation_data=(X_test_cnn_1, y_test_1), verbose=0)\n",
    "    _, accuracy = model.evaluate(X_test_cnn_1, y_test_1, verbose=0)\n",
    "    return {'loss': -accuracy, 'status': STATUS_OK}\n",
    "\n",
    "# Define the hyperparameter configuration space for CNN\n",
    "cnn_space = {\n",
    "    'filters': hp.quniform('filters', 32, 128, 1),\n",
    "    'kernel_size': hp.quniform('kernel_size', 3, 10, 1),\n",
    "    'pool_size': hp.quniform('pool_size', 2, 5, 1),\n",
    "    'dense_units': hp.quniform('dense_units', 32, 128, 1),\n",
    "    'epochs': hp.quniform('epochs', 5, 20, 1)\n",
    "}\n",
    "\n",
    "# Perform hyperparameter optimization for CNN\n",
    "cnn_trials = Trials()\n",
    "best_cnn = fmin(fn=cnn_objective, space=cnn_space, algo=tpe.suggest, max_evals=50, trials=cnn_trials)\n",
    "\n",
    "print(\"CNN: Hyperopt estimated optimum {}\".format(best_cnn))\n",
    "\n",
    "# Extract the best hyperparameters for CNN\n",
    "best_filters = int(best_cnn['filters'])\n",
    "best_kernel_size = int(best_cnn['kernel_size'])\n",
    "best_pool_size = int(best_cnn['pool_size'])\n",
    "best_dense_units = int(best_cnn['dense_units'])\n",
    "best_epochs = int(best_cnn['epochs'])\n",
    "\n",
    "# Create and train CNN model with best hyperparameters\n",
    "cnn_hpo = tf.keras.Sequential([\n",
    "    tf.keras.layers.Conv1D(filters=best_filters, kernel_size=best_kernel_size, activation='relu', input_shape=(X_train_cnn_1.shape[1], 1)),\n",
    "    tf.keras.layers.MaxPooling1D(pool_size=best_pool_size),\n",
    "    tf.keras.layers.Flatten(),\n",
    "    tf.keras.layers.Dense(best_dense_units, activation='relu'),\n",
    "    tf.keras.layers.Dense(1, activation='sigmoid')\n",
    "])\n",
    "cnn_hpo.compile(optimizer='adam', loss='binary_crossentropy', metrics=['accuracy'])\n",
    "cnn_hpo.fit(X_train_cnn_1, y_train_1, epochs=best_epochs, validation_data=(X_test_cnn_1, y_test_1))\n",
    "\n",
    "# Evaluate CNN model with best hyperparameters\n",
    "cnn_score = cnn_hpo.evaluate(X_test_cnn_1, y_test_1, verbose=0)\n",
    "print('Accuracy of CNN with best hyperparameters: ' + str(cnn_score[1]))\n",
    "\n",
    "# Predict using the CNN model with best hyperparameters\n",
    "y_predict_cnn_1 = (cnn_hpo.predict(X_test_cnn_1) > 0.5).astype(\"int32\")\n",
    "\n",
    "# Calculate precision, recall, and F1-score for CNN model\n",
    "precision_cnn, recall_cnn, fscore_cnn, _ = precision_recall_fscore_support(y_test_1, y_predict_cnn_1, average='weighted')\n",
    "print('Precision of CNN with best hyperparameters: ' + str(precision_cnn))\n",
    "print('Recall of CNN with best hyperparameters: ' + str(recall_cnn))\n",
    "print('F1-score of CNN with best hyperparameters: ' + str(fscore_cnn))\n",
    "\n",
    "# Print classification report for CNN model\n",
    "print(classification_report(y_test_1, y_predict_cnn_1))\n",
    "\n",
    "# Confusion matrix for CNN model\n",
    "cm_cnn = confusion_matrix(y_test_1, y_predict_cnn_1)\n",
    "f, ax = plt.subplots(figsize=(5, 5))\n",
    "sns.heatmap(cm_cnn, annot=True, linewidths=0.5, linecolor=\"red\", fmt=\".0f\", ax=ax)\n",
    "plt.xlabel(\"y_pred\")\n",
    "plt.ylabel(\"y_true\")\n",
    "plt.show()"
   ]
  },
  {
   "cell_type": "code",
   "execution_count": null,
   "id": "042dca2d-789b-4701-9ebc-8975d1352ffa",
   "metadata": {},
   "outputs": [],
   "source": [
    "cnn_train_1=cnn_hpo.predict(X_train_cnn_1)\n",
    "cnn_test_1=cnn_hpo.predict(X_test_cnn_1)"
   ]
  },
  {
   "cell_type": "markdown",
   "id": "c90301f4-7791-437b-b318-9dbf97a77960",
   "metadata": {},
   "source": [
    "### LSTM"
   ]
  },
  {
   "cell_type": "code",
   "execution_count": null,
   "id": "2676eb37-d4a6-479e-a8f7-36725c63db4b",
   "metadata": {},
   "outputs": [],
   "source": [
    "\n",
    "model_lstm = tf.keras.Sequential([\n",
    "    tf.keras.layers.LSTM(64, input_shape=(X_train.shape[1], 1)),\n",
    "    tf.keras.layers.Dense(1, activation='sigmoid')\n",
    "])\n",
    "\n",
    "model_lstm.compile(optimizer='adam', loss='binary_crossentropy', metrics=['accuracy'])\n",
    "\n",
    "# Train LSTM model\n",
    "model_lstm.fit(X_train, y_train, epochs=10, validation_data=(X_test, y_test))\n",
    "\n",
    "# Evaluate LSTM model\n",
    "lstm_score = model_lstm.evaluate(X_test, y_test, verbose=0)\n",
    "print('Accuracy of LSTM: ' + str(lstm_score[1]))\n",
    "\n",
    "# Predict using the model\n",
    "y_predict_lstm = (model_lstm.predict(X_test) > 0.5).astype(\"int32\")\n",
    "\n",
    "# Calculate precision, recall, and F1-score\n",
    "precision_lstm, recall_lstm, fscore_lstm, _ = precision_recall_fscore_support(y_test, y_predict_lstm, average='weighted')\n",
    "print('Precision of LSTM: ' + str(precision_lstm))\n",
    "print('Recall of LSTM: ' + str(recall_lstm))\n",
    "print('F1-score of LSTM: ' + str(fscore_lstm))\n",
    "\n",
    "# Print classification report\n",
    "print(classification_report(y_test, y_predict_lstm))\n",
    "\n",
    "# Confusion matrix\n",
    "cm_lstm = confusion_matrix(y_test, y_predict_lstm)\n",
    "f, ax = plt.subplots(figsize=(5, 5))\n",
    "sns.heatmap(cm_lstm, annot=True, linewidths=0.5, linecolor=\"red\", fmt=\".0f\", ax=ax)\n",
    "plt.xlabel(\"y_pred\")\n",
    "plt.ylabel(\"y_true\")\n",
    "plt.show()\n"
   ]
  },
  {
   "cell_type": "code",
   "execution_count": null,
   "id": "83e94377-3380-4325-8879-97a96187de5c",
   "metadata": {},
   "outputs": [],
   "source": [
    "# Define the objective function for LSTM\n",
    "def lstm_objective(params):\n",
    "    model = tf.keras.Sequential([\n",
    "        tf.keras.layers.LSTM(units=int(params['units']), input_shape=(X_train.shape[1], 1)),\n",
    "        tf.keras.layers.Dense(1, activation='sigmoid')\n",
    "    ])\n",
    "    model.compile(optimizer='adam', loss='binary_crossentropy', metrics=['accuracy'])\n",
    "    model.fit(X_train, y_train, epochs=int(params['epochs']), validation_data=(X_test, y_test), verbose=0)\n",
    "    _, accuracy = model.evaluate(X_test, y_test, verbose=0)\n",
    "    return {'loss': -accuracy, 'status': STATUS_OK}\n",
    "\n",
    "# Define the hyperparameter configuration space for LSTM\n",
    "lstm_space = {\n",
    "    'units': hp.quniform('units', 32, 128, 1),\n",
    "    'epochs': hp.quniform('epochs', 5, 20, 1)\n",
    "}\n",
    "\n",
    "# Perform hyperparameter optimization for LSTM\n",
    "lstm_trials = Trials()\n",
    "best_lstm = fmin(fn=lstm_objective, space=lstm_space, algo=tpe.suggest, max_evals=50, trials=lstm_trials)\n",
    "\n",
    "print(\"LSTM: Hyperopt estimated optimum {}\".format(best_lstm))\n",
    "\n",
    "# Extract the best hyperparameters for LSTM\n",
    "best_units = int(best_lstm['units'])\n",
    "best_epochs = int(best_lstm['epochs'])\n",
    "\n",
    "# Create and train LSTM model with best hyperparameters\n",
    "lstm_model = tf.keras.Sequential([\n",
    "    tf.keras.layers.LSTM(units=best_units, input_shape=(X_train.shape[1], 1)),\n",
    "    tf.keras.layers.Dense(1, activation='sigmoid')\n",
    "])\n",
    "lstm_model.compile(optimizer='adam', loss='binary_crossentropy', metrics=['accuracy'])\n",
    "lstm_model.fit(X_train, y_train, epochs=best_epochs, validation_data=(X_test, y_test))\n",
    "\n",
    "# Evaluate LSTM model with best hyperparameters\n",
    "lstm_score = lstm_model.evaluate(X_test, y_test, verbose=0)\n",
    "print('Accuracy of LSTM with best hyperparameters: ' + str(lstm_score[1]))\n",
    "\n",
    "# Predict using the LSTM model with best hyperparameters\n",
    "y_predict_lstm = (lstm_model.predict(X_test) > 0.5).astype(\"int32\")\n",
    "\n",
    "# Calculate precision, recall, and F1-score for LSTM model\n",
    "precision_lstm, recall_lstm, fscore_lstm, _ = precision_recall_fscore_support(y_test, y_predict_lstm, average='weighted')\n",
    "print('Precision of LSTM with best hyperparameters: ' + str(precision_lstm))\n",
    "print('Recall of LSTM with best hyperparameters: ' + str(recall_lstm))\n",
    "print('F1-score of LSTM with best hyperparameters: ' + str(fscore_lstm))\n",
    "\n",
    "# Print classification report for LSTM model\n",
    "print(classification_report(y_test, y_predict_lstm))\n",
    "\n",
    "# Confusion matrix for LSTM model\n",
    "cm_lstm = confusion_matrix(y_test, y_predict_lstm)\n",
    "f, ax = plt.subplots(figsize=(5, 5))\n",
    "sns.heatmap(cm_lstm, annot=True, linewidths=0.5, linecolor=\"red\", fmt=\".0f\", ax=ax)\n",
    "plt.xlabel(\"y_pred\")\n",
    "plt.ylabel(\"y_true\")\n",
    "plt.show()\n"
   ]
  },
  {
   "cell_type": "code",
   "execution_count": null,
   "id": "d354f5c4-5540-4a80-a956-8d958cbdc640",
   "metadata": {},
   "outputs": [],
   "source": [
    "lstm_train=lstm_model.predict(X_train)\n",
    "lstm_test=lstm_model.predict(X_test)"
   ]
  },
  {
   "cell_type": "markdown",
   "id": "ff2bdace-cde2-498d-954b-429ccc7c9e16",
   "metadata": {},
   "source": [
    "#### LSTM without FCBF"
   ]
  },
  {
   "cell_type": "code",
   "execution_count": null,
   "id": "aeb1fef7-b72f-4725-a49e-6f86ecedd93a",
   "metadata": {},
   "outputs": [],
   "source": [
    "\n",
    "model_lstm = tf.keras.Sequential([\n",
    "    tf.keras.layers.LSTM(64, input_shape=(X_train.shape[1], 1)),\n",
    "    tf.keras.layers.Dense(1, activation='sigmoid')\n",
    "])\n",
    "\n",
    "model_lstm.compile(optimizer='adam', loss='binary_crossentropy', metrics=['accuracy'])\n",
    "\n",
    "# Train LSTM model\n",
    "model_lstm.fit(X_train, y_train, epochs=10, validation_data=(X_test, y_test))\n",
    "\n",
    "# Evaluate LSTM model\n",
    "lstm_score = model_lstm.evaluate(X_test, y_test, verbose=0)\n",
    "print('Accuracy of LSTM: ' + str(lstm_score[1]))\n",
    "\n",
    "# Predict using the model\n",
    "y_predict_lstm = (model_lstm.predict(X_test) > 0.5).astype(\"int32\")\n",
    "\n",
    "# Calculate precision, recall, and F1-score\n",
    "precision_lstm, recall_lstm, fscore_lstm, _ = precision_recall_fscore_support(y_test, y_predict_lstm, average='weighted')\n",
    "print('Precision of LSTM: ' + str(precision_lstm))\n",
    "print('Recall of LSTM: ' + str(recall_lstm))\n",
    "print('F1-score of LSTM: ' + str(fscore_lstm))\n",
    "\n",
    "# Print classification report\n",
    "print(classification_report(y_test, y_predict_lstm))\n",
    "\n",
    "# Confusion matrix\n",
    "cm_lstm = confusion_matrix(y_test, y_predict_lstm)\n",
    "f, ax = plt.subplots(figsize=(5, 5))\n",
    "sns.heatmap(cm_lstm, annot=True, linewidths=0.5, linecolor=\"red\", fmt=\".0f\", ax=ax)\n",
    "plt.xlabel(\"y_pred\")\n",
    "plt.ylabel(\"y_true\")\n",
    "plt.show()\n"
   ]
  },
  {
   "cell_type": "code",
   "execution_count": null,
   "id": "191084e7-f9a5-4fcd-b687-c2d4b5a04217",
   "metadata": {},
   "outputs": [],
   "source": []
  },
  {
   "cell_type": "code",
   "execution_count": null,
   "id": "f3399274-5bc1-4877-addf-cd274a2c8798",
   "metadata": {},
   "outputs": [],
   "source": []
  },
  {
   "cell_type": "code",
   "execution_count": null,
   "id": "44575baa-e2fd-48e5-b875-b0cb916cce70",
   "metadata": {},
   "outputs": [],
   "source": []
  },
  {
   "cell_type": "markdown",
   "id": "3ace10ad-d02e-45b2-bd6f-5e9a5864937e",
   "metadata": {},
   "source": [
    "### SVM"
   ]
  },
  {
   "cell_type": "code",
   "execution_count": null,
   "id": "a0935be1-25ea-44b4-a7cc-d38e85555594",
   "metadata": {},
   "outputs": [],
   "source": [
    "from sklearn.svm import SVC\n",
    "\n",
    "svm = SVC(random_state=0)\n",
    "svm.fit(X_train, y_train)\n",
    "\n",
    "# Evaluate SVM classifier\n",
    "svm_score = svm.score(X_test, y_test)\n",
    "print('Accuracy of SVM: ' + str(svm_score))\n",
    "\n",
    "# Predict using SVM classifier\n",
    "y_predict = svm.predict(X_test)\n",
    "y_true = y_test\n",
    "\n",
    "# Calculate precision, recall, and F1-score for SVM classifier\n",
    "precision, recall, fscore, _ = precision_recall_fscore_support(y_true, y_predict, average='weighted')\n",
    "print('Precision of SVM: ' + str(precision))\n",
    "print('Recall of SVM: ' + str(recall))\n",
    "print('F1-score of SVM: ' + str(fscore))\n",
    "\n",
    "# Print classification report for SVM classifier\n",
    "print(classification_report(y_true, y_predict))\n",
    "\n",
    "# Confusion matrix for SVM classifier\n",
    "cm = confusion_matrix(y_true, y_predict)\n",
    "f, ax = plt.subplots(figsize=(5, 5))\n",
    "sns.heatmap(cm, annot=True, linewidths=0.5, linecolor=\"red\", fmt=\".0f\", ax=ax)\n",
    "plt.xlabel(\"y_pred\")\n",
    "plt.ylabel(\"y_true\")\n",
    "plt.show()"
   ]
  },
  {
   "cell_type": "code",
   "execution_count": null,
   "id": "7a8c03ae-df5d-41f9-a1cf-0a93f7272f51",
   "metadata": {},
   "outputs": [],
   "source": [
    "# Define the objective function for SVM\n",
    "def svm_objective(params):\n",
    "    params = {\n",
    "        'C': float(params['C']),\n",
    "        'kernel': str(params['kernel']),\n",
    "        'gamma': str(params['gamma']) if params['kernel'] == 'rbf' else 'scale',  # gamma only for 'rbf' kernel\n",
    "        'degree': int(params['degree']) if params['kernel'] == 'poly' else 3,  # degree only for 'poly' kernel\n",
    "    }\n",
    "    clf = SVC(**params, random_state=0)\n",
    "    clf.fit(X_train, y_train)\n",
    "    score = clf.score(X_test, y_test)\n",
    "    return {'loss': -score, 'status': STATUS_OK}\n",
    "\n",
    "# Define the hyperparameter configuration space for SVM\n",
    "svm_space = {\n",
    "    'C': hp.loguniform('C', np.log(1e-6), np.log(1e+3)),\n",
    "    'kernel': hp.choice('kernel', ['linear', 'poly', 'rbf', 'sigmoid']),\n",
    "    'gamma': hp.choice('gamma', ['scale', 'auto']),\n",
    "    'degree': hp.quniform('degree', 2, 5, 1)\n",
    "}\n",
    "\n",
    "# Perform hyperparameter optimization for SVM\n",
    "svm_trials = Trials()\n",
    "best_svm = fmin(fn=svm_objective, space=svm_space, algo=tpe.suggest, max_evals=50, trials=svm_trials)\n",
    "\n",
    "print(\"SVM: Hyperopt estimated optimum {}\".format(best_svm))\n",
    "\n",
    "# Extract the best hyperparameters for SVM\n",
    "best_svm_params = {\n",
    "    'C': best_svm['C'],\n",
    "    'kernel': ['linear', 'poly', 'rbf', 'sigmoid'][best_svm['kernel']],\n",
    "    'gamma': ['scale', 'auto'][best_svm['gamma']],\n",
    "    'degree': int(best_svm['degree']) if 'degree' in best_svm else 3\n",
    "}\n",
    "\n",
    "# Create and train SVM model with best hyperparameters\n",
    "svm_hpo = SVC(**best_svm_params, random_state=0)\n",
    "svm_hpo.fit(X_train, y_train)\n",
    "svm_score = svm_hpo.score(X_test, y_test)\n",
    "print('Accuracy of SVM with best hyperparameters: ' + str(svm_score))\n",
    "\n",
    "# Predict using the SVM model with best hyperparameters\n",
    "y_predict_svm = svm_hpo.predict(X_test)\n",
    "y_true = y_test\n",
    "\n",
    "# Calculate precision, recall, and F1-score for SVM model\n",
    "precision_svm, recall_svm, fscore_svm, _ = precision_recall_fscore_support(y_true, y_predict_svm, average='weighted')\n",
    "print('Precision of SVM with best hyperparameters: ' + str(precision_svm))\n",
    "print('Recall of SVM with best hyperparameters: ' + str(recall_svm))\n",
    "print('F1-score of SVM with best hyperparameters: ' + str(fscore_svm))\n",
    "\n",
    "# Print classification report for SVM model\n",
    "print(classification_report(y_true, y_predict_svm))\n",
    "\n",
    "# Confusion matrix for SVM model\n",
    "cm_svm = confusion_matrix(y_true, y_predict_svm)\n",
    "f, ax = plt.subplots(figsize=(5, 5))\n",
    "sns.heatmap(cm_svm, annot=True, linewidths=0.5, linecolor=\"red\", fmt=\".0f\", ax=ax)\n",
    "plt.xlabel(\"y_pred\")\n",
    "plt.ylabel(\"y_true\")\n",
    "plt.show()"
   ]
  },
  {
   "cell_type": "code",
   "execution_count": null,
   "id": "52f0beaa-502f-4151-a508-ebc45dc2cb8d",
   "metadata": {},
   "outputs": [],
   "source": [
    "svm_train=svm_hpo.predict(X_train)\n",
    "svm_test=svm_hpo.predict(X_test)"
   ]
  },
  {
   "cell_type": "code",
   "execution_count": null,
   "id": "8ab7aa65-abd4-4d48-8d67-353d194f76c0",
   "metadata": {},
   "outputs": [],
   "source": []
  },
  {
   "cell_type": "markdown",
   "id": "ed0f9cab-7d10-44f5-924e-70016f738375",
   "metadata": {},
   "source": [
    "### Apply Stacking\n",
    "The ensemble model that combines the four ML models (DT, RF, CNN, LSTM, XGBoost)"
   ]
  },
  {
   "cell_type": "code",
   "execution_count": null,
   "id": "c448b759-3a6f-4874-9f2c-641d08af3b9a",
   "metadata": {},
   "outputs": [],
   "source": [
    "base_predictions_train = pd.DataFrame( {\n",
    "    'DecisionTree': dt_train.ravel(),\n",
    "        'RandomForest': rf_train.ravel(),\n",
    "     'CNN': cnn_train.ravel(),\n",
    "    'LSTM': lstm_train.ravel(),\n",
    "    'SVM':svm_train.ravel(),\n",
    "     'XgBoost': xg_train.ravel(),\n",
    "    })\n",
    "base_predictions_train.head(5)"
   ]
  },
  {
   "cell_type": "code",
   "execution_count": null,
   "id": "afb4c5c5-0a7c-4c16-8861-39f0339d4b52",
   "metadata": {},
   "outputs": [],
   "source": [
    "dt_train=dt_train.reshape(-1, 1)\n",
    "cnn_train=cnn_train.reshape(-1, 1)\n",
    "lstm_train=lstm_train.reshape(-1, 1)\n",
    "rf_train=rf_train.reshape(-1, 1)\n",
    "xg_train=xg_train.reshape(-1, 1)\n",
    "svm_train=svm_train.reshape(-1,1)\n",
    "\n",
    "dt_test=dt_test.reshape(-1, 1)\n",
    "cnn_test=cnn_test.reshape(-1, 1)\n",
    "lstm_test=lstm_test.reshape(-1, 1)\n",
    "rf_test=rf_test.reshape(-1, 1)\n",
    "xg_test=xg_test.reshape(-1, 1)\n",
    "svm_test=svm_test.reshape(-1,1)\n"
   ]
  },
  {
   "cell_type": "code",
   "execution_count": null,
   "id": "7e959015-b8b0-44c9-bcff-617eff4abb3b",
   "metadata": {},
   "outputs": [],
   "source": [
    "dt_train.shape"
   ]
  },
  {
   "cell_type": "code",
   "execution_count": null,
   "id": "2d63f11a-92a7-439b-b0b0-eda83c6d1838",
   "metadata": {},
   "outputs": [],
   "source": [
    "x_train = np.concatenate(( dt_train, cnn_train, lstm_train, rf_train, xg_train, svm_train), axis=1)\n",
    "x_test = np.concatenate(( dt_test, cnn_test, lstm_test, rf_test, xg_test, svm_test), axis=1)"
   ]
  },
  {
   "cell_type": "code",
   "execution_count": null,
   "id": "99b4cd30-d555-493d-a00d-1c0cb053c2fc",
   "metadata": {},
   "outputs": [],
   "source": [
    "stk = xgb.XGBClassifier().fit(x_train, y_train)\n",
    "y_predict=stk.predict(x_test)\n",
    "y_true=y_test\n",
    "stk_score=accuracy_score(y_true,y_predict)\n",
    "print('Accuracy of Stacking: '+ str(stk_score))\n",
    "precision,recall,fscore,none= precision_recall_fscore_support(y_true, y_predict, average='weighted') \n",
    "print('Precision of Stacking: '+(str(precision)))\n",
    "print('Recall of Stacking: '+(str(recall)))\n",
    "print('F1-score of Stacking: '+(str(fscore)))\n",
    "print(classification_report(y_true,y_predict))\n",
    "cm=confusion_matrix(y_true,y_predict)\n",
    "f,ax=plt.subplots(figsize=(5,5))\n",
    "sns.heatmap(cm,annot=True,linewidth=0.5,linecolor=\"red\",fmt=\".0f\",ax=ax)\n",
    "plt.xlabel(\"y_pred\")\n",
    "plt.ylabel(\"y_true\")\n",
    "plt.show()"
   ]
  },
  {
   "cell_type": "markdown",
   "id": "fb753400-f883-4975-81a9-b498704c6071",
   "metadata": {},
   "source": [
    "#### Hyperparameter optimization (HPO) of the stacking ensemble model (XGBoost) using Bayesian optimization with tree-based Parzen estimator (BO-TPE)\n",
    "Based on the GitHub repo for HPO: https://github.com/LiYangHart/Hyperparameter-Optimization-of-Machine-Learning-Algorithms"
   ]
  },
  {
   "cell_type": "code",
   "execution_count": null,
   "id": "ef582a2f-b364-4efc-a1c8-d944900d849a",
   "metadata": {},
   "outputs": [],
   "source": [
    "def objective(params):\n",
    "    params = {\n",
    "        'n_estimators': int(params['n_estimators']), \n",
    "        'max_depth': int(params['max_depth']),\n",
    "        'learning_rate':  abs(float(params['learning_rate'])),\n",
    "\n",
    "    }\n",
    "    clf = xgb.XGBClassifier( **params)\n",
    "    clf.fit(x_train, y_train)\n",
    "    y_pred = clf.predict(x_test)\n",
    "    score = accuracy_score(y_test, y_pred)\n",
    "\n",
    "    return {'loss':-score, 'status': STATUS_OK }\n",
    "\n",
    "space = {\n",
    "    'n_estimators': hp.quniform('n_estimators', 10, 100, 5),\n",
    "    'max_depth': hp.quniform('max_depth', 4, 100, 1),\n",
    "    'learning_rate': hp.normal('learning_rate', 0.01, 0.9),\n",
    "}\n",
    "\n",
    "best = fmin(fn=objective,\n",
    "            space=space,\n",
    "            algo=tpe.suggest,\n",
    "            max_evals=20)\n",
    "print(\"XGBoost: Hyperopt estimated optimum {}\".format(best))"
   ]
  },
  {
   "cell_type": "code",
   "execution_count": null,
   "id": "f022a47b-5bf5-4c31-8689-c556c1de879b",
   "metadata": {},
   "outputs": [],
   "source": [
    "xg = xgb.XGBClassifier(learning_rate= 0.22000784172473817, n_estimators = 35, max_depth = 49)\n",
    "xg.fit(x_train,y_train)\n",
    "xg_score=xg.score(x_test,y_test)\n",
    "y_predict=xg.predict(x_test)\n",
    "y_true=y_test\n",
    "print('Accuracy of XGBoost: '+ str(xg_score))\n",
    "precision,recall,fscore,none= precision_recall_fscore_support(y_true, y_predict, average='weighted') \n",
    "print('Precision of XGBoost: '+(str(precision)))\n",
    "print('Recall of XGBoost: '+(str(recall)))\n",
    "print('F1-score of XGBoost: '+(str(fscore)))\n",
    "print(classification_report(y_true,y_predict))\n",
    "cm=confusion_matrix(y_true,y_predict)\n",
    "f,ax=plt.subplots(figsize=(5,5))\n",
    "sns.heatmap(cm,annot=True,linewidth=0.5,linecolor=\"red\",fmt=\".0f\",ax=ax)\n",
    "plt.xlabel(\"y_pred\")\n",
    "plt.ylabel(\"y_true\")\n",
    "plt.show()"
   ]
  },
  {
   "cell_type": "code",
   "execution_count": null,
   "id": "1e1be04f-57be-4381-8c74-25b44e61fd51",
   "metadata": {},
   "outputs": [],
   "source": []
  },
  {
   "cell_type": "markdown",
   "id": "3d50261d-adbd-4611-b044-f8c4370bf5e6",
   "metadata": {},
   "source": [
    "## Anomaly Based Detection"
   ]
  },
  {
   "cell_type": "markdown",
   "id": "a584589c-5206-466a-a577-3f607770f0f9",
   "metadata": {},
   "source": [
    "### Generate the port-scan datasets for unknown attack detection"
   ]
  },
  {
   "cell_type": "code",
   "execution_count": null,
   "id": "69c25fdb-fb15-4c7c-8284-0285144f2f1a",
   "metadata": {},
   "outputs": [],
   "source": [
    "df2=pd.read_csv('./data/CICIDS2017_sample_km.csv')"
   ]
  },
  {
   "cell_type": "code",
   "execution_count": null,
   "id": "d1c7c80a-1a56-4ebb-a568-a76edc6fe68c",
   "metadata": {},
   "outputs": [],
   "source": [
    "df2.Label.value_counts()"
   ]
  },
  {
   "cell_type": "code",
   "execution_count": null,
   "id": "4e0e8c3f-c57c-43f7-8ea7-8eef781f8a44",
   "metadata": {},
   "outputs": [],
   "source": [
    "df3 = df2[df2['Label'] != 5]\n",
    "df3['Label'][df3['Label'] > 0] = 1\n",
    "df3.to_csv('./data/CICIDS2017_sample_km_without_portscan.csv',index=0)"
   ]
  },
  {
   "cell_type": "code",
   "execution_count": null,
   "id": "e45490f0-b88c-4473-bd2b-257aaf99b40f",
   "metadata": {},
   "outputs": [],
   "source": [
    "df4 = df2[df2['Label'] == 5]\n",
    "df4['Label'][df4['Label'] == 5] = 1\n",
    "df4.to_csv('./data/CICIDS2017_sample_km_portscan.csv',index=0)"
   ]
  },
  {
   "cell_type": "markdown",
   "id": "3f5301b1-8cea-43de-965c-99ebbd8fa2cf",
   "metadata": {},
   "source": [
    "### Read the generated datasets for unknown attack detection"
   ]
  },
  {
   "cell_type": "code",
   "execution_count": null,
   "id": "803b9d7a-9a57-4533-81ce-32b3661e8e81",
   "metadata": {},
   "outputs": [],
   "source": [
    "df3 = pd.read_csv('./data/CICIDS2017_sample_km_without_portscan.csv')\n",
    "df4 = pd.read_csv('./data/CICIDS2017_sample_km_portscan.csv')"
   ]
  },
  {
   "cell_type": "code",
   "execution_count": null,
   "id": "f301e33a-5cc1-43cd-875f-1d06e864636a",
   "metadata": {},
   "outputs": [],
   "source": [
    "features = df3.drop(['Label'],axis=1).dtypes[df3.dtypes != 'object'].index\n",
    "df3[features] = df3[features].apply(\n",
    "    lambda x: (x - x.mean()) / (x.std()))\n",
    "df4[features] = df4[features].apply(\n",
    "    lambda x: (x - x.mean()) / (x.std()))\n",
    "df3 = df3.fillna(0)\n",
    "df4 = df4.fillna(0)"
   ]
  },
  {
   "cell_type": "code",
   "execution_count": null,
   "id": "ed103c48-7a2b-4110-a71d-8a00d0fc4e36",
   "metadata": {},
   "outputs": [],
   "source": [
    "df3.Label.value_counts()"
   ]
  },
  {
   "cell_type": "code",
   "execution_count": null,
   "id": "d84d1f7b-269d-4957-ad66-59a5f176df43",
   "metadata": {},
   "outputs": [],
   "source": [
    "df4.Label.value_counts()"
   ]
  },
  {
   "cell_type": "markdown",
   "id": "e0900cf5-e8a8-4453-b11f-88cf8a0b2dbb",
   "metadata": {},
   "source": [
    "##### Aborting Anomaly Based here due to low sample size for sampled dataset!!!!!!"
   ]
  },
  {
   "cell_type": "code",
   "execution_count": null,
   "id": "edd044f5-2bfe-4fe9-824e-cebe0ebd1dd9",
>>>>>>> ca757fe382360f92b5d498a30439226aa91a9788
   "metadata": {},
   "outputs": [],
   "source": []
  }
 ],
 "metadata": {
  "kernelspec": {
   "display_name": "Python 3 (ipykernel)",
   "language": "python",
   "name": "python3"
  },
  "language_info": {
   "codemirror_mode": {
    "name": "ipython",
    "version": 3
   },
   "file_extension": ".py",
   "mimetype": "text/x-python",
   "name": "python",
   "nbconvert_exporter": "python",
   "pygments_lexer": "ipython3",
   "version": "3.11.7"
  }
 },
 "nbformat": 4,
 "nbformat_minor": 5
}
